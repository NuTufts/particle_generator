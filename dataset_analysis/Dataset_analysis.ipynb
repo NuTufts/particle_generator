{
 "cells": [
  {
   "cell_type": "code",
   "execution_count": 6,
   "metadata": {},
   "outputs": [],
   "source": [
    "# Imports\n",
    "import os\n",
    "import cv2 as cv\n",
    "import numpy as np\n",
    "import matplotlib.pyplot as plt\n",
    "%matplotlib inline\n",
    "\n",
    "# Scipy center of mass function\n",
    "from scipy.ndimage.measurements import center_of_mass as CoM"
   ]
  },
  {
   "cell_type": "code",
   "execution_count": null,
   "metadata": {},
   "outputs": [],
   "source": [
    "# Select MNIST\n",
    "MNIST = False\n",
    "if MNIST:\n",
    "    data_root = \"/media/hdd1/kai/datasets/mnist/\"\n",
    "    # Import torch and related functionality \n",
    "    pass"
   ]
  },
  {
   "cell_type": "code",
   "execution_count": null,
   "metadata": {},
   "outputs": [],
   "source": [
    "# Set the size of the image data to be analyzed\n",
    "imsize = 512"
   ]
  },
  {
   "cell_type": "code",
   "execution_count": null,
   "metadata": {},
   "outputs": [],
   "source": [
    "# Set paths for loading and saving data\n",
    "data_root = \"/media/hdd1/kai/particle_generator/larcv_data/larcv_png_{}/larcv_png_{}/\".format(imsize, imsize)"
   ]
  },
  {
   "cell_type": "code",
   "execution_count": 2,
   "metadata": {},
   "outputs": [],
   "source": [
    "# Set up variables for logging results\n",
    "pix_totals = []; p_fill = []; centroids_x = []; centroids_y = []; images = []"
   ]
  },
  {
   "cell_type": "code",
   "execution_count": null,
   "metadata": {},
   "outputs": [],
   "source": [
    "# Load the image data\n",
    "print(\"Loading images from {}\".format(data_root))\n",
    "\n",
    "for image_path in os.listdir(data_root):\n",
    "    in_path = os.path.join(data_root, image_path)\n",
    "    images.append(cv.imread(in_path, 0))\n",
    "\n",
    "print(\"Finished loading {} images\".format(len(images)))"
   ]
  },
  {
   "cell_type": "code",
   "execution_count": null,
   "metadata": {},
   "outputs": [],
   "source": [
    "# Perform analysis of the image data\n",
    "\n",
    "for image in images:\n",
    "    # Get the weighted centroid position\n",
    "    com = CoM(image)\n",
    "    \n",
    "    # check if computation returned NaN -- happens when centroid location is non-sensical\n",
    "    if com[0] != com[0]:\n",
    "        del image\n",
    "        continue\n",
    "    else:\n",
    "        centroids_x.append(int(com[0]))\n",
    "        centroids_y.append(int(com[1]))\n",
    "    \n",
    "    # Binarize the image in order to compute the percentage filled\n",
    "    image = np.where(image > 0, 1, 0)\n",
    "    pix_totals.append( np.sum(image) )\n",
    "    p_fill.append( round(pix_totals[-1]/imsize**2, 2) )"
   ]
  },
  {
   "cell_type": "markdown",
   "metadata": {},
   "source": [
    "### Plot the locations of the average centroid location per image"
   ]
  },
  {
   "cell_type": "code",
   "execution_count": null,
   "metadata": {},
   "outputs": [],
   "source": [
    "# Plot the centroid locations\n",
    "fig, axes = plt.subplots(1,1)\n",
    "fig.suptitle(\"Average centroid coordinates\")\n",
    "\n",
    "axes.set_title(\"[{}_{}] LArCV1 Dataset\".format(imsize, imsize), color=\"white\", fontsize=\"small\")\n",
    "axes.set_xlabel(\"Average weighted x-coordinate\")\n",
    "axes.set_ylabel(\"Average weighted y-coordinate\")\n",
    "axes.set_facecolor(\"#443941\")\n",
    "\n",
    "# Stylize\n",
    "axes.spines['bottom'].set_color('white')\n",
    "axes.spines['top'].set_color('white')\n",
    "axes.spines['left'].set_color('white')\n",
    "axes.spines['right'].set_color('white')\n",
    "axes.xaxis.label.set_color('white')\n",
    "axes.yaxis.label.set_color('white')\n",
    "axes.tick_params(axis='x', colors='white')\n",
    "axes.tick_params(axis='y', colors='white')\n",
    "\n",
    "# Plot data\n",
    "axes.scatter(centroids_x, centroids_y)\n",
    "\n",
    "# Colorbar\n",
    "fig.colorbar(orientation=\"vertical\")\n",
    "\n",
    "# Generate and save image\n",
    "plt.legend()\n",
    "plt.savefig(\"avg_com_{}_dataset.png\".format(imsize), dpi=300, facecolor='#443941')"
   ]
  },
  {
   "cell_type": "markdown",
   "metadata": {},
   "source": [
    "### Plot the fill percentages of the dataset"
   ]
  },
  {
   "cell_type": "code",
   "execution_count": null,
   "metadata": {},
   "outputs": [],
   "source": [
    "# Compute the RMS values of the pixel totals\n",
    "pix_rms = np.sqrt(np.mean(np.square(pix_totals)))"
   ]
  },
  {
   "cell_type": "code",
   "execution_count": null,
   "metadata": {},
   "outputs": [],
   "source": [
    "# Plot the fill percentages of the entire dataset\n",
    "fig, axes = plt.subplots(1,1)\n",
    "fig.suptitle(\"Image Fill Percentages\")\n",
    "\n",
    "axes.set_title(\"[{}_{}] LArCV1 Dataset\".format(imsize, imsize), color=\"white\", fontsize=\"small\")\n",
    "axes.set_xlabel(\"Average weighted x-coordinate\")\n",
    "axes.set_ylabel(\"Average weighted y-coordinate\")\n",
    "axes.set_facecolor(\"#443941\")\n",
    "\n",
    "# Stylize\n",
    "axes.spines['bottom'].set_color('white')\n",
    "axes.spines['top'].set_color('white')\n",
    "axes.spines['left'].set_color('white')\n",
    "axes.spines['right'].set_color('white')\n",
    "axes.xaxis.label.set_color('white')\n",
    "axes.yaxis.label.set_color('white')\n",
    "axes.tick_params(axis='x', colors='white')\n",
    "axes.tick_params(axis='y', colors='white')\n",
    "\n",
    "# Plot data\n",
    "axes.scatter(pix_rms, p_fill)\n",
    "\n",
    "# Generate and save image\n",
    "plt.legend()\n",
    "plt.savefig(\"p_fill_{}_dataset.png\".format(imsize), dpi=300, facecolor='#443941')"
   ]
  }
 ],
 "metadata": {
  "kernelspec": {
   "display_name": "Python 3",
   "language": "python",
   "name": "python3"
  },
  "language_info": {
   "codemirror_mode": {
    "name": "ipython",
    "version": 3
   },
   "file_extension": ".py",
   "mimetype": "text/x-python",
   "name": "python",
   "nbconvert_exporter": "python",
   "pygments_lexer": "ipython3",
   "version": "3.7.5"
  }
 },
 "nbformat": 4,
 "nbformat_minor": 2
}
