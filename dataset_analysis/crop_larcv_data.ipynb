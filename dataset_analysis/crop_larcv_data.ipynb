{
 "cells": [
  {
   "cell_type": "code",
   "execution_count": null,
   "metadata": {},
   "outputs": [],
   "source": [
    "# Imports\n",
    "import os\n",
    "import cv2 as cv\n",
    "import numpy as np\n",
    "import matplotlib.pyplot as plt\n",
    "%matplotlib inline\n",
    "\n",
    "# Scipy center of mass function\n",
    "from scipy.ndimage.measurements import center_of_mass as CoM"
   ]
  },
  {
   "cell_type": "code",
   "execution_count": 2,
   "metadata": {},
   "outputs": [],
   "source": [
    "# Set the location of the LArCV 512x512 data\n",
    "data_root = \"/media/disk1/kai/larcv_png_data/larcv_png_512/larcv_png_512/\"\n",
    "image_data = []"
   ]
  },
  {
   "cell_type": "code",
   "execution_count": null,
   "metadata": {},
   "outputs": [],
   "source": [
    "# Load the 512x512 data\n",
    "print(\"Loading images from {}\".format(data_root))\n",
    "\n",
    "for image_path in os.listdir(data_root):\n",
    "    in_path = os.path.join(data_root, image_path)\n",
    "    image_data.append(cv.imread(in_path, 0))\n",
    "\n",
    "print(\"Finished loading {} images\".format(len(image_data)))"
   ]
  },
  {
   "cell_type": "markdown",
   "metadata": {},
   "source": [
    "Once the LArCV 512 image data is loaded, cropping procedure can be run any number of times"
   ]
  },
  {
   "cell_type": "code",
   "execution_count": null,
   "metadata": {},
   "outputs": [],
   "source": [
    "# Set the desired crop size and set the save location for the new image crops\n",
    "crop_dim = 256\n",
    "im_crops = []\n",
    "save_path = \"/media/hdd1/kai/particle_generator/larcv_data/larcv_png_{}/larcv_png_{}/\".format(crop_dim, crop_dim)"
   ]
  },
  {
   "cell_type": "code",
   "execution_count": 1,
   "metadata": {},
   "outputs": [],
   "source": [
    "# Set up variables for logging centroids\n",
    "centroids_x = []; centroids_y = []"
   ]
  },
  {
   "cell_type": "markdown",
   "metadata": {},
   "source": [
    "### Compute set of cropped images"
   ]
  },
  {
   "cell_type": "code",
   "execution_count": null,
   "metadata": {},
   "outputs": [],
   "source": [
    "imsize = 512\n",
    "for idx, image in enumerate(image_data):\n",
    "\n",
    "    # Check that the image is at least 1% filled\n",
    "    pix_check = np.where(image > 0, 1, 0)\n",
    "    pix_percentage = (np.sum(pix_check) / pix_check.flatten().shape[0]) > 0.01\n",
    "    if not pix_percentage:\n",
    "        del image\n",
    "        continue\n",
    "    del pix_check\n",
    "\n",
    "    # Get the weighted centroid position\n",
    "    com = CoM(image)\n",
    "    \n",
    "    # check if computation returned NaN -- happens when centroid location is non-sensical\n",
    "    if com[0] != com[0]:\n",
    "        del image\n",
    "        continue\n",
    "\n",
    "    # Track centroids\n",
    "    centroids_x.append(int(com[0]))\n",
    "    centroids_y.append(int(com[1]))\n",
    "    \n",
    "    # Ensure that the centroid location in within acceptable bounds from the edge\n",
    "    check_x = (centroid_x[-1] > crop_dim) and ((imsize - centroid_x[-1]) > crop_dim)\n",
    "    check_y = (centroid_y[-1] > crop_dim) and ((imsize - centroid_y[-1]) > crop_dim)\n",
    "    \n",
    "    if check_x and check_y:\n",
    "        x1 = centroids_x[-1] - crop_dim; x2 = centroids_x[-1] + crop_dim\n",
    "        y1 = centroids_y[-1] - crop_dim; y2 = centroids_y[-1] + crop_dim\n",
    "        im_crops.append(image[x1:x2, y1:y2])\n",
    "    else:\n",
    "        del image\n",
    "        continue"
   ]
  },
  {
   "cell_type": "code",
   "execution_count": null,
   "metadata": {},
   "outputs": [],
   "source": [
    "print(\"-\"*60)\n",
    "print(\"Generated {} images at [{}x{}] resolution\".format(len(im_crops), crop_dim, crop_dim))\n",
    "print(\"This represents ~{} percent of the original dataset\".format( round(len(im_crops)/len(image_data),2) ) )\n",
    "print(\"-\"*60)"
   ]
  },
  {
   "cell_type": "markdown",
   "metadata": {},
   "source": [
    "### Grab sample of newly cropped images"
   ]
  },
  {
   "cell_type": "code",
   "execution_count": null,
   "metadata": {},
   "outputs": [],
   "source": [
    "fig = plt.figure()\n",
    "n_row = 4; n_col = 4\n",
    "\n",
    "for i in range(1, nrow*n_col + 1):\n",
    "    fig.add_subplot(n_row, n_col, i)\n",
    "    plt.imshow(im_crops[i])"
   ]
  },
  {
   "cell_type": "markdown",
   "metadata": {},
   "source": [
    "### Save newly cropped images to specified save_path"
   ]
  },
  {
   "cell_type": "code",
   "execution_count": null,
   "metadata": {},
   "outputs": [],
   "source": [
    "# Check that save_path exists\n",
    "if not os.path.exists(save_path):\n",
    "    os.makedirs(save_path)\n",
    "\n",
    "for idx, crop in enumerate(im_crops):\n",
    "    im_name = \"larcv_{}_{}.png\".format(crop_dim, idx)\n",
    "    out_path = os.path.join(save_path, im_name)\n",
    "    cv.imwrite(out_path, crop)"
   ]
  }
 ],
 "metadata": {
  "kernelspec": {
   "display_name": "Python 3",
   "language": "python",
   "name": "python3"
  },
  "language_info": {
   "codemirror_mode": {
    "name": "ipython",
    "version": 3
   },
   "file_extension": ".py",
   "mimetype": "text/x-python",
   "name": "python",
   "nbconvert_exporter": "python",
   "pygments_lexer": "ipython3",
   "version": "3.7.5"
  }
 },
 "nbformat": 4,
 "nbformat_minor": 2
}
