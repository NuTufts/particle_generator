{
 "cells": [
  {
   "cell_type": "code",
   "execution_count": 1,
   "metadata": {},
   "outputs": [],
   "source": [
    "# Imports\n",
    "import os\n",
    "import cv2 as cv\n",
    "import numpy as np\n",
    "import matplotlib.pyplot as plt\n",
    "%matplotlib inline\n",
    "\n",
    "import seaborn as sns\n",
    "import pandas as pd\n",
    "# Scipy center of mass function\n",
    "from scipy.ndimage.measurements import center_of_mass as CoM"
   ]
  },
  {
   "cell_type": "code",
   "execution_count": null,
   "metadata": {},
   "outputs": [],
   "source": [
    "# Select MNIST\n",
    "MNIST = False\n",
    "if MNIST:\n",
    "    data_root = \"/media/hdd1/kai/datasets/mnist/\"\n",
    "    # Import torch and related functionality \n",
    "    pass"
   ]
  },
  {
   "cell_type": "code",
   "execution_count": 16,
   "metadata": {},
   "outputs": [],
   "source": [
    "# Set the size of the image data to be analyzed\n",
    "imsize = 32"
   ]
  },
  {
   "cell_type": "code",
   "execution_count": 17,
   "metadata": {},
   "outputs": [],
   "source": [
    "# Set paths for loading and saving data\n",
    "data_root = \"/media/hdd1/kai/particle_generator/larcv_data/larcv_png_{}/larcv_png_{}/\".format(imsize, imsize)"
   ]
  },
  {
   "cell_type": "code",
   "execution_count": 18,
   "metadata": {},
   "outputs": [],
   "source": [
    "# Set up variables for logging results\n",
    "images = []"
   ]
  },
  {
   "cell_type": "code",
   "execution_count": 19,
   "metadata": {},
   "outputs": [],
   "source": [
    "# Centroid calcuations\n",
    "centroids_x = []; centroids_y = []"
   ]
  },
  {
   "cell_type": "code",
   "execution_count": 20,
   "metadata": {},
   "outputs": [],
   "source": [
    "# Percentage calculations\n",
    "pix_totals = []; p_fill = []"
   ]
  },
  {
   "cell_type": "code",
   "execution_count": 21,
   "metadata": {},
   "outputs": [],
   "source": [
    "# Set limit on image data loading for testing\n",
    "limit = 1e9"
   ]
  },
  {
   "cell_type": "code",
   "execution_count": 22,
   "metadata": {},
   "outputs": [
    {
     "name": "stdout",
     "output_type": "stream",
     "text": [
      "Loading images from /media/hdd1/kai/particle_generator/larcv_data/larcv_png_32/larcv_png_32/\n",
      "Finished loading 55267 images\n"
     ]
    }
   ],
   "source": [
    "# Load the image data\n",
    "print(\"Loading images from {}\".format(data_root))\n",
    "\n",
    "for idx, image_path in enumerate(os.listdir(data_root)):\n",
    "    in_path = os.path.join(data_root, image_path)\n",
    "    images.append(cv.imread(in_path, 0))\n",
    "    \n",
    "    if idx == limit:\n",
    "        break\n",
    "\n",
    "print(\"Finished loading {} images\".format(len(images)))"
   ]
  },
  {
   "cell_type": "code",
   "execution_count": 23,
   "metadata": {},
   "outputs": [],
   "source": [
    "# Perform analysis of the image data\n",
    "for image in images:\n",
    "    # Get the weighted centroid position\n",
    "    com = CoM(image)\n",
    "    \n",
    "    # check if computation returned NaN -- happens when centroid location is non-sensical\n",
    "    if com[0] != com[0]:\n",
    "        del image\n",
    "        continue\n",
    "    else:\n",
    "        centroids_x.append(int(com[0]))\n",
    "        centroids_y.append(int(com[1]))\n",
    "    \n",
    "    # Binarize the image in order to compute the percentage filled\n",
    "    image = np.where(image > 0.0, 1.0, 0.0)\n",
    "    pix_totals.append( np.sum(image) )\n",
    "    p_fill.append( round(pix_totals[-1] / (imsize**2), 2) )"
   ]
  },
  {
   "cell_type": "code",
   "execution_count": 24,
   "metadata": {},
   "outputs": [],
   "source": [
    "# Compute summary values\n",
    "avg_fill = round(np.mean(p_fill), 3)\n",
    "avg_x = round(np.mean(centroids_x), 2)\n",
    "avg_y = round(np.mean(centroids_y), 2)"
   ]
  },
  {
   "cell_type": "code",
   "execution_count": 25,
   "metadata": {},
   "outputs": [
    {
     "name": "stdout",
     "output_type": "stream",
     "text": [
      "Completed analysis of LArCV_32 dataset using 55267 images\n",
      "The average fill percentage is: 0.115\n",
      "The average centroid location is: (15.18,15.32)\n"
     ]
    }
   ],
   "source": [
    "# Print out summary of data analysis\n",
    "print(\"Completed analysis of LArCV_{} dataset using {} images\".format(imsize, len(images)))\n",
    "print(\"The average fill percentage is: {}\".format(avg_fill))\n",
    "print(\"The average centroid location is: ({},{})\".format(avg_x, avg_y))"
   ]
  },
  {
   "cell_type": "markdown",
   "metadata": {},
   "source": [
    "### Plot the location densities of the image centroids"
   ]
  },
  {
   "cell_type": "code",
   "execution_count": 26,
   "metadata": {},
   "outputs": [
    {
     "name": "stdout",
     "output_type": "stream",
     "text": [
      "15 15\n",
      "11 19 11 19\n"
     ]
    }
   ],
   "source": [
    "# Set plotting limits\n",
    "x_mid = int(np.mean(centroids_x))\n",
    "y_mid = int(np.mean(centroids_y))\n",
    "x_shift = int(0.3 * x_mid); y_shift = int(0.3 * y_mid)\n",
    "x1 = x_mid - x_shift; x2 = x_mid + x_shift\n",
    "y1 = y_mid - y_shift; y2 = y_mid + y_shift\n",
    "print(x_mid, y_mid)\n",
    "print(x1, x2, y1, y2)"
   ]
  },
  {
   "cell_type": "code",
   "execution_count": 27,
   "metadata": {},
   "outputs": [
    {
     "data": {
      "image/png": "[encoded data removed]",
      "text/plain": [
       "<Figure size 576x396 with 1 Axes>"
      ]
     },
     "metadata": {},
     "output_type": "display_data"
    }
   ],
   "source": [
    "# Data\n",
    "df = pd.DataFrame( {'x': centroids_x, 'y' : centroids_y} )\n",
    "\n",
    "# Plot\n",
    "plt.style.use('seaborn')\n",
    "plt.title('Density of {}x{} Image Event Centroids'.format(imsize, imsize), fontsize = \"large\", color=\"white\")\n",
    "\n",
    "\n",
    "# Density plot\n",
    "sns.kdeplot(df.x, df.y, cmap=\"Blues\", shade=True, gridsize=250)\n",
    "# Set axes limits\n",
    "plt.xlim(x1, x2); plt.ylim(y1, y2)\n",
    "\n",
    "# Set labels and tick colors\n",
    "plt.ylabel(\"Average Weighted Y-Coordinate\", color = \"white\")\n",
    "plt.xlabel(\"Average Weighted X-Coordinate\", color = \"white\")\n",
    "plt.xticks(color=\"white\")\n",
    "plt.yticks(color=\"white\")\n",
    "\n",
    "plt.savefig(\"centroid_density_plot_scipy_cropped_{}_images.png\".format(imsize), dpi=300, facecolor='#443941')"
   ]
  },
  {
   "cell_type": "markdown",
   "metadata": {},
   "source": [
    "### Plot the fill percentages of the dataset"
   ]
  },
  {
   "cell_type": "code",
   "execution_count": 28,
   "metadata": {},
   "outputs": [
    {
     "name": "stdout",
     "output_type": "stream",
     "text": [
      "117 0.115 35 0.0345\n",
      "82 152 0.0805 0.1495\n"
     ]
    }
   ],
   "source": [
    "# Set plotting limits\n",
    "x_mid = int(np.mean(pix_totals))\n",
    "y_mid = round(np.mean(p_fill), 3)\n",
    "\n",
    "x_shift = int(0.3 * x_mid); y_shift = 0.3 * y_mid\n",
    "x1 = x_mid - x_shift; x2 = x_mid + x_shift\n",
    "y1 = round(y_mid - y_shift, 4); y2 = round(y_mid + y_shift, 4)\n",
    "print(x_mid, y_mid, x_shift, y_shift)\n",
    "print(x1, x2, y1, y2)"
   ]
  },
  {
   "cell_type": "code",
   "execution_count": null,
   "metadata": {},
   "outputs": [],
   "source": [
    "# Data\n",
    "df = pd.DataFrame( {'x' : pix_totals, 'y' : p_fill} )\n",
    "\n",
    "# Plot\n",
    "sns.kdeplot(df.x, df.y, cmap=\"Blues\", shade=True, gridsize=250)\n",
    "# Set axes limits\n",
    "# plt.xlim(0, 1500); plt.ylim(0.0, 0.125)\n",
    "\n",
    "plt.title('Density of {}x{} Image Fill Percentages'.format(imsize, imsize), fontsize = \"large\", color=\"white\")\n",
    "plt.xlabel(\"Binarized Pixel Total\", color = \"white\")\n",
    "plt.ylabel(\"Image Fill Percentage\", color = \"white\")\n",
    "plt.xticks(color=\"white\")\n",
    "plt.yticks(color=\"white\")\n",
    "\n",
    "plt.savefig(\"p-fill_density_plot_scipy_cropped_{}_images.png\".format(imsize), dpi=300, facecolor='#443941')"
   ]
  },
  {
   "cell_type": "code",
   "execution_count": null,
   "metadata": {},
   "outputs": [],
   "source": [
    "# # Plot the fill percentages of the entire dataset\n",
    "# fig, axes = plt.subplots(1,1)\n",
    "# fig.suptitle(\"Percentage of Pixels above Zero Value\", color = \"white\")\n",
    "\n",
    "# axes.set_title(\"[{}x{}] LArCV1 Dataset\".format(imsize, imsize), color=\"white\", fontsize=\"small\")\n",
    "# axes.set_xlabel(\"Total Binarized Image Pixel Value\")\n",
    "# axes.set_ylabel(\"Image Fill Percentage\")\n",
    "# axes.set_facecolor(\"#443941\")\n",
    "\n",
    "# # Stylize\n",
    "# axes.spines['bottom'].set_color('white')\n",
    "# axes.spines['top'].set_color('white')\n",
    "# axes.spines['left'].set_color('white')\n",
    "# axes.spines['right'].set_color('white')\n",
    "# axes.xaxis.label.set_color('white')\n",
    "# axes.yaxis.label.set_color('white')\n",
    "# axes.tick_params(axis='x', colors='white')\n",
    "# axes.tick_params(axis='y', colors='white')\n",
    "\n",
    "# # Plot data\n",
    "# axes.set_xlim(x_ll, x_ul)\n",
    "# axes.set_ylim(y_ll, y_ul)\n",
    "# axes.scatter(pix_totals, p_fill)\n",
    "\n",
    "# # Generate and save image\n",
    "# plt.savefig(\"p_fill_{}_dataset.png\".format(imsize), dpi=300, facecolor='#443941')"
   ]
  }
 ],
 "metadata": {
  "kernelspec": {
   "display_name": "Python 3",
   "language": "python",
   "name": "python3"
  },
  "language_info": {
   "codemirror_mode": {
    "name": "ipython",
    "version": 3
   },
   "file_extension": ".py",
   "mimetype": "text/x-python",
   "name": "python",
   "nbconvert_exporter": "python",
   "pygments_lexer": "ipython3",
   "version": "3.5.2"
  }
 },
 "nbformat": 4,
 "nbformat_minor": 2
}
