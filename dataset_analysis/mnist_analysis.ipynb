{
 "cells": [
  {
   "cell_type": "code",
   "execution_count": 2,
   "metadata": {},
   "outputs": [],
   "source": [
    "# Imports\n",
    "import os\n",
    "import cv2 as cv\n",
    "import numpy as np\n",
    "import matplotlib.pyplot as plt\n",
    "%matplotlib inline\n",
    "\n",
    "import seaborn as sns\n",
    "import pandas as pd\n",
    "from scipy.ndimage.measurements import center_of_mass as CoM # Scipy center of mass function"
   ]
  },
  {
   "cell_type": "code",
   "execution_count": 1,
   "metadata": {},
   "outputs": [],
   "source": [
    "# MNIST specific import\n",
    "import torch\n",
    "import torch\n",
    "import torchvision\n",
    "from torchvision      import datasets\n",
    "from torchvision      import transforms\n",
    "from torch.utils.data import DataLoader\n",
    "    \n",
    "loader_kwargs = {'num_workers':8, 'batch_size':1, 'shuffle':False, 'drop_last':False}\n",
    "\n",
    "data_root = \"/media/hdd1/kai/datasets/mnist/\"\n",
    "transform = transforms.Compose( [transforms.ToTensor()] )\n",
    "data      = datasets.MNIST(root='./', train=True, download=False, transform=transform)\n",
    "dataloader = DataLoader(data, **loader_kwargs)"
   ]
  },
  {
   "cell_type": "code",
   "execution_count": 3,
   "metadata": {},
   "outputs": [],
   "source": [
    "# Set up variables for logging results\n",
    "# Centroid calcuations\n",
    "centroids_x = []; centroids_y = []"
   ]
  },
  {
   "cell_type": "code",
   "execution_count": 4,
   "metadata": {},
   "outputs": [],
   "source": [
    "# Percentage calculations\n",
    "pix_totals = []; p_fill = []; imsize = 28"
   ]
  },
  {
   "cell_type": "code",
   "execution_count": 8,
   "metadata": {},
   "outputs": [],
   "source": [
    "# List of sample images\n",
    "digits = []; samples1 = []; samples2 = []"
   ]
  },
  {
   "cell_type": "code",
   "execution_count": 9,
   "metadata": {},
   "outputs": [],
   "source": [
    "# Perform analysis of the image data\n",
    "for idx, (image, _) in enumerate(dataloader):\n",
    "    # Convert Torch tensor to numpy array\n",
    "    image = image.view(imsize, imsize).cpu().numpy()\n",
    "    \n",
    "    # Get the weighted centroid position\n",
    "    com = CoM(image)\n",
    "    \n",
    "    # check if computation returned NaN -- happens when centroid location is non-sensical\n",
    "    if com[0] != com[0]:\n",
    "        del image\n",
    "        continue\n",
    "    else:\n",
    "        centroids_x.append(int(com[0]))\n",
    "        centroids_y.append(int(com[1]))\n",
    "    \n",
    "    # Binarize the image in order to compute the percentage filled\n",
    "    image = np.where(image > 0.0, 1.0, 0.0)\n",
    "    pix_totals.append( np.sum(image) )\n",
    "    p_fill.append( round(pix_totals[-1] / (imsize**2), 2) )\n",
    "    \n",
    "    if idx < 16:\n",
    "        digits.append(image)\n",
    "    if idx % 2 == 0:\n",
    "        samples2.append(image)\n",
    "    else:\n",
    "        samples1.append(image)\n",
    "    if idx > 16:\n",
    "        break"
   ]
  },
  {
   "cell_type": "code",
   "execution_count": null,
   "metadata": {},
   "outputs": [],
   "source": [
    "# Centroid denisty data\n",
    "# The MNIST centroids are so close together, that the Wald test inside the\n",
    "# denisty plot function crashes. This test computes a covariance and inverse\n",
    "# covariance matrix between the two series centroids_x and centroids_y. But,\n",
    "# because of the perfect correlation between the two series, the test returns\n",
    "# a singluar covariance matrix, which cannot be inverted, and the test crashes.\n",
    "# Therefore, it is necessary to add a small amount of noise to each data series\n",
    "# in order to avoid this problem.\n",
    "# https://stackoverflow.com/questions/44305456/why-am-i-getting-linalgerror-singular-matrix-from-grangercausalitytests\n",
    "noise = np.random.rand(len(centroids_x), ) * 0.00001\n",
    "x = np.asarray(centroids_x) + noise\n",
    "y = np.asarray(centroids_y)\n",
    "df = pd.DataFrame( {'x': x, 'y' : y} )"
   ]
  },
  {
   "cell_type": "code",
   "execution_count": null,
   "metadata": {},
   "outputs": [],
   "source": [
    "df.corr()"
   ]
  },
  {
   "cell_type": "code",
   "execution_count": null,
   "metadata": {},
   "outputs": [],
   "source": [
    "# Plot\n",
    "plt.style.use('seaborn')\n",
    "plt.title('Density of MNIST Digit Centroids', fontsize = \"large\", color=\"white\")\n",
    "\n",
    "# Density plot\n",
    "sns.kdeplot(df.x, df.y, cmap=\"Blues\", shade=True, gridsize=250)\n",
    "\n",
    "# Set axes limits\n",
    "# plt.xlim(x1, x2); plt.ylim(y1, y2)\n",
    "\n",
    "# Set labels and tick colors\n",
    "plt.ylabel(\"Average Weighted Y-Coordinate\", color = \"white\")\n",
    "plt.xlabel(\"Average Weighted X-Coordinate\", color = \"white\")\n",
    "plt.xticks(color=\"white\")\n",
    "plt.yticks(color=\"white\")\n",
    "\n",
    "plt.savefig(\"centroid_density_MNIST_digits.png\".format(imsize), dpi=300, facecolor='#443941')"
   ]
  },
  {
   "cell_type": "code",
   "execution_count": null,
   "metadata": {},
   "outputs": [],
   "source": [
    "# Data for fill percentage calculation\n",
    "pdf = pd.DataFrame( {'x' : pix_totals, 'y' : p_fill} )"
   ]
  },
  {
   "cell_type": "code",
   "execution_count": null,
   "metadata": {},
   "outputs": [],
   "source": [
    "# Plot\n",
    "sns.kdeplot(pdf.x, pdf.y, cmap=\"Blues\", shade=True, gridsize=250)\n",
    "# Set axes limits\n",
    "# plt.xlim(0, 300)\n",
    "# plt.ylim(y_min, 0.5)\n",
    "\n",
    "plt.title('Density of MNIST Image Fill Percentages', fontsize = \"large\", color=\"white\")\n",
    "plt.xlabel(\"Binarized Pixel Total\", color = \"white\")\n",
    "plt.ylabel(\"Image Fill Percentage\", color = \"white\")\n",
    "plt.xticks(color=\"white\")\n",
    "plt.yticks(color=\"white\")\n",
    "\n",
    "plt.savefig(\"p-fill_density_plot_mnist_digits.png\".format(imsize), dpi=300, facecolor='#443941')"
   ]
  },
  {
   "cell_type": "code",
   "execution_count": null,
   "metadata": {},
   "outputs": [],
   "source": [
    "print(digits[0].shape)"
   ]
  },
  {
   "cell_type": "code",
   "execution_count": null,
   "metadata": {},
   "outputs": [],
   "source": [
    "n_row = 4; n_col = 4\n",
    "fig, axes = plt.subplots(n_row, n_col)\n",
    "fig.suptitle(\"Selection of MNIST Digits\", color=\"white\")\n",
    "\n",
    "img = None; im_num = 0\n",
    "for i in range(0, n_row):\n",
    "    for j in range(0, n_col):\n",
    "        img = axes[i,j].imshow(digits[im_num])\n",
    "        axes[i,j].spines['bottom'].set_color('white')\n",
    "        axes[i,j].spines['top'].set_color('white')\n",
    "        axes[i,j].spines['left'].set_color('white')\n",
    "        axes[i,j].spines['right'].set_color('white')\n",
    "        axes[i,j].xaxis.label.set_color('white')\n",
    "        axes[i,j].yaxis.label.set_color('white')\n",
    "        axes[i,j].tick_params(axis='x', colors='#443941')\n",
    "        axes[i,j].tick_params(axis='y', colors='#443941')\n",
    "        im_num += 1\n",
    "\n",
    "# Colorbar\n",
    "cbar_axes = fig.add_axes([0.9, 0.1, 0.03, 0.8])\n",
    "cbar = plt.colorbar(img, cax=cbar_axes)\n",
    "cbar.ax.yaxis.set_tick_params(color=\"white\")\n",
    "cbar.outline.set_edgecolor(color=\"white\")\n",
    "plt.setp(plt.getp(cbar.ax.axes, 'yticklabels'), color=\"white\")\n",
    "\n",
    "plt.savefig(\"selection_of_MNIST_digits.png\", dpi=300, facecolor='#443941')"
   ]
  },
  {
   "cell_type": "code",
   "execution_count": 10,
   "metadata": {},
   "outputs": [
    {
     "data": {
      "image/png": "[encoded data removed]",
      "text/plain": [
       "<Figure size 1800x432 with 16 Axes>"
      ]
     },
     "metadata": {
      "needs_background": "light"
     },
     "output_type": "display_data"
    }
   ],
   "source": [
    "%matplotlib inline\n",
    "im_dim = 28\n",
    "# Setup figure\n",
    "fig, axes = plt.subplots(nrows = 2, ncols = 8, sharex=True, sharey=True, figsize=(25,6))\n",
    "\n",
    "# Generate plot\n",
    "for images, row in zip([samples1, samples2], axes):\n",
    "    for img, ax in zip(images, row):\n",
    "        img = np.reshape(img, (im_dim, im_dim))\n",
    "        ax.imshow(img, cmap='gray')\n",
    "        ax.get_xaxis().set_visible(False)\n",
    "        ax.get_yaxis().set_visible(False)\n",
    "        ax.tick_params(axis='x', colors='#443941')\n",
    "        ax.tick_params(axis='y', colors='#443941')\n",
    "fig.tight_layout()\n",
    "\n",
    "# Save figure\n",
    "save_file = \"mnist_digits.png\"\n",
    "plt.savefig(save_file, dpi=300)"
   ]
  },
  {
   "cell_type": "code",
   "execution_count": null,
   "metadata": {},
   "outputs": [],
   "source": []
  }
 ],
 "metadata": {
  "kernelspec": {
   "display_name": "Python 3",
   "language": "python",
   "name": "python3"
  },
  "language_info": {
   "codemirror_mode": {
    "name": "ipython",
    "version": 3
   },
   "file_extension": ".py",
   "mimetype": "text/x-python",
   "name": "python",
   "nbconvert_exporter": "python",
   "pygments_lexer": "ipython3",
   "version": "3.7.4"
  }
 },
 "nbformat": 4,
 "nbformat_minor": 2
}
