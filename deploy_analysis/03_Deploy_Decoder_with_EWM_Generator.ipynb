{
 "cells": [
  {
   "cell_type": "code",
   "execution_count": 1,
   "metadata": {},
   "outputs": [],
   "source": [
    "import os\n",
    "import torch\n",
    "import numpy as np\n",
    "import pandas as pd\n",
    "import torchvision\n",
    "import scipy as scp\n",
    "from torchvision import transforms\n",
    "from torch.utils.data import DataLoader\n",
    "import matplotlib.pyplot as plt\n",
    "%matplotlib inline"
   ]
  },
  {
   "cell_type": "code",
   "execution_count": 2,
   "metadata": {},
   "outputs": [],
   "source": [
    "import sys\n",
    "sys.path.insert(1, '/home/kseuro/Kai/deeplearnphysics/pytorch/particle_generator/')\n",
    "\n",
    "# Meitner Machine\n",
    "import ae\n",
    "import conv_ae\n",
    "import ewm\n",
    "import utils\n",
    "from dataloader import LArCV_loader"
   ]
  },
  {
   "cell_type": "markdown",
   "metadata": {},
   "source": [
    "#### Set the GPU to be used for model evaluation\n",
    "- On Meitner, GPU 1 is the best option"
   ]
  },
  {
   "cell_type": "code",
   "execution_count": 3,
   "metadata": {},
   "outputs": [],
   "source": [
    "device = torch.device(1)"
   ]
  },
  {
   "cell_type": "markdown",
   "metadata": {},
   "source": [
    "#### Set the root path of the AutoEncoder Experiments Folder"
   ]
  },
  {
   "cell_type": "code",
   "execution_count": 4,
   "metadata": {},
   "outputs": [],
   "source": [
    "exp_root = \"/media/hdd1/kai/particle_generator/experiments/\""
   ]
  },
  {
   "cell_type": "markdown",
   "metadata": {},
   "source": [
    "#### Select the model class and append to the experiment root"
   ]
  },
  {
   "cell_type": "code",
   "execution_count": 5,
   "metadata": {},
   "outputs": [],
   "source": [
    "mlp = False\n",
    "if mlp:\n",
    "    AE_root = exp_root + 'larcv_ae/mlp_ae/'\n",
    "    EWM_root = exp_root + 'ewm_models/mlp_ewm/'\n",
    "else:\n",
    "    AE_root = exp_root + 'larcv_ae/conv_ae/'\n",
    "    EWM_root = exp_root + 'ewm_models/conv_ewm/'"
   ]
  },
  {
   "cell_type": "code",
   "execution_count": 6,
   "metadata": {},
   "outputs": [],
   "source": [
    "# Path to model weights\n",
    "weights_dir = \"weights/\""
   ]
  },
  {
   "cell_type": "markdown",
   "metadata": {},
   "source": [
    "# Select the AutoEncoder and Generator Models you want to deploy"
   ]
  },
  {
   "cell_type": "markdown",
   "metadata": {},
   "source": [
    "## Get the names of all the saved AutoEncoder experiments in the exp_root folder"
   ]
  },
  {
   "cell_type": "code",
   "execution_count": 7,
   "metadata": {},
   "outputs": [
    {
     "name": "stdout",
     "output_type": "stream",
     "text": [
      "------------------------------------------------------------\n",
      "\n",
      " Exp_0: conv_ae_256_102-8-8_6528 \n",
      "\n",
      "------------------------------------------------------------\n",
      "\n",
      " Exp_1: conv_ae_64_6-8-8_384 \n",
      "\n",
      "------------------------------------------------------------\n",
      "\n",
      " Exp_2: phase_1_models \n",
      "\n",
      "------------------------------------------------------------\n",
      "\n",
      " Exp_3: conv_ae_128_40-8-8_2560 \n",
      "\n",
      "------------------------------------------------------------\n"
     ]
    }
   ],
   "source": [
    "AE_paths = []\n",
    "for path in os.listdir(AE_root):\n",
    "    AE_paths.append(os.path.join(AE_root, path))\n",
    "\n",
    "print(\"-\"*60)\n",
    "for i in range(len(AE_paths)):\n",
    "    AE_name = AE_paths[i].split('/')[-1]\n",
    "    print(\"\\n Exp_{}:\".format(str(i)), AE_name, '\\n')\n",
    "    print(\"-\"*60)"
   ]
  },
  {
   "cell_type": "markdown",
   "metadata": {},
   "source": [
    "## Select the AutoEncoder experiment you want"
   ]
  },
  {
   "cell_type": "code",
   "execution_count": 8,
   "metadata": {},
   "outputs": [],
   "source": [
    "AE_dir = AE_paths[1]"
   ]
  },
  {
   "cell_type": "code",
   "execution_count": 9,
   "metadata": {},
   "outputs": [
    {
     "name": "stdout",
     "output_type": "stream",
     "text": [
      "Path to AutoEncoder set as: \n",
      "/media/hdd1/kai/particle_generator/experiments/larcv_ae/conv_ae/conv_ae_64_6-8-8_384/\n"
     ]
    }
   ],
   "source": [
    "# Create the full path to the AutoEncoder experiment\n",
    "AE_path = os.path.join(AE_root, AE_dir) + \"/\"\n",
    "print(\"Path to AutoEncoder set as: \\n{}\".format(AE_path))"
   ]
  },
  {
   "cell_type": "markdown",
   "metadata": {},
   "source": [
    "## Get the names of all the saved EWM Generator models"
   ]
  },
  {
   "cell_type": "code",
   "execution_count": 15,
   "metadata": {},
   "outputs": [
    {
     "name": "stdout",
     "output_type": "stream",
     "text": [
      "------------------------------------------------------------\n",
      "\n",
      " Exp_0: ewm_tess-0.25_64_384 \n",
      "\n",
      "------------------------------------------------------------\n",
      "\n",
      " Exp_1: evaluated_models \n",
      "\n",
      "------------------------------------------------------------\n"
     ]
    }
   ],
   "source": [
    "EWM_paths = []\n",
    "# EWM_root += 'evaluated_models/'\n",
    "for path in os.listdir(EWM_root):\n",
    "    EWM_paths.append(os.path.join(EWM_root, path))\n",
    "\n",
    "print(\"-\"*60)\n",
    "for i in range(len(EWM_paths)):\n",
    "    EWM_name = EWM_paths[i].split('/')[-1]\n",
    "    print(\"\\n Exp_{}:\".format(str(i)), EWM_name, '\\n')\n",
    "    print(\"-\"*60)"
   ]
  },
  {
   "cell_type": "markdown",
   "metadata": {},
   "source": [
    "## Select the EWM model experiment you want"
   ]
  },
  {
   "cell_type": "code",
   "execution_count": 16,
   "metadata": {},
   "outputs": [],
   "source": [
    "EWM_dir = EWM_paths[0]"
   ]
  },
  {
   "cell_type": "code",
   "execution_count": 17,
   "metadata": {},
   "outputs": [
    {
     "name": "stdout",
     "output_type": "stream",
     "text": [
      "Path to EWM Generator Model set as: \n",
      "/media/hdd1/kai/particle_generator/experiments/ewm_models/conv_ewm/ewm_tess-0.25_64_384/\n"
     ]
    }
   ],
   "source": [
    "# Create the full path to the EWM model\n",
    "EWM_path = os.path.join(EWM_root, EWM_dir) + \"/\"\n",
    "print(\"Path to EWM Generator Model set as: \\n{}\".format(EWM_path))"
   ]
  },
  {
   "cell_type": "markdown",
   "metadata": {},
   "source": [
    "# Load selected models from checkpoint and onto GPU"
   ]
  },
  {
   "cell_type": "markdown",
   "metadata": {},
   "source": [
    "## Load the AE config .csv as a dict\n",
    "- Get the model architecture from the config_df"
   ]
  },
  {
   "cell_type": "code",
   "execution_count": 18,
   "metadata": {},
   "outputs": [],
   "source": [
    "config_csv = AE_path + \"config.csv\"\n",
    "config_df = pd.read_csv(config_csv, delimiter = \",\")"
   ]
  },
  {
   "cell_type": "code",
   "execution_count": 19,
   "metadata": {},
   "outputs": [],
   "source": [
    "# Get the model architecture from config df\n",
    "num_epochs = int(config_df[config_df['Unnamed: 0'].str.contains(\"epochs\")==True]['0'].values.item())\n",
    "n_layers = int(config_df[config_df['Unnamed: 0'].str.contains(\"n_layers\")==True]['0'].values.item())\n",
    "l_dim    = int(config_df[config_df['Unnamed: 0'].str.contains(\"l_dim\")==True]['0'].values.item())\n",
    "depth    = int(config_df[config_df['Unnamed: 0'].str.contains(\"depth\")==True]['0'].values.item())\n",
    "im_size  = int(config_df[config_df['Unnamed: 0'].str.contains(\"dataset\")==True]['0'].values.item())**2\n",
    "im_dim   = int(np.sqrt(im_size))"
   ]
  },
  {
   "cell_type": "markdown",
   "metadata": {},
   "source": [
    "## Set up AutoEncoder model on the GPU"
   ]
  },
  {
   "cell_type": "markdown",
   "metadata": {},
   "source": [
    "### Compute the layer dimensions for the AutoEncoder\n",
    "- TODO: Need to add function that deals with an AutoEncoder Model trained on MNIST"
   ]
  },
  {
   "cell_type": "code",
   "execution_count": 20,
   "metadata": {},
   "outputs": [],
   "source": [
    "# Set up AE layer sizes\n",
    "if 'mlp' in AE_root:    \n",
    "    base = [256] \n",
    "\n",
    "    # Compute encoder sizes\n",
    "    sizes = lambda: [ (yield 2**i) for i in range(n_layers) ]\n",
    "    enc_sizes = base * n_layers\n",
    "    enc_sizes = [a*b for a,b in zip(enc_sizes, [*sizes()])][::-1]\n",
    "\n",
    "    # Update kwarg dicts\n",
    "    # Decoder is the reverse of the encoder\n",
    "    ae_kwargs = {'enc_sizes' : enc_sizes, 'l_dim' : l_dim, 'im_size' : im_size, 'dec_sizes' : enc_sizes[::-1]}\n",
    "else:\n",
    "    # Compute the depth of the feature maps, based on the number of\n",
    "    # specified layers. If depth is not divisibe by 4, warn\n",
    "    depth   = [depth] * n_layers\n",
    "    divisor = lambda: [ (yield 2**i) for i in range(n_layers) ]\n",
    "    depth   = [a//b for a,b in zip(depth, [*divisor()])][::-1]\n",
    "        \n",
    "    # Update kwarg dicts\n",
    "    # Decoder is the reverse of the encoder\n",
    "    ae_kwargs = {'enc_depth':[1] + depth, 'dec_depth':depth[1:len(depth)][::-1] + [1],'l_dim':l_dim}"
   ]
  },
  {
   "cell_type": "code",
   "execution_count": 21,
   "metadata": {},
   "outputs": [
    {
     "name": "stdout",
     "output_type": "stream",
     "text": [
      "Model l_dim: 6\n",
      "Encoder depth: [1, 8, 16, 32]\n",
      "Decoder depth: [32, 16, 1]\n"
     ]
    }
   ],
   "source": [
    "print(\"Model l_dim: {}\".format(l_dim))\n",
    "print(\"Encoder depth: {}\".format(ae_kwargs['enc_depth']))\n",
    "print(\"Decoder depth: {}\".format(ae_kwargs['dec_depth']))"
   ]
  },
  {
   "cell_type": "code",
   "execution_count": 22,
   "metadata": {},
   "outputs": [],
   "source": [
    "# Set up model on GPU\n",
    "if 'mlp' in AE_root:\n",
    "    model = ae.AutoEncoder(**ae_kwargs).to(device)\n",
    "else:\n",
    "    model = conv_ae.ConvAutoEncoder(**ae_kwargs).to(device)"
   ]
  },
  {
   "cell_type": "markdown",
   "metadata": {},
   "source": [
    "## Load the AE model checkpoint"
   ]
  },
  {
   "cell_type": "code",
   "execution_count": 23,
   "metadata": {},
   "outputs": [],
   "source": [
    "# Get checkpoint name(s)\n",
    "AE_checkpoint_path  = AE_path + weights_dir\n",
    "AE_checkpoint_names = []\n",
    "for file in os.listdir(AE_checkpoint_path):\n",
    "    AE_checkpoint_names.append(os.path.join(AE_checkpoint_path, file))"
   ]
  },
  {
   "cell_type": "code",
   "execution_count": 24,
   "metadata": {},
   "outputs": [
    {
     "name": "stdout",
     "output_type": "stream",
     "text": [
      "------------------------------------------------------------\n",
      "\n",
      "0: best_conv_ae_ep_650.tar \n",
      "\n",
      "------------------------------------------------------------\n",
      "\n",
      "1: best_conv_ae_ep_600.tar \n",
      "\n",
      "------------------------------------------------------------\n",
      "\n",
      "2: best_conv_ae_ep_999.tar \n",
      "\n",
      "------------------------------------------------------------\n",
      "\n",
      "3: best_conv_ae_ep_700.tar \n",
      "\n",
      "------------------------------------------------------------\n",
      "\n",
      "4: best_conv_ae_ep_850.tar \n",
      "\n",
      "------------------------------------------------------------\n",
      "\n",
      "5: best_conv_ae_ep_900.tar \n",
      "\n",
      "------------------------------------------------------------\n",
      "\n",
      "6: best_conv_ae_ep_950.tar \n",
      "\n",
      "------------------------------------------------------------\n",
      "\n",
      "7: best_conv_ae_ep_750.tar \n",
      "\n",
      "------------------------------------------------------------\n",
      "\n",
      "8: best_conv_ae_ep_800.tar \n",
      "\n",
      "------------------------------------------------------------\n"
     ]
    }
   ],
   "source": [
    "print(\"-\"*60)\n",
    "for i in range(len(AE_checkpoint_names)):\n",
    "    name = AE_checkpoint_names[i].split('/')[-1]\n",
    "    AE_checkpoint_names.append(name)\n",
    "    print(\"\\n{}:\".format(str(i)), name, '\\n')\n",
    "    print(\"-\"*60)"
   ]
  },
  {
   "cell_type": "code",
   "execution_count": 29,
   "metadata": {},
   "outputs": [],
   "source": [
    "# Select the desired checkpoint from the list\n",
    "AE_checkpoint = AE_checkpoint_names[2]"
   ]
  },
  {
   "cell_type": "code",
   "execution_count": 30,
   "metadata": {},
   "outputs": [],
   "source": [
    "# Load the model checkpoint\n",
    "# Keys: ['state_dict', 'epoch', 'optimizer']\n",
    "checkpoint = torch.load(AE_checkpoint)"
   ]
  },
  {
   "cell_type": "code",
   "execution_count": 31,
   "metadata": {},
   "outputs": [
    {
     "data": {
      "text/plain": [
       "<All keys matched successfully>"
      ]
     },
     "execution_count": 31,
     "metadata": {},
     "output_type": "execute_result"
    }
   ],
   "source": [
    "# Load the model's state dictionary\n",
    "# Note: The IncompatibleKeys(missing_keys=[], unexpected_keys=[]) message indicates that\n",
    "#       there were no problems in loading the state dictionary. Bit confusing...\n",
    "model.load_state_dict(checkpoint['state_dict'])"
   ]
  },
  {
   "cell_type": "code",
   "execution_count": 32,
   "metadata": {},
   "outputs": [
    {
     "data": {
      "text/plain": [
       "ConvAutoEncoder(\n",
       "  (encoder): ConvEncoder(\n",
       "    (conv_blocks): Sequential(\n",
       "      (0): Sequential(\n",
       "        (0): Conv2d(1, 8, kernel_size=(3, 3), stride=(1, 1), padding=(1, 1))\n",
       "        (1): LeakyReLU(negative_slope=0.2)\n",
       "        (2): MaxPool2d(kernel_size=2, stride=2, padding=0, dilation=1, ceil_mode=False)\n",
       "      )\n",
       "      (1): Sequential(\n",
       "        (0): Conv2d(8, 16, kernel_size=(3, 3), stride=(1, 1), padding=(1, 1))\n",
       "        (1): LeakyReLU(negative_slope=0.2)\n",
       "        (2): MaxPool2d(kernel_size=2, stride=2, padding=0, dilation=1, ceil_mode=False)\n",
       "      )\n",
       "      (2): Sequential(\n",
       "        (0): Conv2d(16, 32, kernel_size=(3, 3), stride=(1, 1), padding=(1, 1))\n",
       "        (1): LeakyReLU(negative_slope=0.2)\n",
       "        (2): MaxPool2d(kernel_size=2, stride=2, padding=0, dilation=1, ceil_mode=False)\n",
       "      )\n",
       "    )\n",
       "    (last): Conv2d(32, 6, kernel_size=(3, 3), stride=(1, 1), padding=(1, 1))\n",
       "  )\n",
       "  (decoder): ConvDecoder(\n",
       "    (deconv_blocks): Sequential(\n",
       "      (0): Sequential(\n",
       "        (0): Upsample(scale_factor=2.0, mode=bilinear)\n",
       "        (1): ReflectionPad2d((1, 1, 1, 1))\n",
       "        (2): Conv2d(6, 32, kernel_size=(3, 3), stride=(1, 1))\n",
       "        (3): LeakyReLU(negative_slope=0.2)\n",
       "      )\n",
       "      (1): Sequential(\n",
       "        (0): Upsample(scale_factor=2.0, mode=bilinear)\n",
       "        (1): ReflectionPad2d((1, 1, 1, 1))\n",
       "        (2): Conv2d(32, 16, kernel_size=(3, 3), stride=(1, 1))\n",
       "        (3): LeakyReLU(negative_slope=0.2)\n",
       "      )\n",
       "      (2): Sequential(\n",
       "        (0): Upsample(scale_factor=2.0, mode=bilinear)\n",
       "        (1): ReflectionPad2d((1, 1, 1, 1))\n",
       "        (2): Conv2d(16, 1, kernel_size=(3, 3), stride=(1, 1))\n",
       "        (3): LeakyReLU(negative_slope=0.2)\n",
       "      )\n",
       "    )\n",
       "    (activation): Tanh()\n",
       "  )\n",
       ")"
      ]
     },
     "execution_count": 32,
     "metadata": {},
     "output_type": "execute_result"
    }
   ],
   "source": [
    "# Put the model in evaluation mode\n",
    "model.eval()"
   ]
  },
  {
   "cell_type": "markdown",
   "metadata": {},
   "source": [
    "### If evaluating convolutional model, get the size of the code tensor using a random torch tensor"
   ]
  },
  {
   "cell_type": "code",
   "execution_count": 33,
   "metadata": {},
   "outputs": [
    {
     "name": "stdout",
     "output_type": "stream",
     "text": [
      "Code tensor volume is: [6 x 8 x 8] = 384\n"
     ]
    }
   ],
   "source": [
    "if 'conv' in AE_root:\n",
    "    x = torch.randn(1, 1, im_dim, im_dim).to(device)\n",
    "    x = model.encoder(x)\n",
    "    code = (x.shape[1], x.shape[2], x.shape[3])\n",
    "    print(\"Code tensor volume is: [{} x {} x {}] = {}\".format(code[0], code[1], code[2], code[0]*code[1]*code[2]))"
   ]
  },
  {
   "cell_type": "code",
   "execution_count": 34,
   "metadata": {},
   "outputs": [
    {
     "data": {
      "text/plain": [
       "torch.Size([1, 6, 8, 8])"
      ]
     },
     "execution_count": 34,
     "metadata": {},
     "output_type": "execute_result"
    }
   ],
   "source": [
    "x.shape"
   ]
  },
  {
   "cell_type": "markdown",
   "metadata": {},
   "source": [
    "## Load the G config .csv as a dict\n",
    "- Get the model architecture from the config_df"
   ]
  },
  {
   "cell_type": "code",
   "execution_count": 35,
   "metadata": {},
   "outputs": [],
   "source": [
    "config_csv = EWM_path + \"config.csv\"\n",
    "config_df = pd.read_csv(config_csv, delimiter = \",\")"
   ]
  },
  {
   "cell_type": "code",
   "execution_count": 36,
   "metadata": {},
   "outputs": [
    {
     "name": "stdout",
     "output_type": "stream",
     "text": [
      "4 Layer model with 512 hidden units per layer\n",
      "Mapping 100_dim_Gaussian to 384_dim code vectors\n"
     ]
    }
   ],
   "source": [
    "# Get the model architecture from config df\n",
    "n_layers = int(config_df[config_df['Unnamed: 0'].str.contains(\"n_layers\")==True]['0'].values.item())\n",
    "n_hidden = int(config_df[config_df['Unnamed: 0'].str.contains(\"n_hidden\")==True]['0'].values.item())\n",
    "l_dim    = int(config_df[config_df['Unnamed: 0'].str.contains(\"l_dim\")==True]['0'].values.item())\n",
    "im_size  = int(config_df[config_df['Unnamed: 0'].str.contains(\"dataset\")==True]['0'].values.item())\n",
    "z_dim    = int(config_df[config_df['Unnamed: 0'].str.contains(\"z_dim\")==True]['0'].values.item())\n",
    "print(\"{} Layer model with {} hidden units per layer\".format(n_layers, n_hidden))\n",
    "if 'mlp' in EWM_root:\n",
    "    print(\"Mapping {}_dim_Gaussian to {}_dim code vectors\".format(z_dim, l_dim))\n",
    "else:\n",
    "    print(\"Mapping {}_dim_Gaussian to {}_dim code vectors\".format(z_dim, code[0]*code[1]*code[2]))"
   ]
  },
  {
   "cell_type": "markdown",
   "metadata": {},
   "source": [
    "## Set up the Generator model"
   ]
  },
  {
   "cell_type": "code",
   "execution_count": 37,
   "metadata": {},
   "outputs": [],
   "source": [
    "# Model kwargs\n",
    "fc_sizes = [n_hidden] * n_layers\n",
    "ewm_kwargs = { 'z_dim': z_dim, 'fc_sizes': fc_sizes, 'n_out': code[0]*code[1]*code[2]}\n",
    "# fc_sizes = [512] * 4\n",
    "# ewm_kwargs = { 'z_dim': 100, 'fc_sizes': fc_sizes, 'n_out': 384}"
   ]
  },
  {
   "cell_type": "code",
   "execution_count": 38,
   "metadata": {},
   "outputs": [],
   "source": [
    "# Create generator on GPU\n",
    "G = ewm.ewm_G(**ewm_kwargs).to(device)"
   ]
  },
  {
   "cell_type": "markdown",
   "metadata": {},
   "source": [
    "## Load EWM model checkpoint"
   ]
  },
  {
   "cell_type": "code",
   "execution_count": 39,
   "metadata": {},
   "outputs": [],
   "source": [
    "# Get checkpoint name(s)\n",
    "EWM_checkpoint_path  = EWM_path + weights_dir\n",
    "EWM_checkpoint_names = []\n",
    "for file in os.listdir(EWM_checkpoint_path):\n",
    "    EWM_checkpoint_names.append(os.path.join(EWM_checkpoint_path, file))"
   ]
  },
  {
   "cell_type": "code",
   "execution_count": 40,
   "metadata": {},
   "outputs": [
    {
     "name": "stdout",
     "output_type": "stream",
     "text": [
      "------------------------------------------------------------\n",
      "\n",
      " 0 : best_ewm_ep_9.tar \n",
      "\n",
      "------------------------------------------------------------\n",
      "\n",
      " 1 : best_ewm_ep_1.tar \n",
      "\n",
      "------------------------------------------------------------\n"
     ]
    }
   ],
   "source": [
    "print(\"-\"*60)\n",
    "for i in range(len(EWM_checkpoint_names)):\n",
    "    name = EWM_checkpoint_names[i].split('/')[-1]\n",
    "    print(\"\\n {} :\".format(str(i)), name, '\\n')\n",
    "    print(\"-\"*60)"
   ]
  },
  {
   "cell_type": "code",
   "execution_count": 41,
   "metadata": {},
   "outputs": [],
   "source": [
    "# Select the checkpoint you want\n",
    "EWM_checkpoint = EWM_checkpoint_names[0]"
   ]
  },
  {
   "cell_type": "code",
   "execution_count": 42,
   "metadata": {},
   "outputs": [],
   "source": [
    "# Load the model checkpoint\n",
    "# Keys: ['state_dict', 'epoch', 'optimizer']\n",
    "# checkpoint = torch.load(EWM_checkpoint)\n",
    "checkpoint = torch.load('/media/hdd1/kai/particle_generator/experiments/03-11-2020_13-47-44_ewm_100_epochs_Code_Vectors_64_384/weights/best_ewm_ep_1.tar')"
   ]
  },
  {
   "cell_type": "code",
   "execution_count": 43,
   "metadata": {},
   "outputs": [
    {
     "data": {
      "text/plain": [
       "<All keys matched successfully>"
      ]
     },
     "execution_count": 43,
     "metadata": {},
     "output_type": "execute_result"
    }
   ],
   "source": [
    "# Load the model's state dictionary\n",
    "# Note: The IncompatibleKeys(missing_keys=[], unexpected_keys=[]) message indicates that\n",
    "#       there were no problems in loading the state dictionary. Bit confusing...\n",
    "G.load_state_dict(checkpoint['state_dict'])"
   ]
  },
  {
   "cell_type": "code",
   "execution_count": 44,
   "metadata": {},
   "outputs": [
    {
     "data": {
      "text/plain": [
       "ewm_G(\n",
       "  (fc): Sequential(\n",
       "    (0): Sequential(\n",
       "      (0): Linear(in_features=100, out_features=512, bias=True)\n",
       "      (1): LeakyReLU(negative_slope=0.5)\n",
       "    )\n",
       "    (1): Sequential(\n",
       "      (0): Linear(in_features=512, out_features=512, bias=True)\n",
       "      (1): LeakyReLU(negative_slope=0.5)\n",
       "    )\n",
       "    (2): Sequential(\n",
       "      (0): Linear(in_features=512, out_features=512, bias=True)\n",
       "      (1): LeakyReLU(negative_slope=0.5)\n",
       "    )\n",
       "    (3): Sequential(\n",
       "      (0): Linear(in_features=512, out_features=512, bias=True)\n",
       "      (1): LeakyReLU(negative_slope=0.5)\n",
       "    )\n",
       "  )\n",
       "  (out): Sequential(\n",
       "    (0): Linear(in_features=512, out_features=384, bias=True)\n",
       "  )\n",
       ")"
      ]
     },
     "execution_count": 44,
     "metadata": {},
     "output_type": "execute_result"
    }
   ],
   "source": [
    "# Put the model in evaluation mode\n",
    "G.eval()"
   ]
  },
  {
   "cell_type": "markdown",
   "metadata": {},
   "source": [
    "## Check that the l_dim of the AE is the same as the out_dim of the Generator"
   ]
  },
  {
   "cell_type": "code",
   "execution_count": 45,
   "metadata": {},
   "outputs": [],
   "source": [
    "if 'mlp' in AE_root:\n",
    "    ae_l_dim = AE.encoder.last.out_features\n",
    "else:\n",
    "    ae_l_dim = code[0]*code[1]*code[2]\n",
    "g_out_dim = G.out[0].out_features"
   ]
  },
  {
   "cell_type": "code",
   "execution_count": 46,
   "metadata": {},
   "outputs": [
    {
     "name": "stdout",
     "output_type": "stream",
     "text": [
      "Code vector sizes match\n"
     ]
    }
   ],
   "source": [
    "if ae_l_dim != g_out_dim:\n",
    "    print(\"Code vector sizes do not match!\")\n",
    "    print(\"AE: {} | G: {}\".format(ae_l_dim, g_out_dim))\n",
    "else:\n",
    "    print(\"Code vector sizes match\")"
   ]
  },
  {
   "cell_type": "markdown",
   "metadata": {},
   "source": [
    "#### Compute the arguments for reshaping the Generator's output"
   ]
  },
  {
   "cell_type": "code",
   "execution_count": 47,
   "metadata": {},
   "outputs": [
    {
     "data": {
      "text/plain": [
       "32"
      ]
     },
     "execution_count": 47,
     "metadata": {},
     "output_type": "execute_result"
    }
   ],
   "source": [
    "model.decoder.deconv_blocks[0][2].in_channels\n",
    "model.decoder.deconv_blocks[0][2].out_channels"
   ]
  },
  {
   "cell_type": "code",
   "execution_count": 48,
   "metadata": {},
   "outputs": [
    {
     "name": "stdout",
     "output_type": "stream",
     "text": [
      "[6,32,8,8]\n"
     ]
    }
   ],
   "source": [
    "in_f  = model.decoder.deconv_blocks[0][2].in_channels\n",
    "out_f = model.decoder.deconv_blocks[0][2].out_channels\n",
    "h = code[1]\n",
    "w = code[2]\n",
    "print('[{},{},{},{}]'.format(in_f, out_f, h, w))"
   ]
  },
  {
   "cell_type": "markdown",
   "metadata": {},
   "source": [
    "## Deploy the Decoder using G as an input"
   ]
  },
  {
   "cell_type": "code",
   "execution_count": 49,
   "metadata": {},
   "outputs": [],
   "source": [
    "z_dim = 100\n",
    "mean = []; var = []\n",
    "for i in range(1000):\n",
    "    out = G(torch.randn(1, 1, z_dim).to(device))\n",
    "    out = out.detach().cpu().numpy()\n",
    "    mean.append(np.mean(out))\n",
    "    var.append(np.var(out))"
   ]
  },
  {
   "cell_type": "code",
   "execution_count": 50,
   "metadata": {},
   "outputs": [
    {
     "name": "stdout",
     "output_type": "stream",
     "text": [
      "-1.1003962 61.10046\n"
     ]
    }
   ],
   "source": [
    "print(np.mean(mean), np.mean(var))"
   ]
  },
  {
   "cell_type": "code",
   "execution_count": 51,
   "metadata": {},
   "outputs": [
    {
     "data": {
      "text/plain": [
       "[<matplotlib.lines.Line2D at 0x7fa9ecfe5f10>]"
      ]
     },
     "execution_count": 51,
     "metadata": {},
     "output_type": "execute_result"
    },
    {
     "data": {
      "image/png": "[encoded data removed]",
      "text/plain": [
       "<Figure size 432x288 with 1 Axes>"
      ]
     },
     "metadata": {
      "needs_background": "light"
     },
     "output_type": "display_data"
    }
   ],
   "source": [
    "%matplotlib inline\n",
    "plt.plot(mean, label='mean')\n",
    "plt.plot(var, label='var')"
   ]
  },
  {
   "cell_type": "code",
   "execution_count": 52,
   "metadata": {},
   "outputs": [],
   "source": [
    "samples1 = []; samples2 = []; limit = 16"
   ]
  },
  {
   "cell_type": "code",
   "execution_count": 53,
   "metadata": {},
   "outputs": [],
   "source": [
    "for itr in range(limit):\n",
    "    # Create an input vector for G\n",
    "    z_rand = torch.randn(2, 1, z_dim).to(device)\n",
    "    \n",
    "    # Get a code vector from G\n",
    "    code_vec = G(z_rand).view(2, in_f, h, w).to(device) + torch.randn(2, in_f, h, w).to(device)*2\n",
    "    \n",
    "    # Push code_vec through Decoder\n",
    "    sample = model.decoder(code_vec)\n",
    "    \n",
    "    # Reshape the sample, detach, and convert to numpy array\n",
    "    samples1.append(sample[0].view(im_dim, im_dim).detach().cpu().numpy())\n",
    "    samples2.append(sample[1].view(im_dim, im_dim).detach().cpu().numpy())"
   ]
  },
  {
   "cell_type": "code",
   "execution_count": 54,
   "metadata": {},
   "outputs": [
    {
     "data": {
      "text/plain": [
       "<matplotlib.image.AxesImage at 0x7fa9e0d2b7d0>"
      ]
     },
     "execution_count": 54,
     "metadata": {},
     "output_type": "execute_result"
    },
    {
     "data": {
      "image/png": "[encoded data removed]",
      "text/plain": [
       "<Figure size 432x288 with 1 Axes>"
      ]
     },
     "metadata": {
      "needs_background": "light"
     },
     "output_type": "display_data"
    }
   ],
   "source": [
    "%matplotlib inline\n",
    "plt.imshow(samples1[0], cmap='gray')"
   ]
  },
  {
   "cell_type": "code",
   "execution_count": 55,
   "metadata": {},
   "outputs": [
    {
     "data": {
      "text/plain": [
       "<matplotlib.image.AxesImage at 0x7fa9e0ca5690>"
      ]
     },
     "execution_count": 55,
     "metadata": {},
     "output_type": "execute_result"
    },
    {
     "data": {
      "image/png": "[encoded data removed]",
      "text/plain": [
       "<Figure size 432x288 with 1 Axes>"
      ]
     },
     "metadata": {
      "needs_background": "light"
     },
     "output_type": "display_data"
    }
   ],
   "source": [
    "plt.imshow(samples1[6], cmap='gray')"
   ]
  },
  {
   "cell_type": "markdown",
   "metadata": {},
   "source": [
    "## Viz the deploy samples"
   ]
  },
  {
   "cell_type": "code",
   "execution_count": 56,
   "metadata": {},
   "outputs": [
    {
     "data": {
      "image/png": "[encoded data removed]",
      "text/plain": [
       "<Figure size 1800x432 with 16 Axes>"
      ]
     },
     "metadata": {
      "needs_background": "light"
     },
     "output_type": "display_data"
    }
   ],
   "source": [
    "%matplotlib inline\n",
    "# Setup figure\n",
    "fig, axes = plt.subplots(nrows = 2, ncols = 8, sharex=True, sharey=True, figsize=(25,6))\n",
    "\n",
    "# Set title\n",
    "if 'mlp' in AE_root:\n",
    "    m_label = 'AE'\n",
    "else:\n",
    "    m_label = 'Conv_AE'\n",
    "\n",
    "# Generate plot\n",
    "for images, row in zip([samples1, samples2], axes):\n",
    "    for img, ax in zip(images, row):\n",
    "        img = np.reshape(img, (im_dim, im_dim))\n",
    "        ax.imshow(img, cmap='gray')\n",
    "        ax.get_xaxis().set_visible(False)\n",
    "        ax.get_yaxis().set_visible(False)\n",
    "        ax.tick_params(axis='x', colors='#443941')\n",
    "        ax.tick_params(axis='y', colors='#443941')\n",
    "fig.tight_layout()\n",
    "\n",
    "# Save figure\n",
    "save_file = \"ewm_ae_{}_{}_{}.png\".format(im_dim, code[0]*code[1]*code[2], m_label)\n",
    "plt.savefig(save_file, dpi=300)"
   ]
  },
  {
   "cell_type": "code",
   "execution_count": null,
   "metadata": {},
   "outputs": [],
   "source": []
  },
  {
   "cell_type": "code",
   "execution_count": null,
   "metadata": {},
   "outputs": [],
   "source": []
  }
 ],
 "metadata": {
  "kernelspec": {
   "display_name": "Python 3",
   "language": "python",
   "name": "python3"
  },
  "language_info": {
   "codemirror_mode": {
    "name": "ipython",
    "version": 3
   },
   "file_extension": ".py",
   "mimetype": "text/x-python",
   "name": "python",
   "nbconvert_exporter": "python",
   "pygments_lexer": "ipython3",
   "version": "3.7.4"
  }
 },
 "nbformat": 4,
 "nbformat_minor": 2
}
