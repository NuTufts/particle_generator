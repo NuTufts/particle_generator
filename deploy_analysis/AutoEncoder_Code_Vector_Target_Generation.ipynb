{
 "cells": [
  {
   "cell_type": "markdown",
   "metadata": {},
   "source": [
    "### This notebook is designed to generate a set of code-vector targets for a trained AutoEncoder model\n",
    "- This notebook is step 2 of 3 in setting up a model for generating particle decay event images"
   ]
  },
  {
   "cell_type": "markdown",
   "metadata": {},
   "source": [
    "## Import Libraries"
   ]
  },
  {
   "cell_type": "code",
   "execution_count": 1,
   "metadata": {},
   "outputs": [],
   "source": [
    "import os\n",
    "import torch\n",
    "import numpy as np\n",
    "import pandas as pd\n",
    "import torch.nn as nn\n",
    "import torchvision\n",
    "from torchvision import transforms\n",
    "from torch.utils.data import DataLoader\n",
    "import matplotlib.pyplot as plt"
   ]
  },
  {
   "cell_type": "markdown",
   "metadata": {},
   "source": [
    "### Import Files from full path on Meitner Machine"
   ]
  },
  {
   "cell_type": "code",
   "execution_count": 2,
   "metadata": {},
   "outputs": [],
   "source": [
    "import sys\n",
    "sys.path.insert(1, '/home/kseuro/Kai/deeplearnphysics/pytorch/particle_generator/')\n",
    "\n",
    "# Meitner Machine\n",
    "import ae\n",
    "import conv_ae\n",
    "import utils\n",
    "from dataloader import LArCV_loader"
   ]
  },
  {
   "cell_type": "markdown",
   "metadata": {},
   "source": [
    "#### Set the GPU to be used for model evaluation\n",
    "- On Meitner, GPU 1 is the best option"
   ]
  },
  {
   "cell_type": "code",
   "execution_count": 3,
   "metadata": {},
   "outputs": [],
   "source": [
    "device = torch.device(1)"
   ]
  },
  {
   "cell_type": "markdown",
   "metadata": {},
   "source": [
    "#### Set the root path of the AutoEncoder Experiments Folder"
   ]
  },
  {
   "cell_type": "code",
   "execution_count": 4,
   "metadata": {},
   "outputs": [],
   "source": [
    "exp_root = \"/media/hdd1/kai/particle_generator/experiments/\""
   ]
  },
  {
   "cell_type": "markdown",
   "metadata": {},
   "source": [
    "#### Select the model class and append to the experiment root"
   ]
  },
  {
   "cell_type": "code",
   "execution_count": 5,
   "metadata": {},
   "outputs": [],
   "source": [
    "model_class = {'mlp': 'mlp_ae/', 'conv':'conv_ae/'}"
   ]
  },
  {
   "cell_type": "code",
   "execution_count": 6,
   "metadata": {},
   "outputs": [],
   "source": [
    "model_folder = \"larcv_ae/\" + model_class['conv']"
   ]
  },
  {
   "cell_type": "code",
   "execution_count": 7,
   "metadata": {},
   "outputs": [],
   "source": [
    "exp_root += model_folder"
   ]
  },
  {
   "cell_type": "markdown",
   "metadata": {},
   "source": [
    "### Find all the experiments in the exp_root folder"
   ]
  },
  {
   "cell_type": "code",
   "execution_count": 8,
   "metadata": {},
   "outputs": [],
   "source": [
    "exp_paths = []\n",
    "for path in os.listdir(exp_root):\n",
    "    exp_paths.append(os.path.join(exp_root, path))"
   ]
  },
  {
   "cell_type": "code",
   "execution_count": 9,
   "metadata": {},
   "outputs": [
    {
     "name": "stdout",
     "output_type": "stream",
     "text": [
      "------------------------------------------------------------\n",
      "\n",
      "0: conv_ae_128_320 \n",
      "\n",
      "------------------------------------------------------------\n",
      "\n",
      "1: conv_ae_64_192 \n",
      "\n",
      "------------------------------------------------------------\n",
      "\n",
      "2: conv_ae_265_1632 \n",
      "\n",
      "------------------------------------------------------------\n"
     ]
    }
   ],
   "source": [
    "print(\"-\"*60)\n",
    "for i in range(len(exp_paths)):\n",
    "    exp_name = exp_paths[i].split('/')[-1]\n",
    "    print(\"\\n{}:\".format(str(i)), exp_name, '\\n')\n",
    "    print(\"-\"*60)"
   ]
  },
  {
   "cell_type": "markdown",
   "metadata": {},
   "source": [
    "### Choose the experiment for evaluation"
   ]
  },
  {
   "cell_type": "code",
   "execution_count": 10,
   "metadata": {},
   "outputs": [],
   "source": [
    "exp_dir = exp_paths[2]"
   ]
  },
  {
   "cell_type": "code",
   "execution_count": 11,
   "metadata": {},
   "outputs": [
    {
     "name": "stdout",
     "output_type": "stream",
     "text": [
      "Experiment path set as: \n",
      "/media/hdd1/kai/particle_generator/experiments/larcv_ae/conv_ae/conv_ae_265_1632/\n"
     ]
    }
   ],
   "source": [
    "# Create the full path to the experiment\n",
    "exp_path = os.path.join(exp_root, exp_dir) + \"/\"\n",
    "print(\"Experiment path set as: \\n{}\".format(exp_path))"
   ]
  },
  {
   "cell_type": "code",
   "execution_count": 12,
   "metadata": {},
   "outputs": [],
   "source": [
    "# Set path from where to load the model weights\n",
    "weights_dir = \"weights/\""
   ]
  },
  {
   "cell_type": "markdown",
   "metadata": {},
   "source": [
    "### Load the model configuration information from the config.csv"
   ]
  },
  {
   "cell_type": "code",
   "execution_count": 13,
   "metadata": {},
   "outputs": [],
   "source": [
    "# Load the config csv as a dict\n",
    "config_csv = exp_path + \"config.csv\"\n",
    "config_df = pd.read_csv(config_csv, delimiter = \",\")"
   ]
  },
  {
   "cell_type": "code",
   "execution_count": 14,
   "metadata": {},
   "outputs": [],
   "source": [
    "# Get the model architecture from config df\n",
    "num_epochs = int(config_df[config_df['Unnamed: 0'].str.contains(\"epochs\")==True]['0'].values.item())\n",
    "n_layers = int(config_df[config_df['Unnamed: 0'].str.contains(\"n_layers\")==True]['0'].values.item())\n",
    "l_dim    = int(config_df[config_df['Unnamed: 0'].str.contains(\"l_dim\")==True]['0'].values.item())\n",
    "depth    = int(config_df[config_df['Unnamed: 0'].str.contains(\"depth\")==True]['0'].values.item())\n",
    "im_size  = int(config_df[config_df['Unnamed: 0'].str.contains(\"dataset\")==True]['0'].values.item())**2\n",
    "im_dim   = int(np.sqrt(im_size))"
   ]
  },
  {
   "cell_type": "markdown",
   "metadata": {},
   "source": [
    "## Setup PyTorch DataLoader"
   ]
  },
  {
   "cell_type": "markdown",
   "metadata": {},
   "source": [
    "### Set the paths to the test data and reference training set"
   ]
  },
  {
   "cell_type": "markdown",
   "metadata": {},
   "source": [
    "#### Test Data"
   ]
  },
  {
   "cell_type": "code",
   "execution_count": 15,
   "metadata": {},
   "outputs": [
    {
     "name": "stdout",
     "output_type": "stream",
     "text": [
      "9600 test data will be loaded from: \n",
      "/media/hdd1/kai/particle_generator/larcv_data/test/larcv_png_256/\n"
     ]
    }
   ],
   "source": [
    "test_data = \"/media/hdd1/kai/particle_generator/larcv_data/test/larcv_png_{}/\".format(im_dim)\n",
    "num_test_ex = sum( [len(examples) for _, _, examples in os.walk(test_data)] )\n",
    "print(\"{} test data will be loaded from: \\n{}\".format(num_test_ex, test_data))"
   ]
  },
  {
   "cell_type": "markdown",
   "metadata": {},
   "source": [
    "#### Training Data"
   ]
  },
  {
   "cell_type": "code",
   "execution_count": 16,
   "metadata": {},
   "outputs": [
    {
     "name": "stdout",
     "output_type": "stream",
     "text": [
      "20003 training data will be loaded from: \n",
      "/media/hdd1/kai/particle_generator/larcv_data/train/larcv_png_256/\n"
     ]
    }
   ],
   "source": [
    "train_data = \"/media/hdd1/kai/particle_generator/larcv_data/train/larcv_png_{}/\".format(im_dim)\n",
    "num_train_ex = sum( [len(examples) for _, _, examples in os.walk(train_data)] )\n",
    "print(\"{} training data will be loaded from: \\n{}\".format(num_train_ex, train_data))"
   ]
  },
  {
   "cell_type": "markdown",
   "metadata": {},
   "source": [
    "#### Setup two instances of a dataloader object"
   ]
  },
  {
   "cell_type": "code",
   "execution_count": 17,
   "metadata": {},
   "outputs": [],
   "source": [
    "loader_kwargs = {'num_workers' : 2, 'batch_size': 1, 'shuffle': True}"
   ]
  },
  {
   "cell_type": "code",
   "execution_count": 18,
   "metadata": {},
   "outputs": [],
   "source": [
    "transforms = transforms.Compose([transforms.ToTensor(), transforms.Normalize([0.5],[0.5])])"
   ]
  },
  {
   "cell_type": "code",
   "execution_count": 19,
   "metadata": {},
   "outputs": [
    {
     "name": "stdout",
     "output_type": "stream",
     "text": [
      "Image conversion flag is: L\n",
      "Images will be loaded from subfolder of: /media/hdd1/kai/particle_generator/larcv_data/test/larcv_png_256/\n"
     ]
    }
   ],
   "source": [
    "test_dataset = LArCV_loader(root = test_data,  transforms = transforms)"
   ]
  },
  {
   "cell_type": "code",
   "execution_count": 20,
   "metadata": {},
   "outputs": [],
   "source": [
    "test_loader = DataLoader(test_dataset, **loader_kwargs)"
   ]
  },
  {
   "cell_type": "code",
   "execution_count": 21,
   "metadata": {},
   "outputs": [
    {
     "name": "stdout",
     "output_type": "stream",
     "text": [
      "Image conversion flag is: L\n",
      "Images will be loaded from subfolder of: /media/hdd1/kai/particle_generator/larcv_data/train/larcv_png_256/\n"
     ]
    }
   ],
   "source": [
    "train_dataset   = LArCV_loader(root = train_data, transforms = transforms)"
   ]
  },
  {
   "cell_type": "code",
   "execution_count": 22,
   "metadata": {},
   "outputs": [],
   "source": [
    "train_loader = DataLoader(train_dataset, **loader_kwargs)"
   ]
  },
  {
   "cell_type": "markdown",
   "metadata": {},
   "source": [
    "### Compute the layer dimensions for the AutoEncoder\n",
    "- TODO: Need to add function that deals with an AutoEncoder Model trained on MNIST"
   ]
  },
  {
   "cell_type": "code",
   "execution_count": 23,
   "metadata": {},
   "outputs": [],
   "source": [
    "# Set up AE layer sizes\n",
    "if 'mlp' in exp_path:    \n",
    "    base = [256] \n",
    "\n",
    "    # Compute encoder sizes\n",
    "    sizes = lambda: [ (yield 2**i) for i in range(n_layers) ]\n",
    "    enc_sizes = base * n_layers\n",
    "    enc_sizes = [a*b for a,b in zip(enc_sizes, [*sizes()])][::-1]\n",
    "\n",
    "    # Update kwarg dicts\n",
    "    # Decoder is the reverse of the encoder\n",
    "    ae_kwargs = {'enc_sizes' : enc_sizes, 'l_dim' : l_dim, 'im_size' : im_size, 'dec_sizes' : enc_sizes[::-1]}\n",
    "else:\n",
    "    # Compute the depth of the feature maps, based on the number of\n",
    "    # specified layers. If depth is not divisibe by 4, warn\n",
    "    depth   = [depth] * n_layers\n",
    "    divisor = lambda: [ (yield 2**i) for i in range(n_layers) ]\n",
    "    depth   = [a//b for a,b in zip(depth, [*divisor()])][::-1]\n",
    "        \n",
    "    # Update kwarg dicts\n",
    "    # Decoder is the reverse of the encoder\n",
    "    ae_kwargs = {'enc_depth':[1] + depth, 'dec_depth':depth[1:len(depth)][::-1] + [1],'l_dim':l_dim}"
   ]
  },
  {
   "cell_type": "code",
   "execution_count": 24,
   "metadata": {},
   "outputs": [
    {
     "name": "stdout",
     "output_type": "stream",
     "text": [
      "Model l_dim: 102\n",
      "Encoder depth: [1, 1, 2, 4, 9, 18, 36]\n",
      "Decoder depth: [36, 18, 9, 4, 2, 1]\n"
     ]
    }
   ],
   "source": [
    "print(\"Model l_dim: {}\".format(l_dim))\n",
    "print(\"Encoder depth: {}\".format(ae_kwargs['enc_depth']))\n",
    "print(\"Decoder depth: {}\".format(ae_kwargs['dec_depth']))"
   ]
  },
  {
   "cell_type": "markdown",
   "metadata": {},
   "source": [
    "## Load Model from Checkpoint"
   ]
  },
  {
   "cell_type": "markdown",
   "metadata": {},
   "source": [
    "### Get the list of checkpoint files"
   ]
  },
  {
   "cell_type": "code",
   "execution_count": 25,
   "metadata": {},
   "outputs": [],
   "source": [
    "checkpoint_path  = exp_path + weights_dir\n",
    "checkpoint_names = []\n",
    "for file in os.listdir(checkpoint_path):\n",
    "    checkpoint_names.append(os.path.join(checkpoint_path, file))"
   ]
  },
  {
   "cell_type": "code",
   "execution_count": 26,
   "metadata": {},
   "outputs": [],
   "source": [
    "# We wish to save a list of labels for ease of plot labelling later\n",
    "checkpoint_name_labels = []"
   ]
  },
  {
   "cell_type": "code",
   "execution_count": 27,
   "metadata": {},
   "outputs": [
    {
     "name": "stdout",
     "output_type": "stream",
     "text": [
      "------------------------------------------------------------\n",
      "\n",
      "0: best_conv_ae_ep_650.tar \n",
      "\n",
      "------------------------------------------------------------\n",
      "\n",
      "1: best_conv_ae_ep_600.tar \n",
      "\n",
      "------------------------------------------------------------\n",
      "\n",
      "2: best_conv_ae_ep_999.tar \n",
      "\n",
      "------------------------------------------------------------\n",
      "\n",
      "3: best_conv_ae_ep_700.tar \n",
      "\n",
      "------------------------------------------------------------\n",
      "\n",
      "4: best_conv_ae_ep_850.tar \n",
      "\n",
      "------------------------------------------------------------\n",
      "\n",
      "5: best_conv_ae_ep_900.tar \n",
      "\n",
      "------------------------------------------------------------\n",
      "\n",
      "6: best_conv_ae_ep_950.tar \n",
      "\n",
      "------------------------------------------------------------\n",
      "\n",
      "7: best_conv_ae_ep_750.tar \n",
      "\n",
      "------------------------------------------------------------\n",
      "\n",
      "8: best_conv_ae_ep_800.tar \n",
      "\n",
      "------------------------------------------------------------\n"
     ]
    }
   ],
   "source": [
    "print(\"-\"*60)\n",
    "for i in range(len(checkpoint_names)):\n",
    "    name = checkpoint_names[i].split('/')[-1]\n",
    "    checkpoint_name_labels.append(name)\n",
    "    print(\"\\n{}:\".format(str(i)), name, '\\n')\n",
    "    print(\"-\"*60)"
   ]
  },
  {
   "cell_type": "markdown",
   "metadata": {},
   "source": [
    "### Select the checkpoint from which you wish to generate code vector targets"
   ]
  },
  {
   "cell_type": "code",
   "execution_count": 28,
   "metadata": {},
   "outputs": [],
   "source": [
    "index = 2\n",
    "current_checkpoint = checkpoint_names[index]\n",
    "current_checkpoint_label = checkpoint_name_labels[index]"
   ]
  },
  {
   "cell_type": "markdown",
   "metadata": {},
   "source": [
    "### Load the checkpoint file using PyTorch"
   ]
  },
  {
   "cell_type": "code",
   "execution_count": 29,
   "metadata": {},
   "outputs": [],
   "source": [
    "# Load the model checkpoint\n",
    "# Keys: ['state_dict', 'epoch', 'optimizer']\n",
    "checkpoint = torch.load(current_checkpoint)"
   ]
  },
  {
   "cell_type": "markdown",
   "metadata": {},
   "source": [
    "### Set up the model on the GPU"
   ]
  },
  {
   "cell_type": "code",
   "execution_count": 30,
   "metadata": {},
   "outputs": [],
   "source": [
    "# Set up model on GPU\n",
    "if 'mlp' in exp_path:\n",
    "    model = ae.AutoEncoder(**ae_kwargs).to(device)\n",
    "else:\n",
    "    model = conv_ae.ConvAutoEncoder(**ae_kwargs).to(device)"
   ]
  },
  {
   "cell_type": "markdown",
   "metadata": {},
   "source": [
    "### Load the model's state dictionary"
   ]
  },
  {
   "cell_type": "code",
   "execution_count": 31,
   "metadata": {},
   "outputs": [
    {
     "data": {
      "text/plain": [
       "<All keys matched successfully>"
      ]
     },
     "execution_count": 31,
     "metadata": {},
     "output_type": "execute_result"
    }
   ],
   "source": [
    "model.load_state_dict(checkpoint['state_dict'], strict=False)"
   ]
  },
  {
   "cell_type": "markdown",
   "metadata": {},
   "source": [
    "### Put model in evaluation mode"
   ]
  },
  {
   "cell_type": "code",
   "execution_count": 32,
   "metadata": {},
   "outputs": [
    {
     "data": {
      "text/plain": [
       "ConvAutoEncoder(\n",
       "  (encoder): ConvEncoder(\n",
       "    (conv_blocks): Sequential(\n",
       "      (0): Sequential(\n",
       "        (0): Conv2d(1, 1, kernel_size=(3, 3), stride=(1, 1), padding=(1, 1))\n",
       "        (1): LeakyReLU(negative_slope=0.2)\n",
       "        (2): MaxPool2d(kernel_size=2, stride=2, padding=0, dilation=1, ceil_mode=False)\n",
       "      )\n",
       "      (1): Sequential(\n",
       "        (0): Conv2d(1, 2, kernel_size=(3, 3), stride=(1, 1), padding=(1, 1))\n",
       "        (1): LeakyReLU(negative_slope=0.2)\n",
       "        (2): MaxPool2d(kernel_size=2, stride=2, padding=0, dilation=1, ceil_mode=False)\n",
       "      )\n",
       "      (2): Sequential(\n",
       "        (0): Conv2d(2, 4, kernel_size=(3, 3), stride=(1, 1), padding=(1, 1))\n",
       "        (1): LeakyReLU(negative_slope=0.2)\n",
       "        (2): MaxPool2d(kernel_size=2, stride=2, padding=0, dilation=1, ceil_mode=False)\n",
       "      )\n",
       "      (3): Sequential(\n",
       "        (0): Conv2d(4, 9, kernel_size=(3, 3), stride=(1, 1), padding=(1, 1))\n",
       "        (1): LeakyReLU(negative_slope=0.2)\n",
       "        (2): MaxPool2d(kernel_size=2, stride=2, padding=0, dilation=1, ceil_mode=False)\n",
       "      )\n",
       "      (4): Sequential(\n",
       "        (0): Conv2d(9, 18, kernel_size=(3, 3), stride=(1, 1), padding=(1, 1))\n",
       "        (1): LeakyReLU(negative_slope=0.2)\n",
       "        (2): MaxPool2d(kernel_size=2, stride=2, padding=0, dilation=1, ceil_mode=False)\n",
       "      )\n",
       "      (5): Sequential(\n",
       "        (0): Conv2d(18, 36, kernel_size=(3, 3), stride=(1, 1), padding=(1, 1))\n",
       "        (1): LeakyReLU(negative_slope=0.2)\n",
       "        (2): MaxPool2d(kernel_size=2, stride=2, padding=0, dilation=1, ceil_mode=False)\n",
       "      )\n",
       "    )\n",
       "    (last): Conv2d(36, 102, kernel_size=(3, 3), stride=(1, 1), padding=(1, 1))\n",
       "  )\n",
       "  (decoder): ConvDecoder(\n",
       "    (deconv_blocks): Sequential(\n",
       "      (0): Sequential(\n",
       "        (0): ConvTranspose2d(102, 36, kernel_size=(2, 2), stride=(2, 2))\n",
       "        (1): LeakyReLU(negative_slope=0.2)\n",
       "      )\n",
       "      (1): Sequential(\n",
       "        (0): ConvTranspose2d(36, 18, kernel_size=(2, 2), stride=(2, 2))\n",
       "        (1): LeakyReLU(negative_slope=0.2)\n",
       "      )\n",
       "      (2): Sequential(\n",
       "        (0): ConvTranspose2d(18, 9, kernel_size=(2, 2), stride=(2, 2))\n",
       "        (1): LeakyReLU(negative_slope=0.2)\n",
       "      )\n",
       "      (3): Sequential(\n",
       "        (0): ConvTranspose2d(9, 4, kernel_size=(2, 2), stride=(2, 2))\n",
       "        (1): LeakyReLU(negative_slope=0.2)\n",
       "      )\n",
       "      (4): Sequential(\n",
       "        (0): ConvTranspose2d(4, 2, kernel_size=(2, 2), stride=(2, 2))\n",
       "        (1): LeakyReLU(negative_slope=0.2)\n",
       "      )\n",
       "      (5): Sequential(\n",
       "        (0): ConvTranspose2d(2, 1, kernel_size=(2, 2), stride=(2, 2))\n",
       "        (1): LeakyReLU(negative_slope=0.2)\n",
       "      )\n",
       "    )\n",
       "    (activation): Tanh()\n",
       "  )\n",
       ")"
      ]
     },
     "execution_count": 32,
     "metadata": {},
     "output_type": "execute_result"
    }
   ],
   "source": [
    "model.eval()"
   ]
  },
  {
   "cell_type": "markdown",
   "metadata": {},
   "source": [
    "## Generate a set of code vector targets"
   ]
  },
  {
   "cell_type": "markdown",
   "metadata": {},
   "source": [
    "### If evaluating convolutional model, get the size of the code tensor using a random torch tensor"
   ]
  },
  {
   "cell_type": "code",
   "execution_count": 33,
   "metadata": {},
   "outputs": [
    {
     "name": "stdout",
     "output_type": "stream",
     "text": [
      "Code tensor volume is: [102 x 4 x 4] = 1632\n"
     ]
    }
   ],
   "source": [
    "if 'conv' in exp_path:\n",
    "    x = torch.randn(1, 1, im_dim, im_dim).to(device)\n",
    "    x = model.encoder(x)\n",
    "    code_dim = (x.shape[1], x.shape[2], x.shape[3])\n",
    "    print(\"Code tensor volume is: [{} x {} x {}] = {}\".format(code_dim[0], \n",
    "                                                              code_dim[1], \n",
    "                                                              code_dim[2], \n",
    "                                                              code_dim[0]*code_dim[1]*code_dim[2]))"
   ]
  },
  {
   "cell_type": "markdown",
   "metadata": {},
   "source": [
    "#### Create directory for saving code layer output targets"
   ]
  },
  {
   "cell_type": "code",
   "execution_count": 34,
   "metadata": {},
   "outputs": [],
   "source": [
    "# Specify the directory where the code vectors should be saved\n",
    "deploy_dir = \"/media/hdd1/kai/particle_generator/code_vectors/\""
   ]
  },
  {
   "cell_type": "code",
   "execution_count": 35,
   "metadata": {},
   "outputs": [],
   "source": [
    "if 'mlp' in exp_path:\n",
    "    deploy_dir += \"mlp_ae/code_vectors_{}_{}/\".format(im_dim, l_dim)\n",
    "else:\n",
    "    deploy_dir += \"conv_ae/code_vectors_{}_{}/\".format(im_dim, code_dim[0]*code_dim[1]*code_dim[2])"
   ]
  },
  {
   "cell_type": "code",
   "execution_count": 36,
   "metadata": {},
   "outputs": [
    {
     "ename": "FileExistsError",
     "evalue": "[Errno 17] File exists: '/media/hdd1/kai/particle_generator/code_vectors/conv_ae/code_vectors_256_1632/'",
     "output_type": "error",
     "traceback": [
      "\u001b[0;31m---------------------------------------------------------------------------\u001b[0m",
      "\u001b[0;31mFileExistsError\u001b[0m                           Traceback (most recent call last)",
      "\u001b[0;32m<ipython-input-36-f69c0cc6cb60>\u001b[0m in \u001b[0;36m<module>\u001b[0;34m\u001b[0m\n\u001b[1;32m      1\u001b[0m \u001b[0;31m# Create the save directory, if it doesn't already exist\u001b[0m\u001b[0;34m\u001b[0m\u001b[0;34m\u001b[0m\u001b[0;34m\u001b[0m\u001b[0m\n\u001b[0;32m----> 2\u001b[0;31m \u001b[0mos\u001b[0m\u001b[0;34m.\u001b[0m\u001b[0mmkdir\u001b[0m\u001b[0;34m(\u001b[0m\u001b[0mdeploy_dir\u001b[0m\u001b[0;34m)\u001b[0m\u001b[0;34m\u001b[0m\u001b[0;34m\u001b[0m\u001b[0m\n\u001b[0m",
      "\u001b[0;31mFileExistsError\u001b[0m: [Errno 17] File exists: '/media/hdd1/kai/particle_generator/code_vectors/conv_ae/code_vectors_256_1632/'"
     ]
    }
   ],
   "source": [
    "# Create the save directory, if it doesn't already exist\n",
    "os.mkdir(deploy_dir)"
   ]
  },
  {
   "cell_type": "code",
   "execution_count": 37,
   "metadata": {},
   "outputs": [],
   "source": [
    "if 'mlp' in exp_path:\n",
    "    deploy_dir += \"code_vectors_{}_{}/\".format(im_dim, l_dim)\n",
    "else:\n",
    "    deploy_dir += \"code_vectors_{}_{}/\".format(im_dim, code_dim[0]*code_dim[1]*code_dim[2])"
   ]
  },
  {
   "cell_type": "code",
   "execution_count": 38,
   "metadata": {},
   "outputs": [
    {
     "ename": "FileExistsError",
     "evalue": "[Errno 17] File exists: '/media/hdd1/kai/particle_generator/code_vectors/conv_ae/code_vectors_256_1632/code_vectors_256_1632/'",
     "output_type": "error",
     "traceback": [
      "\u001b[0;31m---------------------------------------------------------------------------\u001b[0m",
      "\u001b[0;31mFileExistsError\u001b[0m                           Traceback (most recent call last)",
      "\u001b[0;32m<ipython-input-38-236e952184e2>\u001b[0m in \u001b[0;36m<module>\u001b[0;34m\u001b[0m\n\u001b[0;32m----> 1\u001b[0;31m \u001b[0mos\u001b[0m\u001b[0;34m.\u001b[0m\u001b[0mmkdir\u001b[0m\u001b[0;34m(\u001b[0m\u001b[0mdeploy_dir\u001b[0m\u001b[0;34m)\u001b[0m\u001b[0;34m\u001b[0m\u001b[0;34m\u001b[0m\u001b[0m\n\u001b[0m",
      "\u001b[0;31mFileExistsError\u001b[0m: [Errno 17] File exists: '/media/hdd1/kai/particle_generator/code_vectors/conv_ae/code_vectors_256_1632/code_vectors_256_1632/'"
     ]
    }
   ],
   "source": [
    "os.mkdir(deploy_dir)"
   ]
  },
  {
   "cell_type": "code",
   "execution_count": 39,
   "metadata": {},
   "outputs": [
    {
     "name": "stdout",
     "output_type": "stream",
     "text": [
      "Deploy samples will be saved to:\n",
      "/media/hdd1/kai/particle_generator/code_vectors/conv_ae/code_vectors_256_1632/code_vectors_256_1632/\n"
     ]
    }
   ],
   "source": [
    "print(\"Deploy samples will be saved to:\\n{}\".format(deploy_dir))"
   ]
  },
  {
   "cell_type": "markdown",
   "metadata": {},
   "source": [
    "### Generate deploy targets by looping over the dataloader using only the encoder"
   ]
  },
  {
   "cell_type": "code",
   "execution_count": 40,
   "metadata": {},
   "outputs": [],
   "source": [
    "# Codes will be a list of numpy arrays of 32-bit floats\n",
    "codes = []"
   ]
  },
  {
   "cell_type": "code",
   "execution_count": 41,
   "metadata": {},
   "outputs": [],
   "source": [
    "for idx, image in enumerate(train_loader):\n",
    "\n",
    "    # Flatten image into a vector, if mlp\n",
    "    if 'mlp' in exp_path:\n",
    "        image = image.view(loader_kwargs['batch_size'], -1).to(device)\n",
    "    else:\n",
    "        image = image.to(device)\n",
    "    \n",
    "    # Get the output of just the encoder\n",
    "    code = model.encoder(image)\n",
    "    \n",
    "    # If using conv model -- flatten tensor\n",
    "    if 'conv' in exp_path:\n",
    "        code = code.view(loader_kwargs['batch_size'], -1).to(device)\n",
    "\n",
    "    # Save the output tensor to a list\n",
    "    codes.append(code.detach().cpu().numpy())"
   ]
  },
  {
   "cell_type": "code",
   "execution_count": 42,
   "metadata": {},
   "outputs": [
    {
     "name": "stdout",
     "output_type": "stream",
     "text": [
      "Generated 20003 code vectors from 20003 training images\n"
     ]
    }
   ],
   "source": [
    "print(\"Generated {} code vectors from {} training images\".format(len(codes), len(train_loader)))"
   ]
  },
  {
   "cell_type": "code",
   "execution_count": 43,
   "metadata": {},
   "outputs": [
    {
     "data": {
      "text/plain": [
       "1632"
      ]
     },
     "execution_count": 43,
     "metadata": {},
     "output_type": "execute_result"
    }
   ],
   "source": [
    "codes[0].size"
   ]
  },
  {
   "cell_type": "markdown",
   "metadata": {},
   "source": [
    "## Save the list of code vectors to disk\n",
    "- We then use the built-in np.save function to store the np array as a .npy file\n",
    "- The numpy array of floats can be read back losslessly using np.load(\"float_file.npy\")\n",
    "- This process will require the downstream creation of a [custom dataset](https://pytorch.org/tutorials/beginner/data_loading_tutorial.html)"
   ]
  },
  {
   "cell_type": "code",
   "execution_count": 44,
   "metadata": {},
   "outputs": [],
   "source": [
    "for idx, arr in enumerate(codes):\n",
    "    file_name = deploy_dir + \"target_{}.npy\".format(idx)\n",
    "    np.save(file_name, arr)"
   ]
  },
  {
   "cell_type": "markdown",
   "metadata": {},
   "source": [
    "##### Check that saving actually occured"
   ]
  },
  {
   "cell_type": "code",
   "execution_count": 45,
   "metadata": {},
   "outputs": [],
   "source": [
    "num_vecs = sum( [len(examples) for _, _, examples in os.walk(deploy_dir)] )"
   ]
  },
  {
   "cell_type": "code",
   "execution_count": 46,
   "metadata": {},
   "outputs": [
    {
     "name": "stdout",
     "output_type": "stream",
     "text": [
      "Saved 20003 code vectors to \n",
      "/media/hdd1/kai/particle_generator/code_vectors/conv_ae/code_vectors_256_1632/code_vectors_256_1632/\n"
     ]
    }
   ],
   "source": [
    "if num_vecs == len(codes):\n",
    "    print(\"Saved {} code vectors to \\n{}\".format(num_vecs, deploy_dir))\n",
    "else:\n",
    "    print(\"Something went wrong...\")"
   ]
  },
  {
   "cell_type": "markdown",
   "metadata": {},
   "source": [
    "## Get a sample of test images from the AutoEncoder Model"
   ]
  },
  {
   "cell_type": "markdown",
   "metadata": {},
   "source": [
    "##### Make a folder inside of the experiment directory for saving test samples"
   ]
  },
  {
   "cell_type": "code",
   "execution_count": 47,
   "metadata": {},
   "outputs": [],
   "source": [
    "test_sample_path = exp_path + \"test_samples/\""
   ]
  },
  {
   "cell_type": "code",
   "execution_count": 48,
   "metadata": {},
   "outputs": [
    {
     "name": "stdout",
     "output_type": "stream",
     "text": [
      "Test samples will be saved to /media/hdd1/kai/particle_generator/experiments/larcv_ae/conv_ae/conv_ae_265_1632/test_samples/\n"
     ]
    }
   ],
   "source": [
    "print(\"Test samples will be saved to {}\".format(test_sample_path))"
   ]
  },
  {
   "cell_type": "code",
   "execution_count": 49,
   "metadata": {},
   "outputs": [],
   "source": [
    "os.mkdir(test_sample_path)"
   ]
  },
  {
   "cell_type": "code",
   "execution_count": 65,
   "metadata": {},
   "outputs": [],
   "source": [
    "test_ims = []; samples = []; limit = 16"
   ]
  },
  {
   "cell_type": "code",
   "execution_count": 66,
   "metadata": {},
   "outputs": [],
   "source": [
    "for idx, image in enumerate(test_loader):\n",
    "    \n",
    "    # Flatten image into a vector\n",
    "    if 'mlp' in exp_path:\n",
    "        image = image.view(loader_kwargs['batch_size'], -1).to(device)\n",
    "    else:\n",
    "        image = image.to(device)\n",
    "    \n",
    "    # Get sample from model\n",
    "    sample = model(image)\n",
    "    \n",
    "    # Concatenate the two images along the channel dimension and append to list\n",
    "    # For later plotting with MatPlotLib below this cell\n",
    "    test_ims.append(image.view(-1, im_dim, im_dim).detach().cpu().numpy())\n",
    "    samples.append(sample.view(-1, im_dim, im_dim).detach().cpu().numpy())\n",
    "    \n",
    "    if idx+1 == limit:\n",
    "        break"
   ]
  },
  {
   "cell_type": "code",
   "execution_count": 67,
   "metadata": {},
   "outputs": [],
   "source": [
    "# Compute the plot title\n",
    "if 'mlp' in exp_path:\n",
    "    title = \"MLP AutoEncoder Test Set Reconstruction Samples\"\n",
    "else:\n",
    "    title = \"Convolutional AutoEncoder Test Set Reconstruction Samples\""
   ]
  },
  {
   "cell_type": "code",
   "execution_count": 68,
   "metadata": {},
   "outputs": [],
   "source": [
    "# Compute the experiment label\n",
    "if 'mlp' in exp_path:\n",
    "    label = \"{}x{} Dataset | {} Dimensional Code Vector\".format(im_dim, im_dim, l_dim)\n",
    "else:\n",
    "    label = \"{}x{} Dataset | {}x{}x{} Dimensional Code Volume\".format(im_dim, im_dim, code_dim[0], \n",
    "                                                                                      code_dim[1], \n",
    "                                                                                      code_dim[2])"
   ]
  },
  {
   "cell_type": "code",
   "execution_count": 69,
   "metadata": {},
   "outputs": [
    {
     "data": {
      "image/png": "[encoded data removed]",
      "text/plain": [
       "<Figure size 1800x432 with 16 Axes>"
      ]
     },
     "metadata": {
      "needs_background": "light"
     },
     "output_type": "display_data"
    }
   ],
   "source": [
    "%matplotlib inline\n",
    "# Setup figure\n",
    "fig, axes = plt.subplots(nrows = 2, ncols = limit//2, sharex=True, sharey=True, figsize=(25,6))\n",
    "\n",
    "# plt.suptitle(title)\n",
    "# plt.title(label)\n",
    "\n",
    "# Set title\n",
    "if 'mlp' in exp_path:\n",
    "    m_label = 'AE'\n",
    "else:\n",
    "    m_label = 'Conv_AE'\n",
    "\n",
    "# title = \"{} model test samples using {}x{} dataset\".format(m_label, im_dim, im_dim)\n",
    "# fig.suptitle(title, color=\"white\")\n",
    "\n",
    "# Generate plot\n",
    "for images, row in zip([test_ims, samples], axes):\n",
    "    for img, ax in zip(images, row):\n",
    "        img = np.reshape(img, (im_dim, im_dim))\n",
    "        ax.imshow(img, cmap='gray')\n",
    "        ax.get_xaxis().set_visible(False)\n",
    "        ax.get_yaxis().set_visible(False)\n",
    "        ax.tick_params(axis='x', colors='#443941')\n",
    "        ax.tick_params(axis='y', colors='#443941')\n",
    "\n",
    "fig.tight_layout()\n",
    "\n",
    "# Save figure\n",
    "save_file = \"conv_ae_{}_{}.png\".format(im_dim, code_dim[0]*code_dim[1]*code_dim[2])\n",
    "plt.savefig(save_file, dpi=300)"
   ]
  },
  {
   "cell_type": "code",
   "execution_count": null,
   "metadata": {},
   "outputs": [],
   "source": []
  }
 ],
 "metadata": {
  "kernelspec": {
   "display_name": "Python 3",
   "language": "python",
   "name": "python3"
  },
  "language_info": {
   "codemirror_mode": {
    "name": "ipython",
    "version": 3
   },
   "file_extension": ".py",
   "mimetype": "text/x-python",
   "name": "python",
   "nbconvert_exporter": "python",
   "pygments_lexer": "ipython3",
   "version": "3.7.4"
  }
 },
 "nbformat": 4,
 "nbformat_minor": 2
}
