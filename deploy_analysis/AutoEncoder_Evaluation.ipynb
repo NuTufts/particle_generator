{
 "cells": [
  {
   "cell_type": "markdown",
   "metadata": {},
   "source": [
    "## Notebook for evaluation of a trained AutoEncoder Model\n",
    "- This notebook is step 1 of 3 in setting up a model pipeline for generating particle decay event images\n",
    "- The notebook is broken up into the following components:\n",
    "    - Loss evaluation and plotting\n",
    "        - The loss for the entire training cycle is plotted\n",
    "        - The mean and stddev for the loss values for model checkpoints between 600 to 1000.\n",
    "            - We compute the average loss value over 10k test samples and 10k training samples\n",
    "    - An appropriately generalizable Decoder is chosen based on the smalled difference in MSE value from the previous evaluation step\n",
    "    - Sets of sample images are generated for that checkpoint using test data in order to assess image reconstruction quality\n",
    "    - A set of code vector targets is generated using that model checkpoint"
   ]
  },
  {
   "cell_type": "markdown",
   "metadata": {},
   "source": [
    "## Import Libraries"
   ]
  },
  {
   "cell_type": "code",
   "execution_count": 349,
   "metadata": {},
   "outputs": [],
   "source": [
    "import os\n",
    "import torch\n",
    "import numpy as np\n",
    "import pandas as pd\n",
    "import torch.nn as nn\n",
    "import torchvision\n",
    "from torchvision import transforms\n",
    "from torch.utils.data import DataLoader\n",
    "import matplotlib.pyplot as plt\n",
    "from matplotlib.lines import Line2D"
   ]
  },
  {
   "cell_type": "markdown",
   "metadata": {},
   "source": [
    "### Import Files from full path on Meitner Machine"
   ]
  },
  {
   "cell_type": "code",
   "execution_count": 5,
   "metadata": {},
   "outputs": [],
   "source": [
    "import sys\n",
    "sys.path.insert(1, '/home/kseuro/Kai/deeplearnphysics/pytorch/particle_generator/')\n",
    "\n",
    "# Meitner Machine\n",
    "import ae\n",
    "import conv_ae\n",
    "import utils\n",
    "from dataloader import LArCV_loader"
   ]
  },
  {
   "cell_type": "markdown",
   "metadata": {},
   "source": [
    "#### Set the GPU to be used for model evaluation\n",
    "- On Meitner, GPU 1 is the best option"
   ]
  },
  {
   "cell_type": "code",
   "execution_count": 6,
   "metadata": {},
   "outputs": [],
   "source": [
    "device = torch.device(1)"
   ]
  },
  {
   "cell_type": "markdown",
   "metadata": {},
   "source": [
    "#### Set the root path of the AutoEncoder Experiments Folder"
   ]
  },
  {
   "cell_type": "code",
   "execution_count": 7,
   "metadata": {},
   "outputs": [],
   "source": [
    "exp_root = \"/media/hdd1/kai/particle_generator/experiments/\""
   ]
  },
  {
   "cell_type": "markdown",
   "metadata": {},
   "source": [
    "#### Select the model class and append to the experiment root"
   ]
  },
  {
   "cell_type": "code",
   "execution_count": 8,
   "metadata": {},
   "outputs": [],
   "source": [
    "model_class = {'mlp': 'mlp_ae/', 'conv':'conv_ae/'}"
   ]
  },
  {
   "cell_type": "code",
   "execution_count": 9,
   "metadata": {},
   "outputs": [],
   "source": [
    "model_folder = \"larcv_ae/\" + model_class['conv']"
   ]
  },
  {
   "cell_type": "code",
   "execution_count": 10,
   "metadata": {},
   "outputs": [],
   "source": [
    "exp_root += model_folder"
   ]
  },
  {
   "cell_type": "markdown",
   "metadata": {},
   "source": [
    "### Find all the experiments in the exp_root folder"
   ]
  },
  {
   "cell_type": "code",
   "execution_count": 11,
   "metadata": {},
   "outputs": [],
   "source": [
    "exp_paths = []\n",
    "for path in os.listdir(exp_root):\n",
    "    exp_paths.append(os.path.join(exp_root, path))"
   ]
  },
  {
   "cell_type": "code",
   "execution_count": 12,
   "metadata": {},
   "outputs": [
    {
     "name": "stdout",
     "output_type": "stream",
     "text": [
      "------------------------------------------------------------\n",
      "\n",
      "0: conv_ae_128_4-4-4 \n",
      "\n",
      "------------------------------------------------------------\n",
      "\n",
      "1: conv_ae_128_20-4-4 \n",
      "\n",
      "------------------------------------------------------------\n",
      "\n",
      "2: conv_ae_64_12-4-4 \n",
      "\n",
      "------------------------------------------------------------\n",
      "\n",
      "3: conv_ae_64_4-4-4 \n",
      "\n",
      "------------------------------------------------------------\n",
      "\n",
      "4: conv_ae_128_32-8-8 \n",
      "\n",
      "------------------------------------------------------------\n",
      "\n",
      "5: conv_ae_256_102-4-4 \n",
      "\n",
      "------------------------------------------------------------\n"
     ]
    }
   ],
   "source": [
    "print(\"-\"*60)\n",
    "for i in range(len(exp_paths)):\n",
    "    exp_name = exp_paths[i].split('/')[-1]\n",
    "    print(\"\\n{}:\".format(str(i)), exp_name, '\\n')\n",
    "    print(\"-\"*60)"
   ]
  },
  {
   "cell_type": "markdown",
   "metadata": {},
   "source": [
    "### Choose the experiment for evaluation"
   ]
  },
  {
   "cell_type": "code",
   "execution_count": 13,
   "metadata": {},
   "outputs": [],
   "source": [
    "exp_dir = exp_paths[2]"
   ]
  },
  {
   "cell_type": "code",
   "execution_count": 14,
   "metadata": {},
   "outputs": [
    {
     "name": "stdout",
     "output_type": "stream",
     "text": [
      "Experiment path set as: \n",
      "/media/hdd1/kai/particle_generator/experiments/larcv_ae/conv_ae/conv_ae_64_12-4-4/\n"
     ]
    }
   ],
   "source": [
    "# Create the full path to the experiment\n",
    "exp_path = os.path.join(exp_root, exp_dir) + \"/\"\n",
    "print(\"Experiment path set as: \\n{}\".format(exp_path))"
   ]
  },
  {
   "cell_type": "code",
   "execution_count": 15,
   "metadata": {},
   "outputs": [],
   "source": [
    "# Set path from where to load the model weights\n",
    "weights_dir = \"weights/\""
   ]
  },
  {
   "cell_type": "markdown",
   "metadata": {},
   "source": [
    "### Load the model configuration information from the config.csv"
   ]
  },
  {
   "cell_type": "code",
   "execution_count": 16,
   "metadata": {},
   "outputs": [],
   "source": [
    "# Load the config csv as a dict\n",
    "config_csv = exp_path + \"config.csv\"\n",
    "config_df = pd.read_csv(config_csv, delimiter = \",\")"
   ]
  },
  {
   "cell_type": "code",
   "execution_count": 17,
   "metadata": {},
   "outputs": [],
   "source": [
    "# Get the model architecture from config df\n",
    "num_epochs = int(config_df[config_df['Unnamed: 0'].str.contains(\"epochs\")==True]['0'].values.item())\n",
    "n_layers = int(config_df[config_df['Unnamed: 0'].str.contains(\"n_layers\")==True]['0'].values.item())\n",
    "l_dim    = int(config_df[config_df['Unnamed: 0'].str.contains(\"l_dim\")==True]['0'].values.item())\n",
    "depth    = int(config_df[config_df['Unnamed: 0'].str.contains(\"depth\")==True]['0'].values.item())\n",
    "im_size  = int(config_df[config_df['Unnamed: 0'].str.contains(\"dataset\")==True]['0'].values.item())**2\n",
    "im_dim   = int(np.sqrt(im_size))"
   ]
  },
  {
   "cell_type": "markdown",
   "metadata": {},
   "source": [
    "## Setup PyTorch DataLoader"
   ]
  },
  {
   "cell_type": "markdown",
   "metadata": {},
   "source": [
    "### Set the paths to the test data and reference training set"
   ]
  },
  {
   "cell_type": "markdown",
   "metadata": {},
   "source": [
    "#### Test Data"
   ]
  },
  {
   "cell_type": "code",
   "execution_count": 18,
   "metadata": {},
   "outputs": [
    {
     "name": "stdout",
     "output_type": "stream",
     "text": [
      "10000 test data will be loaded from: \n",
      "/media/hdd1/kai/particle_generator/larcv_data/test/larcv_png_64/\n"
     ]
    }
   ],
   "source": [
    "test_data = \"/media/hdd1/kai/particle_generator/larcv_data/test/larcv_png_{}/\".format(im_dim)\n",
    "num_test_ex = sum( [len(examples) for _, _, examples in os.walk(test_data)] )\n",
    "print(\"{} test data will be loaded from: \\n{}\".format(num_test_ex, test_data))"
   ]
  },
  {
   "cell_type": "markdown",
   "metadata": {},
   "source": [
    "#### Reference Training Data"
   ]
  },
  {
   "cell_type": "code",
   "execution_count": 19,
   "metadata": {},
   "outputs": [
    {
     "name": "stdout",
     "output_type": "stream",
     "text": [
      "10000 reference training data will be loaded from: \n",
      "/media/hdd1/kai/particle_generator/larcv_data/train/train_reference/larcv_png_64/\n"
     ]
    }
   ],
   "source": [
    "train_data = \"/media/hdd1/kai/particle_generator/larcv_data/train/train_reference/larcv_png_{}/\".format(im_dim)\n",
    "num_train_ex = sum( [len(examples) for _, _, examples in os.walk(train_data)] )\n",
    "print(\"{} reference training data will be loaded from: \\n{}\".format(num_train_ex, train_data))"
   ]
  },
  {
   "cell_type": "markdown",
   "metadata": {},
   "source": [
    "#### Setup two instances of a dataloader object"
   ]
  },
  {
   "cell_type": "code",
   "execution_count": 20,
   "metadata": {},
   "outputs": [],
   "source": [
    "loader_kwargs = {'num_workers' : 2, 'batch_size': 1, 'shuffle': True}"
   ]
  },
  {
   "cell_type": "code",
   "execution_count": 21,
   "metadata": {},
   "outputs": [],
   "source": [
    "transforms = transforms.Compose([transforms.ToTensor(), transforms.Normalize([0.5],[0.5])])"
   ]
  },
  {
   "cell_type": "code",
   "execution_count": 22,
   "metadata": {},
   "outputs": [
    {
     "name": "stdout",
     "output_type": "stream",
     "text": [
      "Image conversion flag is: L\n",
      "Images will be loaded from subfolder of: /media/hdd1/kai/particle_generator/larcv_data/test/larcv_png_64/\n"
     ]
    }
   ],
   "source": [
    "test_dataset = LArCV_loader(root = test_data,  transforms = transforms)"
   ]
  },
  {
   "cell_type": "code",
   "execution_count": 23,
   "metadata": {},
   "outputs": [],
   "source": [
    "test_loader = DataLoader(test_dataset, **loader_kwargs)"
   ]
  },
  {
   "cell_type": "code",
   "execution_count": 24,
   "metadata": {},
   "outputs": [
    {
     "name": "stdout",
     "output_type": "stream",
     "text": [
      "Image conversion flag is: L\n",
      "Images will be loaded from subfolder of: /media/hdd1/kai/particle_generator/larcv_data/train/train_reference/larcv_png_64/\n"
     ]
    }
   ],
   "source": [
    "train_dataset   = LArCV_loader(root = train_data, transforms = transforms)"
   ]
  },
  {
   "cell_type": "code",
   "execution_count": 25,
   "metadata": {},
   "outputs": [],
   "source": [
    "train_loader = DataLoader(train_dataset, **loader_kwargs)"
   ]
  },
  {
   "cell_type": "markdown",
   "metadata": {},
   "source": [
    "### Compute the layer dimensions for the AutoEncoder\n",
    "- TODO: Need to add function that deals with an AutoEncoder Model trained on MNIST"
   ]
  },
  {
   "cell_type": "code",
   "execution_count": 26,
   "metadata": {},
   "outputs": [],
   "source": [
    "# Set up AE layer sizes\n",
    "if 'mlp' in exp_path:    \n",
    "    base = [256] \n",
    "\n",
    "    # Compute encoder sizes\n",
    "    sizes = lambda: [ (yield 2**i) for i in range(n_layers) ]\n",
    "    enc_sizes = base * n_layers\n",
    "    enc_sizes = [a*b for a,b in zip(enc_sizes, [*sizes()])][::-1]\n",
    "\n",
    "    # Update kwarg dicts\n",
    "    # Decoder is the reverse of the encoder\n",
    "    ae_kwargs = {'enc_sizes' : enc_sizes, 'l_dim' : l_dim, 'im_size' : im_size, 'dec_sizes' : enc_sizes[::-1]}\n",
    "else:\n",
    "    # Compute the depth of the feature maps, based on the number of\n",
    "    # specified layers. If depth is not divisibe by 4, warn\n",
    "    depth   = [depth] * n_layers\n",
    "    divisor = lambda: [ (yield 2**i) for i in range(n_layers) ]\n",
    "    depth   = [a//b for a,b in zip(depth, [*divisor()])][::-1]\n",
    "        \n",
    "    # Update kwarg dicts\n",
    "    # Decoder is the reverse of the encoder\n",
    "    ae_kwargs = {'enc_depth':[1] + depth, 'dec_depth':depth[1:len(depth)][::-1] + [1],'l_dim':l_dim}"
   ]
  },
  {
   "cell_type": "code",
   "execution_count": 27,
   "metadata": {},
   "outputs": [
    {
     "name": "stdout",
     "output_type": "stream",
     "text": [
      "Model l_dim: 12\n",
      "Encoder depth: [1, 4, 8, 16, 32]\n",
      "Decoder depth: [32, 16, 8, 1]\n"
     ]
    }
   ],
   "source": [
    "print(\"Model l_dim: {}\".format(l_dim))\n",
    "print(\"Encoder depth: {}\".format(ae_kwargs['enc_depth']))\n",
    "print(\"Decoder depth: {}\".format(ae_kwargs['dec_depth']))"
   ]
  },
  {
   "cell_type": "markdown",
   "metadata": {},
   "source": [
    "### Setup Model loss function"
   ]
  },
  {
   "cell_type": "code",
   "execution_count": 28,
   "metadata": {},
   "outputs": [],
   "source": [
    "loss_fn = nn.MSELoss().to(device)"
   ]
  },
  {
   "cell_type": "markdown",
   "metadata": {},
   "source": [
    "### Set up tracking of MSE evaluation results"
   ]
  },
  {
   "cell_type": "code",
   "execution_count": 29,
   "metadata": {},
   "outputs": [],
   "source": [
    "MSE_results = []; test_means = []; test_stds = []; train_means = []; train_stds = []"
   ]
  },
  {
   "cell_type": "markdown",
   "metadata": {},
   "source": [
    "## Load Model from Checkpoint"
   ]
  },
  {
   "cell_type": "markdown",
   "metadata": {},
   "source": [
    "### Get the list of checkpoint files"
   ]
  },
  {
   "cell_type": "code",
   "execution_count": 30,
   "metadata": {},
   "outputs": [],
   "source": [
    "checkpoint_path  = exp_path + weights_dir\n",
    "checkpoint_names = []\n",
    "for file in os.listdir(checkpoint_path):\n",
    "    checkpoint_names.append(os.path.join(checkpoint_path, file))"
   ]
  },
  {
   "cell_type": "code",
   "execution_count": 31,
   "metadata": {},
   "outputs": [],
   "source": [
    "# We wish to save a list of labels for ease of plot labelling later\n",
    "checkpoint_name_labels = []"
   ]
  },
  {
   "cell_type": "code",
   "execution_count": 32,
   "metadata": {},
   "outputs": [
    {
     "name": "stdout",
     "output_type": "stream",
     "text": [
      "------------------------------------------------------------\n",
      "\n",
      "0: best_conv_ae_ep_650.tar \n",
      "\n",
      "------------------------------------------------------------\n",
      "\n",
      "1: best_conv_ae_ep_600.tar \n",
      "\n",
      "------------------------------------------------------------\n",
      "\n",
      "2: best_conv_ae_ep_999.tar \n",
      "\n",
      "------------------------------------------------------------\n",
      "\n",
      "3: best_conv_ae_ep_700.tar \n",
      "\n",
      "------------------------------------------------------------\n",
      "\n",
      "4: best_conv_ae_ep_850.tar \n",
      "\n",
      "------------------------------------------------------------\n",
      "\n",
      "5: best_conv_ae_ep_900.tar \n",
      "\n",
      "------------------------------------------------------------\n",
      "\n",
      "6: best_conv_ae_ep_950.tar \n",
      "\n",
      "------------------------------------------------------------\n",
      "\n",
      "7: best_conv_ae_ep_750.tar \n",
      "\n",
      "------------------------------------------------------------\n",
      "\n",
      "8: best_conv_ae_ep_800.tar \n",
      "\n",
      "------------------------------------------------------------\n"
     ]
    }
   ],
   "source": [
    "print(\"-\"*60)\n",
    "for i in range(len(checkpoint_names)):\n",
    "    name = checkpoint_names[i].split('/')[-1]\n",
    "    checkpoint_name_labels.append(name)\n",
    "    print(\"\\n{}:\".format(str(i)), name, '\\n')\n",
    "    print(\"-\"*60)"
   ]
  },
  {
   "cell_type": "markdown",
   "metadata": {},
   "source": [
    "### Select the checkpoint you wish to evaluate"
   ]
  },
  {
   "cell_type": "code",
   "execution_count": 240,
   "metadata": {},
   "outputs": [],
   "source": [
    "index = 2\n",
    "current_checkpoint = checkpoint_names[index]\n",
    "current_checkpoint_label = checkpoint_name_labels[index]"
   ]
  },
  {
   "cell_type": "markdown",
   "metadata": {},
   "source": [
    "### Load the checkpoint file using PyTorch"
   ]
  },
  {
   "cell_type": "code",
   "execution_count": 241,
   "metadata": {},
   "outputs": [],
   "source": [
    "# Load the model checkpoint\n",
    "# Keys: ['state_dict', 'epoch', 'optimizer']\n",
    "checkpoint = torch.load(current_checkpoint)"
   ]
  },
  {
   "cell_type": "markdown",
   "metadata": {},
   "source": [
    "### Set up the model on the GPU"
   ]
  },
  {
   "cell_type": "code",
   "execution_count": 242,
   "metadata": {},
   "outputs": [],
   "source": [
    "# Set up model on GPU\n",
    "if 'mlp' in exp_path:\n",
    "    model = ae.AutoEncoder(**ae_kwargs).to(device)\n",
    "else:\n",
    "    model = conv_ae.ConvAutoEncoder(**ae_kwargs).to(device)"
   ]
  },
  {
   "cell_type": "markdown",
   "metadata": {},
   "source": [
    "### Load the model's state dictionary"
   ]
  },
  {
   "cell_type": "code",
   "execution_count": 243,
   "metadata": {},
   "outputs": [
    {
     "data": {
      "text/plain": [
       "<All keys matched successfully>"
      ]
     },
     "execution_count": 243,
     "metadata": {},
     "output_type": "execute_result"
    }
   ],
   "source": [
    "# Load the model's state dictionary\n",
    "# Note: The IncompatibleKeys(missing_keys=[], unexpected_keys=[]) message indicates that\n",
    "#       there were no problems in loading the state dictionary. Bit confusing...\n",
    "model.load_state_dict(checkpoint['state_dict'], strict=False)"
   ]
  },
  {
   "cell_type": "markdown",
   "metadata": {},
   "source": [
    "### Put model in training mode"
   ]
  },
  {
   "cell_type": "code",
   "execution_count": 244,
   "metadata": {},
   "outputs": [
    {
     "data": {
      "text/plain": [
       "ConvAutoEncoder(\n",
       "  (encoder): ConvEncoder(\n",
       "    (conv_blocks): Sequential(\n",
       "      (0): Sequential(\n",
       "        (0): Conv2d(1, 4, kernel_size=(3, 3), stride=(1, 1), padding=(1, 1))\n",
       "        (1): LeakyReLU(negative_slope=0.2)\n",
       "        (2): MaxPool2d(kernel_size=2, stride=2, padding=0, dilation=1, ceil_mode=False)\n",
       "      )\n",
       "      (1): Sequential(\n",
       "        (0): Conv2d(4, 8, kernel_size=(3, 3), stride=(1, 1), padding=(1, 1))\n",
       "        (1): LeakyReLU(negative_slope=0.2)\n",
       "        (2): MaxPool2d(kernel_size=2, stride=2, padding=0, dilation=1, ceil_mode=False)\n",
       "      )\n",
       "      (2): Sequential(\n",
       "        (0): Conv2d(8, 16, kernel_size=(3, 3), stride=(1, 1), padding=(1, 1))\n",
       "        (1): LeakyReLU(negative_slope=0.2)\n",
       "        (2): MaxPool2d(kernel_size=2, stride=2, padding=0, dilation=1, ceil_mode=False)\n",
       "      )\n",
       "      (3): Sequential(\n",
       "        (0): Conv2d(16, 32, kernel_size=(3, 3), stride=(1, 1), padding=(1, 1))\n",
       "        (1): LeakyReLU(negative_slope=0.2)\n",
       "        (2): MaxPool2d(kernel_size=2, stride=2, padding=0, dilation=1, ceil_mode=False)\n",
       "      )\n",
       "    )\n",
       "    (last): Conv2d(32, 12, kernel_size=(3, 3), stride=(1, 1), padding=(1, 1))\n",
       "  )\n",
       "  (decoder): ConvDecoder(\n",
       "    (deconv_blocks): Sequential(\n",
       "      (0): Sequential(\n",
       "        (0): ConvTranspose2d(12, 32, kernel_size=(2, 2), stride=(2, 2))\n",
       "        (1): LeakyReLU(negative_slope=0.2)\n",
       "      )\n",
       "      (1): Sequential(\n",
       "        (0): ConvTranspose2d(32, 16, kernel_size=(2, 2), stride=(2, 2))\n",
       "        (1): LeakyReLU(negative_slope=0.2)\n",
       "      )\n",
       "      (2): Sequential(\n",
       "        (0): ConvTranspose2d(16, 8, kernel_size=(2, 2), stride=(2, 2))\n",
       "        (1): LeakyReLU(negative_slope=0.2)\n",
       "      )\n",
       "      (3): Sequential(\n",
       "        (0): ConvTranspose2d(8, 1, kernel_size=(2, 2), stride=(2, 2))\n",
       "        (1): LeakyReLU(negative_slope=0.2)\n",
       "      )\n",
       "    )\n",
       "    (activation): Tanh()\n",
       "  )\n",
       ")"
      ]
     },
     "execution_count": 244,
     "metadata": {},
     "output_type": "execute_result"
    }
   ],
   "source": [
    "model.eval()"
   ]
  },
  {
   "cell_type": "markdown",
   "metadata": {},
   "source": [
    "## Get Model Loss Curves"
   ]
  },
  {
   "cell_type": "markdown",
   "metadata": {},
   "source": [
    "### Full loss curve for entire training cycle"
   ]
  },
  {
   "cell_type": "code",
   "execution_count": 245,
   "metadata": {},
   "outputs": [],
   "source": [
    "losses_csv = exp_path + \"losses.csv\"\n",
    "losses_df = pd.read_csv(losses_csv, delimiter = \",\")\n",
    "losses = np.asarray(losses_df['ae_loss'])"
   ]
  },
  {
   "cell_type": "code",
   "execution_count": 246,
   "metadata": {},
   "outputs": [],
   "source": [
    "# Compute average loss per epoch based based on loss array len\n",
    "step = int(len(losses) / num_epochs)\n",
    "new_losses = []\n",
    "for i in range(0, len(losses), step):\n",
    "    new_losses.append( sum(losses[i:i+step]) / step )\n",
    "new_losses = np.asarray(new_losses)"
   ]
  },
  {
   "cell_type": "markdown",
   "metadata": {},
   "source": [
    "### Compute the label for the checkpoint being evaluated"
   ]
  },
  {
   "cell_type": "code",
   "execution_count": 247,
   "metadata": {},
   "outputs": [],
   "source": [
    "checkpoint_label = current_checkpoint_label.split('.')[0].split('_')[-1]\n",
    "test_label = 'test_ep_{}'.format(checkpoint_label)\n",
    "train_label = 'train_ep_{}'.format(checkpoint_label)"
   ]
  },
  {
   "cell_type": "code",
   "execution_count": 248,
   "metadata": {},
   "outputs": [
    {
     "name": "stdout",
     "output_type": "stream",
     "text": [
      "999 test_ep_999 train_ep_999\n"
     ]
    }
   ],
   "source": [
    "print(checkpoint_label, test_label, train_label)"
   ]
  },
  {
   "cell_type": "markdown",
   "metadata": {},
   "source": [
    "### Loss values for test dataset"
   ]
  },
  {
   "cell_type": "code",
   "execution_count": 249,
   "metadata": {},
   "outputs": [],
   "source": [
    "test_losses = []"
   ]
  },
  {
   "cell_type": "code",
   "execution_count": 250,
   "metadata": {},
   "outputs": [],
   "source": [
    "for idx, image in enumerate(test_loader):\n",
    "    \n",
    "    # Flatten image into a vector -- if mlp\n",
    "    if 'mlp' in exp_path:\n",
    "        image = image.view(loader_kwargs['batch_size'], -1).to(device)\n",
    "    else:\n",
    "        image = image.to(device)\n",
    "    \n",
    "    # Forward pass\n",
    "    output = model(image)\n",
    "    \n",
    "    # Get the loss value for the batch\n",
    "    loss = loss_fn(output, image)\n",
    "    \n",
    "    # Append loss value\n",
    "    test_losses.append(float(loss.item()))"
   ]
  },
  {
   "cell_type": "markdown",
   "metadata": {},
   "source": [
    "#### Get the mean and stddev for the checkpoint file"
   ]
  },
  {
   "cell_type": "code",
   "execution_count": 251,
   "metadata": {},
   "outputs": [],
   "source": [
    "test_mean = np.mean(test_losses)\n",
    "test_std  = np.std(test_losses) "
   ]
  },
  {
   "cell_type": "code",
   "execution_count": 252,
   "metadata": {},
   "outputs": [],
   "source": [
    "test_means.append(test_mean)\n",
    "test_stds.append(test_std)"
   ]
  },
  {
   "cell_type": "markdown",
   "metadata": {},
   "source": [
    "### Loss values for reference-train dataset"
   ]
  },
  {
   "cell_type": "code",
   "execution_count": 253,
   "metadata": {},
   "outputs": [],
   "source": [
    "ref_train_losses = []"
   ]
  },
  {
   "cell_type": "code",
   "execution_count": 254,
   "metadata": {},
   "outputs": [],
   "source": [
    "for idx, image in enumerate(train_loader):    \n",
    "\n",
    "    # Flatten image into a vector\n",
    "    if 'mlp' in exp_path:\n",
    "        image = image.view(loader_kwargs['batch_size'], -1).to(device)\n",
    "    else:\n",
    "        image = image.to(device)\n",
    "    \n",
    "    # Forward pass\n",
    "    output = model(image)\n",
    "    \n",
    "    # Get the loss value for the batch\n",
    "    loss = loss_fn(output, image)\n",
    "    \n",
    "    # Append loss value\n",
    "    ref_train_losses.append(float(loss.item()))"
   ]
  },
  {
   "cell_type": "code",
   "execution_count": 255,
   "metadata": {},
   "outputs": [],
   "source": [
    "train_mean = np.mean(ref_train_losses)\n",
    "train_std  = np.std(ref_train_losses) "
   ]
  },
  {
   "cell_type": "code",
   "execution_count": 256,
   "metadata": {},
   "outputs": [],
   "source": [
    "train_means.append(train_mean)\n",
    "train_stds.append(train_std)"
   ]
  },
  {
   "cell_type": "markdown",
   "metadata": {},
   "source": [
    "### Free the GPU memory"
   ]
  },
  {
   "cell_type": "code",
   "execution_count": 257,
   "metadata": {},
   "outputs": [],
   "source": [
    "del model"
   ]
  },
  {
   "cell_type": "markdown",
   "metadata": {},
   "source": [
    "### Append the results to the MSE_results list"
   ]
  },
  {
   "cell_type": "code",
   "execution_count": 258,
   "metadata": {},
   "outputs": [],
   "source": [
    "# MSE_results.append()"
   ]
  },
  {
   "cell_type": "markdown",
   "metadata": {},
   "source": [
    "### Plot the Full Results"
   ]
  },
  {
   "cell_type": "code",
   "execution_count": 406,
   "metadata": {},
   "outputs": [],
   "source": [
    "# Compute the plot title\n",
    "if 'mlp' in exp_path:\n",
    "    title = \"MLP AutoEncoder Training Loss\" \n",
    "else:\n",
    "    title = \"Convolutional AutoEncoder Training Loss\""
   ]
  },
  {
   "cell_type": "code",
   "execution_count": 407,
   "metadata": {},
   "outputs": [],
   "source": [
    "# Compute the experiment label\n",
    "if 'mlp' in exp_path:\n",
    "    label = \"{}x{} Dataset | {} Dimensional Code Vector\".format(im_dim, im_dim, l_dim)\n",
    "else:\n",
    "    label = \"{}x{} Dataset | {}x{}x{} Dimensional Code Volume\".format(im_dim, im_dim, l_dim, 4, 4)"
   ]
  },
  {
   "cell_type": "code",
   "execution_count": 408,
   "metadata": {},
   "outputs": [],
   "source": [
    "# Compute the file name for saving\n",
    "if 'mlp' in exp_path:\n",
    "    save_file = \"training_loss_MLP_AE_{}_dataset_{}_l-dim.png\".format(im_dim, l_dim)\n",
    "else:\n",
    "    save_file = \"training_loss_Conv_AE_{}_dataset_{}-{}-{}_code-volume.png\".format(im_dim, l_dim, 4, 4)"
   ]
  },
  {
   "cell_type": "code",
   "execution_count": 409,
   "metadata": {},
   "outputs": [
    {
     "data": {
      "image/png": "[encoded data removed]",
      "text/plain": [
       "<Figure size 432x288 with 1 Axes>"
      ]
     },
     "metadata": {
      "needs_background": "light"
     },
     "output_type": "display_data"
    }
   ],
   "source": [
    "%matplotlib inline\n",
    "checkpoints = [i for i in range(600, 1050, 50)]\n",
    "colors = ['black', 'green', 'magenta', 'gray'] \n",
    "\n",
    "# Train Loss Label\n",
    "l0 = Line2D([0], [0], color='blue', lw=2, label='Train Loss')\n",
    "\n",
    "# Train Legend Labels\n",
    "l1 = Line2D([0], [0], marker='o', color=colors[0], label='Train Mean',   markerfacecolor= colors[0], markersize=10)\n",
    "l2 = Line2D([0], [0], color=colors[1], lw=2, label='Train StdDev')\n",
    "\n",
    "# Test Legend Labels\n",
    "l3 = Line2D([0], [0], marker='x', color=colors[2], label='Test Mean',    markerfacecolor= colors[2], markersize=10)\n",
    "l4 = Line2D([0], [0], color=colors[3], lw=2, label='Test StdDev')\n",
    "\n",
    "# Create custom legend list\n",
    "legend = [l0, l1, l2, l3, l4]\n",
    "\n",
    "# Plot the losses against the number of epochs\n",
    "fig, axes = plt.subplots(1,1)\n",
    "fig.suptitle(title)\n",
    "\n",
    "axes.set_title(label, fontsize=\"small\")\n",
    "axes.set_xlabel(\"Model Checkpoint Number\")\n",
    "axes.set_ylabel(\"Loss Value\")\n",
    "\n",
    "axes.plot(np.arange(0, num_epochs), new_losses, color = 'k')\n",
    "\n",
    "# Plot data\n",
    "for i in range(len(train_means)):\n",
    "    # Reference Training Set\n",
    "    label = 'train_ep_{}'.format(checkpoints[i])\n",
    "    axes.errorbar(checkpoints[i], train_means[i], yerr=train_stds[i], color=colors[0],\n",
    "                  ecolor = colors[1], label=label, fmt='o')\n",
    "    \n",
    "    # Test Set\n",
    "    label = 'test_ep_{}'.format(checkpoints[i])\n",
    "    axes.errorbar(checkpoints[i], test_means[i],  yerr=test_stds[i], color=colors[2],\n",
    "                  ecolor = colors[3], label=label, fmt='x')\n",
    "\n",
    "axes.legend(handles = legend)\n",
    "\n",
    "# Generate and save image\n",
    "plt.savefig(save_file, dpi=300)"
   ]
  },
  {
   "cell_type": "markdown",
   "metadata": {},
   "source": [
    "### Plot the individual checkpoint results"
   ]
  },
  {
   "cell_type": "code",
   "execution_count": 402,
   "metadata": {},
   "outputs": [],
   "source": [
    "# Compute the plot title\n",
    "if 'mlp' in exp_path:\n",
    "    title = \"MLP AutoEncoder Checkpoint Evaluation\" \n",
    "else:\n",
    "    title = \"Convolutional AutoEncoder Checkpoint Evaluation\""
   ]
  },
  {
   "cell_type": "code",
   "execution_count": 403,
   "metadata": {},
   "outputs": [],
   "source": [
    "# Compute the experiment label\n",
    "if 'mlp' in exp_path:\n",
    "    label = \"{}x{} Dataset | {} Dimensional Code Vector\".format(im_dim, im_dim, l_dim)\n",
    "else:\n",
    "    label = \"{}x{} Dataset | {}x{}x{} Dimensional Code Volume\".format(im_dim, im_dim, l_dim, 4, 4)"
   ]
  },
  {
   "cell_type": "code",
   "execution_count": 404,
   "metadata": {},
   "outputs": [],
   "source": [
    "# Compute the file name for saving\n",
    "if 'mlp' in exp_path:\n",
    "    save_file = \"checkpoint_eval_MLP_AE_{}_dataset_{}_l-dim.png\".format(im_dim, l_dim)\n",
    "else:\n",
    "    save_file = \"checkpoint_eval_Conv_AE_{}_dataset_{}-{}-{}_code-volume.png\".format(im_dim, l_dim, 4, 4)"
   ]
  },
  {
   "cell_type": "code",
   "execution_count": 405,
   "metadata": {},
   "outputs": [
    {
     "data": {
      "image/png": "[encoded data removed]",
      "text/plain": [
       "<Figure size 432x288 with 1 Axes>"
      ]
     },
     "metadata": {
      "needs_background": "light"
     },
     "output_type": "display_data"
    }
   ],
   "source": [
    "%matplotlib inline\n",
    "checkpoints = [i for i in range(600, 1050, 50)]\n",
    "colors = ['black', 'green', 'magenta', 'gray'] \n",
    "\n",
    "l0 = Line2D([0], [0], color='blue', lw=2, label='Train Loss')\n",
    "\n",
    "# Train Legend Labels\n",
    "l1 = Line2D([0], [0], marker='o', color=colors[0], label='Train Mean',   markerfacecolor= colors[0], markersize=10)\n",
    "l2 = Line2D([0], [0], color=colors[1], lw=2, label='Train StdDev')\n",
    "\n",
    "# Test Legend Labels\n",
    "l3 = Line2D([0], [0], marker='x', color=colors[2], label='Test Mean',    markerfacecolor= colors[2], markersize=10)\n",
    "l4 = Line2D([0], [0], color=colors[3], lw=2, label='Test StdDev')\n",
    "\n",
    "# Create custom legend list\n",
    "legend = [l0, l1, l2, l3, l4]\n",
    "\n",
    "# Plot the losses against the number of epochs\n",
    "fig, axes = plt.subplots(1,1)\n",
    "fig.suptitle(title)\n",
    "\n",
    "axes.set_title(label, fontsize=\"small\")\n",
    "axes.set_xlabel(\"Model Checkpoint Number\")\n",
    "axes.set_ylabel(\"Loss Value\")\n",
    "\n",
    "axes.plot(np.arange(600, 1000), new_losses[600:])\n",
    "\n",
    "# Plot data\n",
    "for i in range(len(train_means)):\n",
    "    # Reference Training Set\n",
    "    label = 'train_ep_{}'.format(checkpoints[i])\n",
    "    axes.errorbar(checkpoints[i], train_means[i], yerr=train_stds[i], color=colors[0],\n",
    "                  ecolor = colors[1], label=label, fmt='o')\n",
    "    \n",
    "    # Test Set\n",
    "    label = 'test_ep_{}'.format(checkpoints[i])\n",
    "    axes.errorbar(checkpoints[i], test_means[i],  yerr=test_stds[i], color=colors[2],\n",
    "                  ecolor = colors[3], label=label, fmt='x')\n",
    "\n",
    "\n",
    "axes.legend(handles = legend)\n",
    "# Generate and save image\n",
    "plt.savefig(save_file, dpi=300)"
   ]
  },
  {
   "cell_type": "code",
   "execution_count": 422,
   "metadata": {},
   "outputs": [
    {
     "data": {
      "image/png": "[encoded data removed]",
      "text/plain": [
       "<Figure size 432x288 with 1 Axes>"
      ]
     },
     "metadata": {
      "needs_background": "light"
     },
     "output_type": "display_data"
    }
   ],
   "source": [
    "n, bins, patches = plt.hist(test_losses, bins=10000)\n",
    "plt.suptitle(\"Test Set Loss Value Distribution\")\n",
    "plt.title(\"min: {} | max: {}\".format(round(min(test_losses), 3), round(max(test_losses), 3)))\n",
    "plt.xlabel('Loss Value')\n",
    "plt.ylabel('Counts')\n",
    "plt.savefig('test_loss_dist.png', dpi=300)"
   ]
  },
  {
   "cell_type": "code",
   "execution_count": 433,
   "metadata": {},
   "outputs": [],
   "source": [
    "count = 0; idx = 0\n",
    "for i in range(len(n)):\n",
    "    if n[i] > count:\n",
    "        count = n[i]\n",
    "        idx = i"
   ]
  },
  {
   "cell_type": "code",
   "execution_count": 436,
   "metadata": {},
   "outputs": [
    {
     "data": {
      "text/plain": [
       "25.0"
      ]
     },
     "execution_count": 436,
     "metadata": {},
     "output_type": "execute_result"
    }
   ],
   "source": [
    "n[idx]"
   ]
  },
  {
   "cell_type": "code",
   "execution_count": 439,
   "metadata": {},
   "outputs": [
    {
     "data": {
      "text/plain": [
       "0.002110985136241652"
      ]
     },
     "execution_count": 439,
     "metadata": {},
     "output_type": "execute_result"
    }
   ],
   "source": [
    "bins[25]"
   ]
  },
  {
   "cell_type": "code",
   "execution_count": 420,
   "metadata": {},
   "outputs": [
    {
     "data": {
      "image/png": "[encoded data removed]",
      "text/plain": [
       "<Figure size 432x288 with 1 Axes>"
      ]
     },
     "metadata": {
      "needs_background": "light"
     },
     "output_type": "display_data"
    }
   ],
   "source": [
    "n, bins, patches = plt.hist(ref_train_losses, bins=10000)\n",
    "plt.suptitle(\"Train Set Loss Value Distribution\")\n",
    "plt.title(\"min: {} | max: {}\".format( round(min(ref_train_losses), 3), round(max(ref_train_losses), 3)))\n",
    "plt.xlabel('Loss Value')\n",
    "plt.ylabel('Counts')\n",
    "plt.savefig('train_loss_dist.png', dpi=300)"
   ]
  },
  {
   "cell_type": "code",
   "execution_count": null,
   "metadata": {},
   "outputs": [],
   "source": [
    "count = 0; idx = 0\n",
    "for i in range(len(n)):\n",
    "    if n[i] > count:\n",
    "        count = n[i]\n",
    "        idx = i"
   ]
  },
  {
   "cell_type": "markdown",
   "metadata": {},
   "source": [
    "### Save Evaluation Results to exp. folder"
   ]
  },
  {
   "cell_type": "code",
   "execution_count": 306,
   "metadata": {},
   "outputs": [],
   "source": [
    "eval_file = exp_path + \"checkpoint_evaluation.csv\""
   ]
  },
  {
   "cell_type": "code",
   "execution_count": 307,
   "metadata": {},
   "outputs": [],
   "source": [
    "mean_deltas = []\n",
    "std_deltas = []\n",
    "for i in range(len(test_means)):\n",
    "    mean_deltas.append( abs(test_means[i] - train_means[i]))\n",
    "    std_deltas.append( abs(test_stds[i] - train_stds[i]))"
   ]
  },
  {
   "cell_type": "code",
   "execution_count": 321,
   "metadata": {},
   "outputs": [],
   "source": [
    "results = {'Test_Mean'      : test_means, \n",
    "           'Test_StdDev'    : test_stds, \n",
    "           'Train_Mean'     : train_means, \n",
    "           'Train_StdDev'   : train_stds,\n",
    "           'Mean_Deltas'    : mean_deltas,\n",
    "           'StdDev_Deltas' : std_deltas}"
   ]
  },
  {
   "cell_type": "code",
   "execution_count": 322,
   "metadata": {},
   "outputs": [],
   "source": [
    "results = pd.DataFrame(results, index = checkpoints)"
   ]
  },
  {
   "cell_type": "code",
   "execution_count": 323,
   "metadata": {
    "scrolled": true
   },
   "outputs": [
    {
     "data": {
      "text/html": [
       "<div>\n",
       "<style scoped>\n",
       "    .dataframe tbody tr th:only-of-type {\n",
       "        vertical-align: middle;\n",
       "    }\n",
       "\n",
       "    .dataframe tbody tr th {\n",
       "        vertical-align: top;\n",
       "    }\n",
       "\n",
       "    .dataframe thead th {\n",
       "        text-align: right;\n",
       "    }\n",
       "</style>\n",
       "<table border=\"1\" class=\"dataframe\">\n",
       "  <thead>\n",
       "    <tr style=\"text-align: right;\">\n",
       "      <th></th>\n",
       "      <th>Test_Mean</th>\n",
       "      <th>Test_StdDev</th>\n",
       "      <th>Train_Mean</th>\n",
       "      <th>Train_StdDev</th>\n",
       "      <th>Mean_Deltas</th>\n",
       "      <th>StdDev_Deltas</th>\n",
       "    </tr>\n",
       "  </thead>\n",
       "  <tbody>\n",
       "    <tr>\n",
       "      <th>600</th>\n",
       "      <td>0.050420</td>\n",
       "      <td>0.050531</td>\n",
       "      <td>0.049679</td>\n",
       "      <td>0.050585</td>\n",
       "      <td>0.000742</td>\n",
       "      <td>0.000054</td>\n",
       "    </tr>\n",
       "    <tr>\n",
       "      <th>650</th>\n",
       "      <td>0.050094</td>\n",
       "      <td>0.050306</td>\n",
       "      <td>0.049374</td>\n",
       "      <td>0.050399</td>\n",
       "      <td>0.000720</td>\n",
       "      <td>0.000093</td>\n",
       "    </tr>\n",
       "    <tr>\n",
       "      <th>700</th>\n",
       "      <td>0.049761</td>\n",
       "      <td>0.050060</td>\n",
       "      <td>0.049068</td>\n",
       "      <td>0.050169</td>\n",
       "      <td>0.000692</td>\n",
       "      <td>0.000110</td>\n",
       "    </tr>\n",
       "    <tr>\n",
       "      <th>750</th>\n",
       "      <td>0.049520</td>\n",
       "      <td>0.049895</td>\n",
       "      <td>0.048814</td>\n",
       "      <td>0.049987</td>\n",
       "      <td>0.000706</td>\n",
       "      <td>0.000092</td>\n",
       "    </tr>\n",
       "    <tr>\n",
       "      <th>800</th>\n",
       "      <td>0.049196</td>\n",
       "      <td>0.049673</td>\n",
       "      <td>0.048478</td>\n",
       "      <td>0.049746</td>\n",
       "      <td>0.000718</td>\n",
       "      <td>0.000073</td>\n",
       "    </tr>\n",
       "    <tr>\n",
       "      <th>850</th>\n",
       "      <td>0.048984</td>\n",
       "      <td>0.049495</td>\n",
       "      <td>0.048269</td>\n",
       "      <td>0.049588</td>\n",
       "      <td>0.000715</td>\n",
       "      <td>0.000093</td>\n",
       "    </tr>\n",
       "    <tr>\n",
       "      <th>900</th>\n",
       "      <td>0.048709</td>\n",
       "      <td>0.049300</td>\n",
       "      <td>0.047997</td>\n",
       "      <td>0.049387</td>\n",
       "      <td>0.000712</td>\n",
       "      <td>0.000087</td>\n",
       "    </tr>\n",
       "    <tr>\n",
       "      <th>950</th>\n",
       "      <td>0.048473</td>\n",
       "      <td>0.049140</td>\n",
       "      <td>0.047761</td>\n",
       "      <td>0.049221</td>\n",
       "      <td>0.000712</td>\n",
       "      <td>0.000081</td>\n",
       "    </tr>\n",
       "    <tr>\n",
       "      <th>1000</th>\n",
       "      <td>0.048260</td>\n",
       "      <td>0.048948</td>\n",
       "      <td>0.047555</td>\n",
       "      <td>0.049046</td>\n",
       "      <td>0.000705</td>\n",
       "      <td>0.000098</td>\n",
       "    </tr>\n",
       "  </tbody>\n",
       "</table>\n",
       "</div>"
      ],
      "text/plain": [
       "      Test_Mean  Test_StdDev  Train_Mean  Train_StdDev  Mean_Deltas  \\\n",
       "600    0.050420     0.050531    0.049679      0.050585     0.000742   \n",
       "650    0.050094     0.050306    0.049374      0.050399     0.000720   \n",
       "700    0.049761     0.050060    0.049068      0.050169     0.000692   \n",
       "750    0.049520     0.049895    0.048814      0.049987     0.000706   \n",
       "800    0.049196     0.049673    0.048478      0.049746     0.000718   \n",
       "850    0.048984     0.049495    0.048269      0.049588     0.000715   \n",
       "900    0.048709     0.049300    0.047997      0.049387     0.000712   \n",
       "950    0.048473     0.049140    0.047761      0.049221     0.000712   \n",
       "1000   0.048260     0.048948    0.047555      0.049046     0.000705   \n",
       "\n",
       "      StdDev_Deltas  \n",
       "600        0.000054  \n",
       "650        0.000093  \n",
       "700        0.000110  \n",
       "750        0.000092  \n",
       "800        0.000073  \n",
       "850        0.000093  \n",
       "900        0.000087  \n",
       "950        0.000081  \n",
       "1000       0.000098  "
      ]
     },
     "execution_count": 323,
     "metadata": {},
     "output_type": "execute_result"
    }
   ],
   "source": [
    "results"
   ]
  },
  {
   "cell_type": "code",
   "execution_count": 324,
   "metadata": {},
   "outputs": [],
   "source": [
    "results.to_csv(eval_file, sep=',')"
   ]
  },
  {
   "cell_type": "code",
   "execution_count": 421,
   "metadata": {},
   "outputs": [],
   "source": [
    "results.to_csv('checkpoint_eval.csv', sep=',')"
   ]
  },
  {
   "cell_type": "code",
   "execution_count": 317,
   "metadata": {},
   "outputs": [],
   "source": [
    "html = results.to_html()"
   ]
  }
 ],
 "metadata": {
  "kernelspec": {
   "display_name": "Python 3",
   "language": "python",
   "name": "python3"
  },
  "language_info": {
   "codemirror_mode": {
    "name": "ipython",
    "version": 3
   },
   "file_extension": ".py",
   "mimetype": "text/x-python",
   "name": "python",
   "nbconvert_exporter": "python",
   "pygments_lexer": "ipython3",
   "version": "3.7.4"
  }
 },
 "nbformat": 4,
 "nbformat_minor": 2
}
