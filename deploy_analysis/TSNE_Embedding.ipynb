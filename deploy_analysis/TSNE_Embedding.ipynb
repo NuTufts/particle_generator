{
 "cells": [
  {
   "cell_type": "code",
   "execution_count": 1,
   "metadata": {},
   "outputs": [
    {
     "name": "stdout",
     "output_type": "stream",
     "text": [
      "3.6.10 |Anaconda, Inc.| (default, Jan  7 2020, 21:14:29) \n",
      "[GCC 7.3.0]\n"
     ]
    }
   ],
   "source": [
    "import sys\n",
    "print(sys.version)"
   ]
  },
  {
   "cell_type": "code",
   "execution_count": 2,
   "metadata": {},
   "outputs": [],
   "source": [
    "import os\n",
    "import numpy as np\n",
    "from tsnecuda import TSNE"
   ]
  },
  {
   "cell_type": "code",
   "execution_count": 3,
   "metadata": {},
   "outputs": [],
   "source": [
    "## Set the root path where the code_vectors are stored\n",
    "code_root = \"/media/hdd1/kai/particle_generator/code_vectors/\""
   ]
  },
  {
   "cell_type": "markdown",
   "metadata": {},
   "source": [
    "## Get the names of all the code_vector folders in the code_root path"
   ]
  },
  {
   "cell_type": "code",
   "execution_count": 4,
   "metadata": {},
   "outputs": [
    {
     "name": "stdout",
     "output_type": "stream",
     "text": [
      "------------------------------------------------------------\n",
      "\n",
      " Exp_0: /media/hdd1/kai/particle_generator/code_vectors/code_vectors_64_20/code_vectors_64_20/ \n",
      "\n",
      "------------------------------------------------------------\n",
      "\n",
      " Exp_1: /media/hdd1/kai/particle_generator/code_vectors/code_vectors_64_256/code_vectors_64_256/ \n",
      "\n",
      "------------------------------------------------------------\n",
      "\n",
      " Exp_2: /media/hdd1/kai/particle_generator/code_vectors/code_vectors_128_256/code_vectors_128_256/ \n",
      "\n",
      "------------------------------------------------------------\n"
     ]
    }
   ],
   "source": [
    "code_paths = []\n",
    "code_sub_paths = []\n",
    "for path in os.listdir(code_root):\n",
    "    code_paths.append(os.path.join(code_root, path))\n",
    "\n",
    "for i in range(len(code_paths)):\n",
    "    for path in os.listdir(code_paths[i]):\n",
    "        code_sub_paths.append(path)\n",
    "\n",
    "print(\"-\"*60)\n",
    "for i in range(len(code_paths)):\n",
    "    full_path = code_paths[i] + \"/\" + code_sub_paths[i] + \"/\"\n",
    "    code_paths[i] = full_path\n",
    "    print(\"\\n Exp_{}:\".format(str(i)), code_paths[i], '\\n')\n",
    "    print(\"-\"*60)"
   ]
  },
  {
   "cell_type": "markdown",
   "metadata": {},
   "source": [
    "## Select the set of code vectors you want"
   ]
  },
  {
   "cell_type": "code",
   "execution_count": 5,
   "metadata": {},
   "outputs": [],
   "source": [
    "code_dir = code_paths[1]"
   ]
  },
  {
   "cell_type": "code",
   "execution_count": 6,
   "metadata": {},
   "outputs": [
    {
     "name": "stdout",
     "output_type": "stream",
     "text": [
      "Data path set as: \n",
      "/media/hdd1/kai/particle_generator/code_vectors/code_vectors_64_256/code_vectors_64_256/\n"
     ]
    }
   ],
   "source": [
    "# Create the full path to the data\n",
    "code_path = os.path.join(code_root, code_dir)\n",
    "print(\"Data path set as: \\n{}\".format(code_path))"
   ]
  },
  {
   "cell_type": "markdown",
   "metadata": {},
   "source": [
    "## Load the selected code vectors into a numpy.ndarray"
   ]
  },
  {
   "cell_type": "code",
   "execution_count": 7,
   "metadata": {},
   "outputs": [
    {
     "name": "stdout",
     "output_type": "stream",
     "text": [
      "53943 vectors will be loaded\n"
     ]
    }
   ],
   "source": [
    "# Compute the size of the latent vector dataset\n",
    "dset_size = sum( [len(examples) for _, _, examples in os.walk(code_path)] )\n",
    "print(\"{} vectors will be loaded\".format(dset_size))"
   ]
  },
  {
   "cell_type": "code",
   "execution_count": 8,
   "metadata": {},
   "outputs": [
    {
     "name": "stdout",
     "output_type": "stream",
     "text": [
      "Vector length is 256\n"
     ]
    }
   ],
   "source": [
    "# Get the length of the latent vectors\n",
    "l_dim = code_path.strip('/').split('_')\n",
    "l_dim = int(l_dim[-1])\n",
    "print(\"Vector length is {}\".format(l_dim))"
   ]
  },
  {
   "cell_type": "code",
   "execution_count": 9,
   "metadata": {},
   "outputs": [],
   "source": [
    "X = np.empty(shape=(dset_size, l_dim))"
   ]
  },
  {
   "cell_type": "code",
   "execution_count": 10,
   "metadata": {},
   "outputs": [],
   "source": [
    "for idx, target in enumerate(os.listdir(code_path)):\n",
    "    x = np.load(code_path + target)\n",
    "    X[idx] = x"
   ]
  },
  {
   "cell_type": "markdown",
   "metadata": {},
   "source": [
    "## Generate embedding for set of latent vectors"
   ]
  },
  {
   "cell_type": "code",
   "execution_count": 11,
   "metadata": {},
   "outputs": [],
   "source": [
    "X_embedding = TSNE(n_components=2).fit_transform(X)"
   ]
  },
  {
   "cell_type": "code",
   "execution_count": 33,
   "metadata": {},
   "outputs": [
    {
     "name": "stdout",
     "output_type": "stream",
     "text": [
      "(53943, 2)\n",
      "-37.944946\n",
      "37.63626\n"
     ]
    }
   ],
   "source": [
    "print(X_embedding.shape); print(X_embedding.min()); print(X_embedding.max())"
   ]
  },
  {
   "cell_type": "code",
   "execution_count": 34,
   "metadata": {},
   "outputs": [],
   "source": [
    "X_x = np.empty(shape=(X_embedding.shape[0]))\n",
    "X_y = np.empty(shape=(X_embedding.shape[0]))"
   ]
  },
  {
   "cell_type": "markdown",
   "metadata": {},
   "source": [
    "## Divide vectors up into x- and y-components"
   ]
  },
  {
   "cell_type": "code",
   "execution_count": 36,
   "metadata": {},
   "outputs": [],
   "source": [
    "for idx, vec in enumerate(X_embedding):\n",
    "    X_x[idx] = vec[0]\n",
    "    X_y[idx] = vec[1]"
   ]
  },
  {
   "cell_type": "code",
   "execution_count": 37,
   "metadata": {},
   "outputs": [
    {
     "name": "stdout",
     "output_type": "stream",
     "text": [
      "(53943,) (53943,)\n"
     ]
    }
   ],
   "source": [
    "print(X_x.shape, X_y.shape)"
   ]
  },
  {
   "cell_type": "markdown",
   "metadata": {},
   "source": [
    "## Plot the t-distributed Stochastic Neightbor Embeddings"
   ]
  },
  {
   "cell_type": "code",
   "execution_count": 38,
   "metadata": {},
   "outputs": [],
   "source": [
    "import matplotlib.pyplot as plt\n",
    "%matplotlib inline"
   ]
  },
  {
   "cell_type": "code",
   "execution_count": 40,
   "metadata": {
    "scrolled": true
   },
   "outputs": [
    {
     "data": {
      "text/plain": [
       "<matplotlib.collections.PathCollection at 0x7f1df274ffd0>"
      ]
     },
     "execution_count": 40,
     "metadata": {},
     "output_type": "execute_result"
    },
    {
     "data": {
      "image/png": "[encoded data removed]",
      "text/plain": [
       "<Figure size 432x288 with 1 Axes>"
      ]
     },
     "metadata": {
      "needs_background": "light"
     },
     "output_type": "display_data"
    }
   ],
   "source": [
    "plt.scatter(X_x, X_y, alpha=0.15)"
   ]
  },
  {
   "cell_type": "code",
   "execution_count": null,
   "metadata": {},
   "outputs": [],
   "source": []
  }
 ],
 "metadata": {
  "kernelspec": {
   "display_name": "Python [conda env:python36] *",
   "language": "python",
   "name": "conda-env-python36-py"
  },
  "language_info": {
   "codemirror_mode": {
    "name": "ipython",
    "version": 3
   },
   "file_extension": ".py",
   "mimetype": "text/x-python",
   "name": "python",
   "nbconvert_exporter": "python",
   "pygments_lexer": "ipython3",
   "version": "3.6.10"
  }
 },
 "nbformat": 4,
 "nbformat_minor": 2
}
