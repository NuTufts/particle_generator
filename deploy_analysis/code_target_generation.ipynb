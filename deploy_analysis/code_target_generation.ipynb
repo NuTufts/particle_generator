{
 "cells": [
  {
   "cell_type": "markdown",
   "metadata": {},
   "source": [
    "### This notebook is meant for the generaton of code_vector targets from the encoder branch of a trained AutoEncoder"
   ]
  },
  {
   "cell_type": "code",
   "execution_count": 1,
   "metadata": {},
   "outputs": [],
   "source": [
    "import os\n",
    "import torch\n",
    "import numpy as np\n",
    "import cv2 as cv\n",
    "import pandas as pd\n",
    "import torchvision\n",
    "from torchvision import transforms\n",
    "from torch.utils.data import DataLoader\n",
    "import matplotlib.pyplot as plt\n",
    "%matplotlib inline"
   ]
  },
  {
   "cell_type": "code",
   "execution_count": 2,
   "metadata": {},
   "outputs": [],
   "source": [
    "import sys\n",
    "sys.path.insert(1, '/home/kseuro/Kai/deeplearnphysics/pytorch/particle_generator/')\n",
    "\n",
    "# My stuff\n",
    "import ae\n",
    "import utils\n",
    "from dataloader import LArCV_loader"
   ]
  },
  {
   "cell_type": "code",
   "execution_count": 3,
   "metadata": {},
   "outputs": [],
   "source": [
    "# Set the root path of the particle generator experiments folder\n",
    "exp_root = \"/media/hdd1/kai/particle_generator/experiments/larcv_ae/\""
   ]
  },
  {
   "cell_type": "markdown",
   "metadata": {},
   "source": [
    "## Get the names of all the experiments in the exp_root folder"
   ]
  },
  {
   "cell_type": "code",
   "execution_count": 5,
   "metadata": {},
   "outputs": [
    {
     "name": "stdout",
     "output_type": "stream",
     "text": [
      "------------------------------------------------------------\n",
      "\n",
      " Exp_0: /media/hdd1/kai/particle_generator/experiments/larcv_ae/larcv_ae_128_20_7500-epochs \n",
      "\n",
      "------------------------------------------------------------\n",
      "\n",
      " Exp_1: /media/hdd1/kai/particle_generator/experiments/larcv_ae/larcv_ae_64_20_7500-epochs \n",
      "\n",
      "------------------------------------------------------------\n",
      "\n",
      " Exp_2: /media/hdd1/kai/particle_generator/experiments/larcv_ae/larcv_ae_128_256_1000-epochs \n",
      "\n",
      "------------------------------------------------------------\n",
      "\n",
      " Exp_3: /media/hdd1/kai/particle_generator/experiments/larcv_ae/larcv_ae_64_256_1000-epochs \n",
      "\n",
      "------------------------------------------------------------\n"
     ]
    }
   ],
   "source": [
    "exp_paths = []\n",
    "for path in os.listdir(exp_root):\n",
    "    exp_paths.append(os.path.join(exp_root, path))\n",
    "\n",
    "print(\"-\"*60)\n",
    "for i in range(len(exp_paths)):\n",
    "    print(\"\\n Exp_{}:\".format(str(i)), exp_paths[i], '\\n')\n",
    "    print(\"-\"*60)"
   ]
  },
  {
   "cell_type": "code",
   "execution_count": 6,
   "metadata": {},
   "outputs": [],
   "source": [
    "# Set the dir of the particular experiment for which to load a model\n",
    "exp_dir = exp_paths[2] + \"/\""
   ]
  },
  {
   "cell_type": "code",
   "execution_count": 7,
   "metadata": {},
   "outputs": [
    {
     "name": "stdout",
     "output_type": "stream",
     "text": [
      "Experiment path set as: \n",
      "/media/hdd1/kai/particle_generator/experiments/larcv_ae/larcv_ae_128_256_1000-epochs/\n"
     ]
    }
   ],
   "source": [
    "# Create the full path to the experiment\n",
    "exp_path = os.path.join(exp_root, exp_dir)\n",
    "print(\"Experiment path set as: \\n{}\".format(exp_path))"
   ]
  },
  {
   "cell_type": "code",
   "execution_count": 8,
   "metadata": {},
   "outputs": [],
   "source": [
    "# Path to model weights\n",
    "weights_dir = \"weights/\""
   ]
  },
  {
   "cell_type": "code",
   "execution_count": 9,
   "metadata": {},
   "outputs": [],
   "source": [
    "# Load the config csv as a dict\n",
    "config_csv = exp_path + \"config.csv\"\n",
    "config_df = pd.read_csv(config_csv, delimiter = \",\")"
   ]
  },
  {
   "cell_type": "code",
   "execution_count": 10,
   "metadata": {},
   "outputs": [],
   "source": [
    "# Get the model architecture from config df\n",
    "n_layers = int(config_df[config_df['Unnamed: 0'].str.contains(\"n_layers\")==True]['0'].item())\n",
    "l_dim    = int(config_df[config_df['Unnamed: 0'].str.contains(\"l_dim\")==True]['0'].item())\n",
    "im_size  = int(config_df[config_df['Unnamed: 0'].str.contains(\"dataset\")==True]['0'].item())**2\n",
    "im_dim   = int(np.sqrt(im_size))"
   ]
  },
  {
   "cell_type": "code",
   "execution_count": 11,
   "metadata": {},
   "outputs": [
    {
     "name": "stdout",
     "output_type": "stream",
     "text": [
      "im_dim: 128, l_dim: 256\n"
     ]
    }
   ],
   "source": [
    "print(\"im_dim: {}, l_dim: {}\".format(im_dim, l_dim))"
   ]
  },
  {
   "cell_type": "code",
   "execution_count": 12,
   "metadata": {},
   "outputs": [],
   "source": [
    "# Set up AE layer sizes\n",
    "base = [256] \n",
    "\n",
    "# Compute encoder sizes\n",
    "sizes = lambda: [ (yield 2**i) for i in range(n_layers) ]\n",
    "enc_sizes = base * n_layers\n",
    "enc_sizes = [a*b for a,b in zip(enc_sizes, [*sizes()])][::-1]\n",
    "\n",
    "# Update kwarg dicts\n",
    "# Decoder is the reverse of the encoder\n",
    "ae_kwargs = {'enc_sizes' : enc_sizes, 'l_dim' : l_dim, 'im_size' : im_size, 'dec_sizes' : enc_sizes[::-1]}"
   ]
  },
  {
   "cell_type": "markdown",
   "metadata": {},
   "source": [
    "## Load model checkpoint"
   ]
  },
  {
   "cell_type": "code",
   "execution_count": 16,
   "metadata": {},
   "outputs": [],
   "source": [
    "# Get checkpoint name(s)\n",
    "checkpoint_path  = exp_path + weights_dir\n",
    "checkpoint_names = []\n",
    "for file in os.listdir(checkpoint_path):\n",
    "    checkpoint_names.append(os.path.join(checkpoint_path, file))"
   ]
  },
  {
   "cell_type": "code",
   "execution_count": 17,
   "metadata": {},
   "outputs": [
    {
     "name": "stdout",
     "output_type": "stream",
     "text": [
      "------------------------------------------------------------\n",
      "\n",
      "0 : /media/hdd1/kai/particle_generator/experiments/larcv_ae/larcv_ae_128_256_1000-epochs/weights/best_ae_ep_600.tar \n",
      "\n",
      "------------------------------------------------------------\n",
      "\n",
      "1 : /media/hdd1/kai/particle_generator/experiments/larcv_ae/larcv_ae_128_256_1000-epochs/weights/best_ae_ep_700.tar \n",
      "\n",
      "------------------------------------------------------------\n",
      "\n",
      "2 : /media/hdd1/kai/particle_generator/experiments/larcv_ae/larcv_ae_128_256_1000-epochs/weights/best_ae_ep_900.tar \n",
      "\n",
      "------------------------------------------------------------\n",
      "\n",
      "3 : /media/hdd1/kai/particle_generator/experiments/larcv_ae/larcv_ae_128_256_1000-epochs/weights/best_ae_ep_650.tar \n",
      "\n",
      "------------------------------------------------------------\n",
      "\n",
      "4 : /media/hdd1/kai/particle_generator/experiments/larcv_ae/larcv_ae_128_256_1000-epochs/weights/best_ae_ep_950.tar \n",
      "\n",
      "------------------------------------------------------------\n",
      "\n",
      "5 : /media/hdd1/kai/particle_generator/experiments/larcv_ae/larcv_ae_128_256_1000-epochs/weights/best_ae_ep_750.tar \n",
      "\n",
      "------------------------------------------------------------\n",
      "\n",
      "6 : /media/hdd1/kai/particle_generator/experiments/larcv_ae/larcv_ae_128_256_1000-epochs/weights/best_ae_ep_999.tar \n",
      "\n",
      "------------------------------------------------------------\n",
      "\n",
      "7 : /media/hdd1/kai/particle_generator/experiments/larcv_ae/larcv_ae_128_256_1000-epochs/weights/best_ae_ep_850.tar \n",
      "\n",
      "------------------------------------------------------------\n",
      "\n",
      "8 : /media/hdd1/kai/particle_generator/experiments/larcv_ae/larcv_ae_128_256_1000-epochs/weights/best_ae_ep_800.tar \n",
      "\n",
      "------------------------------------------------------------\n"
     ]
    }
   ],
   "source": [
    "print(\"-\"*60)\n",
    "for i in range(len(checkpoint_names)):\n",
    "    print(\"\\n{} :\".format(str(i)), checkpoint_names[i], '\\n')\n",
    "    print(\"-\"*60)"
   ]
  },
  {
   "cell_type": "code",
   "execution_count": 18,
   "metadata": {},
   "outputs": [],
   "source": [
    "# Select the desired checkpoint from the list\n",
    "best_checkpoint = checkpoint_names[1]"
   ]
  },
  {
   "cell_type": "code",
   "execution_count": 19,
   "metadata": {},
   "outputs": [],
   "source": [
    "# Load the model checkpoint\n",
    "# Keys: ['state_dict', 'epoch', 'optimizer']\n",
    "checkpoint = torch.load(best_checkpoint)"
   ]
  },
  {
   "cell_type": "code",
   "execution_count": 20,
   "metadata": {},
   "outputs": [],
   "source": [
    "# Load the model on GPU (GPU 1 is the best option)\n",
    "device = torch.device(2)\n",
    "model = ae.AutoEncoder(**ae_kwargs).to(device)"
   ]
  },
  {
   "cell_type": "code",
   "execution_count": 21,
   "metadata": {},
   "outputs": [
    {
     "data": {
      "text/plain": [
       "IncompatibleKeys(missing_keys=[], unexpected_keys=[])"
      ]
     },
     "execution_count": 21,
     "metadata": {},
     "output_type": "execute_result"
    }
   ],
   "source": [
    "# Load the model's state dictionary\n",
    "# Note: The IncompatibleKeys(missing_keys=[], unexpected_keys=[]) message indicates that\n",
    "#       there were no problems in loading the state dictionary. Bit confusing...\n",
    "model.load_state_dict(checkpoint['state_dict'])"
   ]
  },
  {
   "cell_type": "code",
   "execution_count": 22,
   "metadata": {
    "scrolled": true
   },
   "outputs": [
    {
     "data": {
      "text/plain": [
       "AutoEncoder(\n",
       "  (encoder): Encoder(\n",
       "    (fc_blocks): Sequential(\n",
       "      (0): Sequential(\n",
       "        (0): Linear(in_features=16384, out_features=2048, bias=True)\n",
       "        (1): LeakyReLU(negative_slope=0.2)\n",
       "      )\n",
       "      (1): Sequential(\n",
       "        (0): Linear(in_features=2048, out_features=1024, bias=True)\n",
       "        (1): LeakyReLU(negative_slope=0.2)\n",
       "      )\n",
       "      (2): Sequential(\n",
       "        (0): Linear(in_features=1024, out_features=512, bias=True)\n",
       "        (1): LeakyReLU(negative_slope=0.2)\n",
       "      )\n",
       "      (3): Sequential(\n",
       "        (0): Linear(in_features=512, out_features=256, bias=True)\n",
       "        (1): LeakyReLU(negative_slope=0.2)\n",
       "      )\n",
       "    )\n",
       "    (last): Linear(in_features=256, out_features=256, bias=True)\n",
       "  )\n",
       "  (decoder): Decoder(\n",
       "    (fc_blocks): Sequential(\n",
       "      (0): Sequential(\n",
       "        (0): Linear(in_features=256, out_features=256, bias=True)\n",
       "        (1): LeakyReLU(negative_slope=0.2)\n",
       "      )\n",
       "      (1): Sequential(\n",
       "        (0): Linear(in_features=256, out_features=512, bias=True)\n",
       "        (1): LeakyReLU(negative_slope=0.2)\n",
       "      )\n",
       "      (2): Sequential(\n",
       "        (0): Linear(in_features=512, out_features=1024, bias=True)\n",
       "        (1): LeakyReLU(negative_slope=0.2)\n",
       "      )\n",
       "      (3): Sequential(\n",
       "        (0): Linear(in_features=1024, out_features=2048, bias=True)\n",
       "        (1): LeakyReLU(negative_slope=0.2)\n",
       "      )\n",
       "    )\n",
       "    (last): Sequential(\n",
       "      (0): Linear(in_features=2048, out_features=16384, bias=True)\n",
       "      (1): Tanh()\n",
       "    )\n",
       "  )\n",
       ")"
      ]
     },
     "execution_count": 22,
     "metadata": {},
     "output_type": "execute_result"
    }
   ],
   "source": [
    "# Put the model in evaluation mode\n",
    "model.eval()"
   ]
  },
  {
   "cell_type": "markdown",
   "metadata": {},
   "source": [
    "### Create targets from the output of the encoder branch"
   ]
  },
  {
   "cell_type": "markdown",
   "metadata": {},
   "source": [
    "[PyTorch forums discussion on layerwise viz](https://discuss.pytorch.org/t/how-to-visualize-fully-connected-layers-as-images/13626/2)\n",
    "- In order to generate a variety of targets, we wish to save the output of the encoder's last layer\n",
    "- Since the output activations will vary depending on the input data image, we will generate a latent vector for each training example in the training dataset"
   ]
  },
  {
   "cell_type": "markdown",
   "metadata": {},
   "source": [
    "## Set up LArCV1 dataloader"
   ]
  },
  {
   "cell_type": "code",
   "execution_count": 23,
   "metadata": {},
   "outputs": [
    {
     "name": "stdout",
     "output_type": "stream",
     "text": [
      "Training data will be loaded from: \n",
      "/media/hdd1/kai/particle_generator/larcv_data/train/larcv_png_128/\n"
     ]
    }
   ],
   "source": [
    "# Path to the training data\n",
    "test_data = \"/media/hdd1/kai/particle_generator/larcv_data/train/larcv_png_{}/\".format(im_dim)\n",
    "print(\"Training data will be loaded from: \\n{}\".format(test_data))"
   ]
  },
  {
   "cell_type": "code",
   "execution_count": 24,
   "metadata": {},
   "outputs": [
    {
     "name": "stdout",
     "output_type": "stream",
     "text": [
      "Image conversion flag is: L\n",
      "Images will be loaded from subfolder of: /media/hdd1/kai/particle_generator/larcv_data/train/larcv_png_128/\n"
     ]
    }
   ],
   "source": [
    "# Set up the torch dataloader\n",
    "loader_kwargs = {'num_workers' : 2, 'batch_size': 1, 'shuffle': True}\n",
    "test_transforms = transforms.Compose([transforms.ToTensor(), transforms.Normalize([0.5],[0.5])])\n",
    "test_dataset    = LArCV_loader(root = test_data, transforms = test_transforms)"
   ]
  },
  {
   "cell_type": "code",
   "execution_count": 25,
   "metadata": {},
   "outputs": [],
   "source": [
    "dataloader = DataLoader(test_dataset, **loader_kwargs)"
   ]
  },
  {
   "cell_type": "markdown",
   "metadata": {},
   "source": [
    "## Create directory for saving code layer output targets"
   ]
  },
  {
   "cell_type": "code",
   "execution_count": 26,
   "metadata": {},
   "outputs": [],
   "source": [
    "# Specify the directory where the code vectors should be saved\n",
    "deploy_dir = \"/media/hdd1/kai/particle_generator/code_vectors/\"\n",
    "deploy_dir += \"code_vectors_{}_{}/\".format(im_dim, l_dim)"
   ]
  },
  {
   "cell_type": "code",
   "execution_count": 27,
   "metadata": {},
   "outputs": [],
   "source": [
    "# Create the save directory, if it doesn't already exist\n",
    "os.mkdir(deploy_dir)"
   ]
  },
  {
   "cell_type": "code",
   "execution_count": 28,
   "metadata": {},
   "outputs": [],
   "source": [
    "deploy_dir += \"code_vectors_{}_{}/\".format(im_dim, l_dim)"
   ]
  },
  {
   "cell_type": "code",
   "execution_count": 29,
   "metadata": {},
   "outputs": [],
   "source": [
    "os.mkdir(deploy_dir)"
   ]
  },
  {
   "cell_type": "markdown",
   "metadata": {},
   "source": [
    "## Generate deploy targets by looping over the dataloader using only the encoder"
   ]
  },
  {
   "cell_type": "code",
   "execution_count": 30,
   "metadata": {},
   "outputs": [],
   "source": [
    "# Codes will be a list of numpy arrays of 32-bit floats\n",
    "codes = []"
   ]
  },
  {
   "cell_type": "code",
   "execution_count": 31,
   "metadata": {},
   "outputs": [],
   "source": [
    "for idx, image in enumerate(dataloader):\n",
    "    # Flatten image into a vector\n",
    "    image = image.view(1, -1).to(device)\n",
    "    \n",
    "    # Get the output of just the encoder\n",
    "    code = model.encoder(image)\n",
    "    \n",
    "    # Save the output tensor to a list\n",
    "    codes.append(code.detach().cpu().numpy())"
   ]
  },
  {
   "cell_type": "code",
   "execution_count": 32,
   "metadata": {},
   "outputs": [
    {
     "name": "stdout",
     "output_type": "stream",
     "text": [
      "Generated 50975 code vectors from 50975 training images\n"
     ]
    }
   ],
   "source": [
    "print(\"Generated {} code vectors from {} training images\".format(len(codes), len(dataloader)))"
   ]
  },
  {
   "cell_type": "code",
   "execution_count": 33,
   "metadata": {},
   "outputs": [
    {
     "data": {
      "text/plain": [
       "(1, 256)"
      ]
     },
     "execution_count": 33,
     "metadata": {},
     "output_type": "execute_result"
    }
   ],
   "source": [
    "codes[0].shape"
   ]
  },
  {
   "cell_type": "markdown",
   "metadata": {},
   "source": [
    "## Save the list of code vectors to disk\n",
    "- We then use the built-in np.save function to store the np array as a .npy file\n",
    "- The numpy array of floats can be read back losslessly using np.load(\"float_file.npy\")\n",
    "- This process will require the downstream creation of a [custom dataset](https://pytorch.org/tutorials/beginner/data_loading_tutorial.html)"
   ]
  },
  {
   "cell_type": "code",
   "execution_count": 34,
   "metadata": {},
   "outputs": [],
   "source": [
    "for idx, arr in enumerate(codes):\n",
    "    file_name = deploy_dir + \"target_{}.npy\".format(idx)\n",
    "    np.save(file_name, arr)"
   ]
  },
  {
   "cell_type": "code",
   "execution_count": 35,
   "metadata": {},
   "outputs": [
    {
     "name": "stdout",
     "output_type": "stream",
     "text": [
      "<class 'numpy.ndarray'>\n",
      "[[  3.672798     5.910793    -5.899435     8.146846    -8.017069\n",
      "   -0.11487905   2.6790698   -2.6881564    5.1323256   -1.6279917\n",
      "   -6.1684184   -7.695417    -1.3086205   -1.9265165   -0.7399793\n",
      "    3.9810693   -7.8196726    4.668637    -6.622833     7.8188305\n",
      "    4.584268    -5.0726523    4.5567794    5.069749    -4.948919\n",
      "    5.145309    -2.3652625    5.226916     1.8919929   10.40465\n",
      "   -0.30209237   0.9712619    8.325179    -2.4420173   -3.239091\n",
      "    1.5912156    7.9583426   -5.7852426  -10.070942    -1.546155\n",
      "   -9.659725     4.2528563   -4.572234    -2.053901    -2.406771\n",
      "    7.606579     7.891351    -0.4976655   -5.938695    -6.5565534\n",
      "   -5.948125     3.3551672    1.0804181   -0.6388806   -7.303273\n",
      "    8.18918      9.536243    -9.971        4.2790594    2.7648807\n",
      "    4.6839604    0.08254389   4.201904    -9.390796    -1.7352256\n",
      "   -0.21342005   1.9241855   -1.1673998   10.179223    -3.8673122\n",
      "   -5.958336     4.2275815   -4.873247    11.547461     0.6295525\n",
      "   -5.663194    -0.04764307  -3.9266355   -4.7349243   -5.700695\n",
      "   -2.7806413   -0.3619902   -1.591179    -5.606033    -2.4467616\n",
      "  -10.781615    -0.38639307   1.2917273    0.6028567    6.8369107\n",
      "   -1.3906876   -2.7746592   -1.369028     5.3141584    7.9466057\n",
      "    3.3921874   12.494425    -1.8765934    6.7759457   -3.1613822\n",
      "   -6.339068    11.90239     13.371228     2.1906824   -2.0686595\n",
      "   -4.267992     6.619765    10.270478     6.7985573   -1.396863\n",
      "   -3.6366112   -4.7779818   -0.2452553    5.75323     -4.7444124\n",
      "    6.7488456   -4.150355   -10.121998    -2.5961711    1.7515373\n",
      "   -8.732621    -4.339729     1.7596638   -0.39209446  -0.60777617\n",
      "   -2.7614846    2.0332718    2.6673808    5.31674      0.25438595\n",
      "    2.7190032   -1.4143399    7.041079    -8.1264105  -10.202866\n",
      "    6.3151546   -3.2660046   -2.0189288  -10.323223    -3.670563\n",
      "    1.0546215    3.3352613    6.822738     5.5758896   10.654831\n",
      "    5.731396     8.053676     6.8691807    5.656789    -5.457678\n",
      "   -1.6466066   -1.4347924    1.796905    -2.880522    -6.815643\n",
      "   -7.224577     5.427725     7.8039556    1.5839729    5.4030695\n",
      "   -5.324434    -4.138277     0.475614     0.43210185   8.111641\n",
      "    0.02952901   6.5494614   -3.1872447    3.4727073    7.8104186\n",
      "    5.2873716   -4.735834    -2.4051917   -2.1358166   -5.952249\n",
      "    7.528041     0.07424198   5.6416698   -4.2783923    4.195939\n",
      "    8.585985     3.824839     2.8267496    7.662932     2.3326561\n",
      "   -3.9748032    4.549541    12.482946    -9.74074     -8.956568\n",
      "    0.01383413  -7.257998     8.873054     6.901744    -8.317821\n",
      "   -9.928165     0.4290372   -1.0428469    9.1121235    5.8055444\n",
      "    3.2213182    6.2745733    6.980344    -3.8287709   -2.155279\n",
      "    4.5362463    2.7174346   -9.351396     6.1066203    3.633089\n",
      "    4.878897     5.457523    -6.5191727    5.550806     7.572641\n",
      "   -0.29740074   6.514683    -3.7390504   -6.3026156   -3.1955233\n",
      "    1.1611255   -2.2543182   -0.5499375   -7.9124246    8.345096\n",
      "   -6.0102596    1.087643    10.205513     5.281627   -10.228465\n",
      "    0.94784665   6.0273185    6.9762163   -3.6754246   -2.210842\n",
      "   -6.4868865   -4.3677497   -4.862467    -8.982819     1.9076456\n",
      "   -1.7556447   -8.604802    -0.16728614  -9.205737    -5.817265\n",
      "   -6.4827886   -4.838485     3.8205621   -6.379119    -6.2294455\n",
      "    1.5216992    4.801324    -6.2666698    0.07184222  -1.4375029\n",
      "    8.200272  ]]\n"
     ]
    }
   ],
   "source": [
    "# Load a test vector\n",
    "x = np.load(deploy_dir + \"target_0.npy\")\n",
    "print(type(x))\n",
    "print(x)"
   ]
  },
  {
   "cell_type": "code",
   "execution_count": null,
   "metadata": {},
   "outputs": [],
   "source": []
  }
 ],
 "metadata": {
  "kernelspec": {
   "display_name": "Python 3",
   "language": "python",
   "name": "python3"
  },
  "language_info": {
   "codemirror_mode": {
    "name": "ipython",
    "version": 3
   },
   "file_extension": ".py",
   "mimetype": "text/x-python",
   "name": "python",
   "nbconvert_exporter": "python",
   "pygments_lexer": "ipython3",
   "version": "3.5.2"
  }
 },
 "nbformat": 4,
 "nbformat_minor": 2
}
