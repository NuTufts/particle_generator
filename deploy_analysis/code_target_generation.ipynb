{
 "cells": [
  {
   "cell_type": "markdown",
   "metadata": {},
   "source": [
    "### This notebook is meant for the generaton of code_vector targets from the encoder branch of a trained AutoEncoder"
   ]
  },
  {
   "cell_type": "code",
   "execution_count": 1,
   "metadata": {},
   "outputs": [],
   "source": [
    "import os\n",
    "import torch\n",
    "import numpy as np\n",
    "import cv2 as cv\n",
    "import pandas as pd\n",
    "import torchvision\n",
    "from torchvision import transforms\n",
    "from torch.utils.data import DataLoader\n",
    "import matplotlib.pyplot as plt\n",
    "%matplotlib inline"
   ]
  },
  {
   "cell_type": "code",
   "execution_count": 2,
   "metadata": {},
   "outputs": [],
   "source": [
    "import sys\n",
    "sys.path.insert(1, '/home/kseuro/Kai/deeplearnphysics/pytorch/particle_generator/')\n",
    "\n",
    "# My stuff\n",
    "import ae\n",
    "import utils\n",
    "from dataloader import LArCV_loader"
   ]
  },
  {
   "cell_type": "code",
   "execution_count": 5,
   "metadata": {},
   "outputs": [],
   "source": [
    "# Set the root path of the particle generator experiments folder\n",
    "exp_root = \"/media/hdd1/kai/particle_generator/experiments/larcv_ae/\""
   ]
  },
  {
   "cell_type": "code",
   "execution_count": 6,
   "metadata": {},
   "outputs": [
    {
     "name": "stdout",
     "output_type": "stream",
     "text": [
      "------------------------------------------------------------\n",
      "\n",
      " Exp_0: /media/hdd1/kai/particle_generator/experiments/larcv_ae/larcv_ae_64_256 \n",
      "\n",
      "------------------------------------------------------------\n",
      "\n",
      " Exp_1: /media/hdd1/kai/particle_generator/experiments/larcv_ae/larcv_ae_64_20 \n",
      "\n",
      "------------------------------------------------------------\n",
      "\n",
      " Exp_2: /media/hdd1/kai/particle_generator/experiments/larcv_ae/larcv_ae_128_20 \n",
      "\n",
      "------------------------------------------------------------\n"
     ]
    }
   ],
   "source": [
    "# Get the names of all the experiments in the exp_root folder\n",
    "exp_paths = []\n",
    "for path in os.listdir(exp_root):\n",
    "    exp_paths.append(os.path.join(exp_root, path))\n",
    "\n",
    "print(\"-\"*60)\n",
    "for i in range(len(exp_paths)):\n",
    "    print(\"\\n Exp_{}:\".format(str(i)), exp_paths[i], '\\n')\n",
    "    print(\"-\"*60)"
   ]
  },
  {
   "cell_type": "code",
   "execution_count": 7,
   "metadata": {},
   "outputs": [],
   "source": [
    "# Set the dir of the particular experiment for which to load a model\n",
    "exp_dir = exp_paths[0] + \"/\""
   ]
  },
  {
   "cell_type": "code",
   "execution_count": 8,
   "metadata": {},
   "outputs": [
    {
     "name": "stdout",
     "output_type": "stream",
     "text": [
      "Experiment path set as: \n",
      "/media/hdd1/kai/particle_generator/experiments/larcv_ae/larcv_ae_64_256/\n"
     ]
    }
   ],
   "source": [
    "# Create the full path to the experiment\n",
    "exp_path = os.path.join(exp_root, exp_dir)\n",
    "print(\"Experiment path set as: \\n{}\".format(exp_path))"
   ]
  },
  {
   "cell_type": "code",
   "execution_count": 9,
   "metadata": {},
   "outputs": [],
   "source": [
    "# Path to model weights\n",
    "weights_dir = \"weights/\""
   ]
  },
  {
   "cell_type": "code",
   "execution_count": 10,
   "metadata": {},
   "outputs": [],
   "source": [
    "# Load the config csv as a dict\n",
    "config_csv = exp_path + \"config.csv\"\n",
    "config_df = pd.read_csv(config_csv, delimiter = \",\")"
   ]
  },
  {
   "cell_type": "code",
   "execution_count": 11,
   "metadata": {},
   "outputs": [],
   "source": [
    "# Get the model architecture from config df\n",
    "n_layers = int(config_df[config_df['Unnamed: 0'].str.contains(\"n_layers\")==True]['0'].item())\n",
    "l_dim    = int(config_df[config_df['Unnamed: 0'].str.contains(\"l_dim\")==True]['0'].item())\n",
    "im_size  = int(config_df[config_df['Unnamed: 0'].str.contains(\"dataset\")==True]['0'].item())**2\n",
    "im_dim   = int(np.sqrt(im_size))"
   ]
  },
  {
   "cell_type": "code",
   "execution_count": 24,
   "metadata": {},
   "outputs": [
    {
     "name": "stdout",
     "output_type": "stream",
     "text": [
      "im_dim: 64, l_dim: 256\n"
     ]
    }
   ],
   "source": [
    "print(\"im_dim: {}, l_dim: {}\".format(im_dim, l_dim))"
   ]
  },
  {
   "cell_type": "code",
   "execution_count": 12,
   "metadata": {},
   "outputs": [],
   "source": [
    "# Set up AE layer sizes\n",
    "base = [256] \n",
    "\n",
    "# Compute encoder sizes\n",
    "sizes = lambda: [ (yield 2**i) for i in range(n_layers) ]\n",
    "enc_sizes = base * n_layers\n",
    "enc_sizes = [a*b for a,b in zip(enc_sizes, [*sizes()])][::-1]\n",
    "\n",
    "# Update kwarg dicts\n",
    "# Decoder is the reverse of the encoder\n",
    "ae_kwargs = {'enc_sizes' : enc_sizes, 'l_dim' : l_dim, 'im_size' : im_size, 'dec_sizes' : enc_sizes[::-1]}"
   ]
  },
  {
   "cell_type": "markdown",
   "metadata": {},
   "source": [
    "### Select a checkpoint file and load the model state dict"
   ]
  },
  {
   "cell_type": "code",
   "execution_count": 13,
   "metadata": {},
   "outputs": [],
   "source": [
    "# Get checkpoint name(s)\n",
    "checkpoint_path  = exp_path + weights_dir\n",
    "checkpoint_names = []\n",
    "for file in os.listdir(checkpoint_path):\n",
    "    checkpoint_names.append(os.path.join(checkpoint_path, file))"
   ]
  },
  {
   "cell_type": "code",
   "execution_count": 14,
   "metadata": {},
   "outputs": [
    {
     "name": "stdout",
     "output_type": "stream",
     "text": [
      "------------------------------------------------------------\n",
      "\n",
      " Chkpt_0 : /media/hdd1/kai/particle_generator/experiments/larcv_ae/larcv_ae_64_256/weights/best_ae_ep_600.tar \n",
      "\n",
      "------------------------------------------------------------\n",
      "\n",
      " Chkpt_1 : /media/hdd1/kai/particle_generator/experiments/larcv_ae/larcv_ae_64_256/weights/best_ae_ep_700.tar \n",
      "\n",
      "------------------------------------------------------------\n",
      "\n",
      " Chkpt_2 : /media/hdd1/kai/particle_generator/experiments/larcv_ae/larcv_ae_64_256/weights/best_ae_ep_900.tar \n",
      "\n",
      "------------------------------------------------------------\n",
      "\n",
      " Chkpt_3 : /media/hdd1/kai/particle_generator/experiments/larcv_ae/larcv_ae_64_256/weights/best_ae_ep_650.tar \n",
      "\n",
      "------------------------------------------------------------\n",
      "\n",
      " Chkpt_4 : /media/hdd1/kai/particle_generator/experiments/larcv_ae/larcv_ae_64_256/weights/best_ae_ep_950.tar \n",
      "\n",
      "------------------------------------------------------------\n",
      "\n",
      " Chkpt_5 : /media/hdd1/kai/particle_generator/experiments/larcv_ae/larcv_ae_64_256/weights/best_ae_ep_750.tar \n",
      "\n",
      "------------------------------------------------------------\n",
      "\n",
      " Chkpt_6 : /media/hdd1/kai/particle_generator/experiments/larcv_ae/larcv_ae_64_256/weights/best_ae_ep_999.tar \n",
      "\n",
      "------------------------------------------------------------\n",
      "\n",
      " Chkpt_7 : /media/hdd1/kai/particle_generator/experiments/larcv_ae/larcv_ae_64_256/weights/best_ae_ep_850.tar \n",
      "\n",
      "------------------------------------------------------------\n",
      "\n",
      " Chkpt_8 : /media/hdd1/kai/particle_generator/experiments/larcv_ae/larcv_ae_64_256/weights/best_ae_ep_800.tar \n",
      "\n",
      "------------------------------------------------------------\n"
     ]
    }
   ],
   "source": [
    "print(\"-\"*60)\n",
    "for i in range(len(checkpoint_names)):\n",
    "    print(\"\\n Chkpt_{} :\".format(str(i)), checkpoint_names[i], '\\n')\n",
    "    print(\"-\"*60)"
   ]
  },
  {
   "cell_type": "code",
   "execution_count": 15,
   "metadata": {},
   "outputs": [],
   "source": [
    "# Select the desired checkpoint from the list\n",
    "best_checkpoint = checkpoint_names[0]"
   ]
  },
  {
   "cell_type": "code",
   "execution_count": 16,
   "metadata": {},
   "outputs": [],
   "source": [
    "# Load the model checkpoint\n",
    "# Keys: ['state_dict', 'epoch', 'optimizer']\n",
    "checkpoint = torch.load(best_checkpoint)"
   ]
  },
  {
   "cell_type": "code",
   "execution_count": 17,
   "metadata": {},
   "outputs": [],
   "source": [
    "# Load the model on GPU (GPU 1 is the best option)\n",
    "device = torch.device(2)\n",
    "model = ae.AutoEncoder(**ae_kwargs).to(device)"
   ]
  },
  {
   "cell_type": "code",
   "execution_count": 18,
   "metadata": {},
   "outputs": [
    {
     "data": {
      "text/plain": [
       "IncompatibleKeys(missing_keys=[], unexpected_keys=[])"
      ]
     },
     "execution_count": 18,
     "metadata": {},
     "output_type": "execute_result"
    }
   ],
   "source": [
    "# Load the model's state dictionary\n",
    "# Note: The IncompatibleKeys(missing_keys=[], unexpected_keys=[]) message indicates that\n",
    "#       there were no problems in loading the state dictionary. Bit confusing...\n",
    "model.load_state_dict(checkpoint['state_dict'])"
   ]
  },
  {
   "cell_type": "code",
   "execution_count": 19,
   "metadata": {
    "scrolled": true
   },
   "outputs": [
    {
     "data": {
      "text/plain": [
       "AutoEncoder(\n",
       "  (encoder): Encoder(\n",
       "    (fc_blocks): Sequential(\n",
       "      (0): Sequential(\n",
       "        (0): Linear(in_features=4096, out_features=2048, bias=True)\n",
       "        (1): LeakyReLU(negative_slope=0.2)\n",
       "      )\n",
       "      (1): Sequential(\n",
       "        (0): Linear(in_features=2048, out_features=1024, bias=True)\n",
       "        (1): LeakyReLU(negative_slope=0.2)\n",
       "      )\n",
       "      (2): Sequential(\n",
       "        (0): Linear(in_features=1024, out_features=512, bias=True)\n",
       "        (1): LeakyReLU(negative_slope=0.2)\n",
       "      )\n",
       "      (3): Sequential(\n",
       "        (0): Linear(in_features=512, out_features=256, bias=True)\n",
       "        (1): LeakyReLU(negative_slope=0.2)\n",
       "      )\n",
       "    )\n",
       "    (last): Linear(in_features=256, out_features=256, bias=True)\n",
       "  )\n",
       "  (decoder): Decoder(\n",
       "    (fc_blocks): Sequential(\n",
       "      (0): Sequential(\n",
       "        (0): Linear(in_features=256, out_features=256, bias=True)\n",
       "        (1): LeakyReLU(negative_slope=0.2)\n",
       "      )\n",
       "      (1): Sequential(\n",
       "        (0): Linear(in_features=256, out_features=512, bias=True)\n",
       "        (1): LeakyReLU(negative_slope=0.2)\n",
       "      )\n",
       "      (2): Sequential(\n",
       "        (0): Linear(in_features=512, out_features=1024, bias=True)\n",
       "        (1): LeakyReLU(negative_slope=0.2)\n",
       "      )\n",
       "      (3): Sequential(\n",
       "        (0): Linear(in_features=1024, out_features=2048, bias=True)\n",
       "        (1): LeakyReLU(negative_slope=0.2)\n",
       "      )\n",
       "    )\n",
       "    (last): Sequential(\n",
       "      (0): Linear(in_features=2048, out_features=4096, bias=True)\n",
       "      (1): Tanh()\n",
       "    )\n",
       "  )\n",
       ")"
      ]
     },
     "execution_count": 19,
     "metadata": {},
     "output_type": "execute_result"
    }
   ],
   "source": [
    "# Put the model in evaluation mode\n",
    "model.eval()"
   ]
  },
  {
   "cell_type": "markdown",
   "metadata": {},
   "source": [
    "### Create targets from the output of the encoder branch"
   ]
  },
  {
   "cell_type": "markdown",
   "metadata": {},
   "source": [
    "[PyTorch forums discussion on layerwise viz](https://discuss.pytorch.org/t/how-to-visualize-fully-connected-layers-as-images/13626/2)\n",
    "- In order to generate a variety of targets, we wish to save the output of the encoder's last layer\n",
    "- Since the output activations will vary depending on the input data image, we will generate a latent vector for each training example in the training dataset"
   ]
  },
  {
   "cell_type": "markdown",
   "metadata": {},
   "source": [
    "#### Set up LArCV1 dataloader"
   ]
  },
  {
   "cell_type": "code",
   "execution_count": 20,
   "metadata": {},
   "outputs": [
    {
     "name": "stdout",
     "output_type": "stream",
     "text": [
      "Training data will be loaded from: \n",
      "/media/hdd1/kai/particle_generator/larcv_data/train/larcv_png_64/\n"
     ]
    }
   ],
   "source": [
    "# Path to the training data\n",
    "test_data = \"/media/hdd1/kai/particle_generator/larcv_data/train/larcv_png_{}/\".format(im_dim)\n",
    "print(\"Training data will be loaded from: \\n{}\".format(test_data))"
   ]
  },
  {
   "cell_type": "code",
   "execution_count": 21,
   "metadata": {},
   "outputs": [
    {
     "name": "stdout",
     "output_type": "stream",
     "text": [
      "Image conversion flag is: L\n",
      "Images will be loaded from subfolder of: /media/hdd1/kai/particle_generator/larcv_data/train/larcv_png_64/\n"
     ]
    }
   ],
   "source": [
    "# Set up the torch dataloader\n",
    "loader_kwargs = {'num_workers' : 2, 'batch_size': 1, 'shuffle': True}\n",
    "test_transforms = transforms.Compose([transforms.ToTensor(), transforms.Normalize([0.5],[0.5])])\n",
    "test_dataset    = LArCV_loader(root = test_data, transforms = test_transforms)"
   ]
  },
  {
   "cell_type": "code",
   "execution_count": 22,
   "metadata": {},
   "outputs": [],
   "source": [
    "dataloader = DataLoader(test_dataset, **loader_kwargs)"
   ]
  },
  {
   "cell_type": "markdown",
   "metadata": {},
   "source": [
    "#### Create directory for saving code layer output targets"
   ]
  },
  {
   "cell_type": "code",
   "execution_count": 28,
   "metadata": {},
   "outputs": [],
   "source": [
    "# Specify the directory where the code vectors should be saved\n",
    "deploy_dir = \"/media/hdd1/kai/particle_generator/code_vectors/\"\n",
    "deploy_dir += \"code_vectors_{}_{}/\".format(im_dim, l_dim)"
   ]
  },
  {
   "cell_type": "code",
   "execution_count": 29,
   "metadata": {},
   "outputs": [],
   "source": [
    "# Create the save directory, if it doesn't already exist\n",
    "os.mkdir(deploy_dir)"
   ]
  },
  {
   "cell_type": "code",
   "execution_count": 30,
   "metadata": {},
   "outputs": [],
   "source": [
    "deploy_dir += \"code_vectors_{}_{}/\".format(im_dim, l_dim)"
   ]
  },
  {
   "cell_type": "code",
   "execution_count": 31,
   "metadata": {},
   "outputs": [],
   "source": [
    "os.mkdir(deploy_dir)"
   ]
  },
  {
   "cell_type": "markdown",
   "metadata": {},
   "source": [
    "#### Generate deploy targets by looping over the dataloader using only the encoder"
   ]
  },
  {
   "cell_type": "code",
   "execution_count": 32,
   "metadata": {},
   "outputs": [],
   "source": [
    "# Codes will be a list of numpy arrays of 32-bit floats\n",
    "codes = []"
   ]
  },
  {
   "cell_type": "code",
   "execution_count": 33,
   "metadata": {},
   "outputs": [],
   "source": [
    "for idx, image in enumerate(dataloader):\n",
    "    # Flatten image into a vector\n",
    "    image = image.view(1, -1).to(device)\n",
    "    \n",
    "    # Get the output of just the encoder\n",
    "    code = model.encoder(image)\n",
    "    \n",
    "    # Save the output tensor to a list\n",
    "    codes.append(code.detach().cpu().numpy())"
   ]
  },
  {
   "cell_type": "code",
   "execution_count": 37,
   "metadata": {},
   "outputs": [
    {
     "name": "stdout",
     "output_type": "stream",
     "text": [
      "Generated 53943 code vectors from 53943 training images\n"
     ]
    }
   ],
   "source": [
    "print(\"Generated {} code vectors from {} training images\".format(len(codes), len(dataloader)))"
   ]
  },
  {
   "cell_type": "code",
   "execution_count": 39,
   "metadata": {},
   "outputs": [
    {
     "data": {
      "text/plain": [
       "(1, 256)"
      ]
     },
     "execution_count": 39,
     "metadata": {},
     "output_type": "execute_result"
    }
   ],
   "source": [
    "codes[0].shape"
   ]
  },
  {
   "cell_type": "markdown",
   "metadata": {},
   "source": [
    "#### Save the list of code vectors to disk\n",
    "- The torch tensors can be converted to numpy arrays\n",
    "- We then use the built-in np.save function to store the np array as a .npy file\n",
    "- The numpy array of floats can be read back losslessly using np.load(\"float_file.npy\")\n",
    "- This process will require the downstream creation of a [custom dataset](https://pytorch.org/tutorials/beginner/data_loading_tutorial.html)"
   ]
  },
  {
   "cell_type": "code",
   "execution_count": 35,
   "metadata": {},
   "outputs": [],
   "source": [
    "for idx, arr in enumerate(codes):\n",
    "    file_name = deploy_dir + \"target_{}.npy\".format(idx)\n",
    "    np.save(file_name, arr)"
   ]
  },
  {
   "cell_type": "code",
   "execution_count": 36,
   "metadata": {},
   "outputs": [
    {
     "name": "stdout",
     "output_type": "stream",
     "text": [
      "<class 'numpy.ndarray'>\n",
      "[[ 2.63335496e-01  3.88760388e-01  1.13007896e-01 -3.12835723e-01\n",
      "  -1.45768613e-01  1.10039398e-01 -4.67951000e-02 -2.97343880e-02\n",
      "  -8.93356919e-01  7.16076732e-01 -6.76842391e-01  5.33372089e-02\n",
      "   2.13710159e-01  1.26388535e-01  1.21858895e+00 -1.65493101e-01\n",
      "   1.10861525e-01 -1.01969457e+00  7.55159557e-01  1.49902970e-01\n",
      "   1.07128739e+00  5.70863605e-01  8.69052231e-01  4.46574181e-01\n",
      "  -9.76498201e-02 -4.79944438e-01 -1.39924765e-01 -2.64062345e-01\n",
      "   7.26211905e-01  6.60455525e-01  3.07859451e-01 -1.51601464e-01\n",
      "   3.13610971e-01  1.51269913e-01  7.67760649e-02  1.09910178e+00\n",
      "   4.30856764e-01  1.68393031e-01 -3.46811831e-01 -2.98115879e-01\n",
      "   1.52926981e-01  5.31124830e-01  4.43863869e-01 -4.85552922e-02\n",
      "  -3.72627765e-01 -8.67033843e-03 -4.13799845e-03  2.46812068e-02\n",
      "  -5.66537976e-01 -2.62605846e-01 -5.81658602e-01  2.22150207e-01\n",
      "   5.48834145e-01  1.25185817e-01  2.84092695e-01  1.13381937e-01\n",
      "   2.38424495e-01 -4.81389016e-02  4.89577383e-01 -6.95939176e-03\n",
      "   4.47048485e-01 -2.78913170e-01  4.65944037e-02 -4.87856120e-01\n",
      "   2.30782151e-01  6.98209405e-01  1.36402518e-01  1.01072967e-01\n",
      "  -3.55781019e-01  2.87417173e-01 -1.31774992e-01 -1.59394681e-01\n",
      "  -4.20006722e-01  1.53054669e-01  2.80497104e-01 -2.80117989e-02\n",
      "  -5.30799389e-01 -1.87956139e-01  8.76280487e-01 -5.30716777e-01\n",
      "   1.62901089e-01 -4.61563230e-01  2.29872108e-01  6.91218257e-01\n",
      "   3.11188191e-01  3.68135303e-01  7.66148984e-01  4.96982098e-01\n",
      "   3.66872877e-01  3.37289393e-01 -4.04063135e-01  9.68735814e-01\n",
      "   2.52309084e-01  2.49292135e-01  4.78531927e-01 -6.03839457e-01\n",
      "  -8.46563458e-01  2.09807344e-02  2.13729888e-01 -7.01984167e-02\n",
      "   1.99358672e-01 -3.82571518e-01 -6.44914210e-02 -4.50496897e-02\n",
      "   2.39173383e-01 -2.61442751e-01  3.99704725e-02  3.52255046e-01\n",
      "   5.22732556e-01  6.09737694e-01 -5.54844916e-01  7.66108274e-01\n",
      "   2.15270609e-01 -1.10490620e-02 -3.10529590e-01 -3.56003791e-02\n",
      "   1.93892568e-01 -5.89919686e-02 -3.94580752e-01  4.61774975e-01\n",
      "  -1.85582757e-01  6.82833493e-02  3.39702070e-01 -1.34005055e-01\n",
      "   1.22915936e+00 -2.38517955e-01 -2.66254812e-01 -3.54201853e-01\n",
      "  -6.77607477e-01 -6.17546499e-01  3.74578536e-01  1.51712090e-01\n",
      "  -7.87871778e-02 -2.98639655e-01  9.54154730e-01 -5.06088197e-01\n",
      "  -8.34278584e-01 -8.77319574e-02  9.22856390e-01 -2.66759038e-01\n",
      "  -2.78435498e-01 -2.90951103e-01  3.14276904e-01  3.18697572e-01\n",
      "   3.16757739e-01 -1.09353769e+00 -1.54445529e-01 -1.17795300e+00\n",
      "   6.55498430e-02  5.35922706e-01 -1.58004314e-01 -3.35197896e-01\n",
      "   3.78158331e-01 -7.61414349e-01 -1.42281830e-01  7.52960920e-01\n",
      "   1.44265518e-01  9.03157666e-02 -2.39983164e-02  7.91394770e-01\n",
      "  -4.74510491e-01  3.87762666e-01  1.66480735e-01 -7.14337707e-01\n",
      "   6.20587647e-01 -4.55919713e-01  1.26499546e+00 -1.03588529e-01\n",
      "  -2.48034596e-01  1.11892439e-01 -5.51697433e-01  1.18133184e-02\n",
      "  -4.06431288e-01  5.63174486e-04 -1.38596451e+00  8.50003511e-02\n",
      "   5.07246137e-01 -3.23405504e-01  3.78956407e-01 -5.97878873e-01\n",
      "   3.51680309e-01 -2.24810481e-01 -4.90879774e-01  7.89885521e-01\n",
      "  -3.68901908e-01  1.35121369e+00  8.97262514e-01  3.38644117e-01\n",
      "   7.02779666e-02  2.93514371e-01 -6.29699051e-01 -1.91808954e-01\n",
      "   2.55652487e-01  1.87335357e-01 -5.41612804e-01  3.16101521e-01\n",
      "   1.69173375e-01 -6.59477890e-01 -5.31008959e-01 -7.06246346e-02\n",
      "  -4.94447619e-01 -2.35653579e-01 -2.45516837e-01 -6.52979851e-01\n",
      "  -7.34878778e-01 -5.77746630e-01 -7.26697683e-01  7.98214018e-01\n",
      "  -9.71079051e-01  4.66187656e-01 -1.20577729e+00 -1.78755999e-01\n",
      "   1.55226901e-01  8.87945294e-01 -1.15064524e-01  8.67615581e-01\n",
      "   4.69521523e-01  1.46686926e-01  3.84402633e-01  9.51689631e-02\n",
      "  -1.22908466e-02 -6.20949268e-01 -9.55541372e-01 -1.05330341e-01\n",
      "   7.16035783e-01 -1.15787528e-01 -9.07714188e-01 -2.05208644e-01\n",
      "  -6.10758364e-01  4.43331867e-01 -4.82621580e-01  3.60121399e-01\n",
      "  -2.82529026e-01  1.37856141e-01  8.02085102e-02 -9.33484882e-02\n",
      "   6.02887213e-01  5.37543535e-01 -1.53452784e-01 -1.69445667e-02\n",
      "   4.37091887e-01  3.12790692e-01  6.40911460e-01  1.54373443e+00\n",
      "  -2.10048687e-02  1.62878662e-01  1.08479708e-01 -1.94475576e-01\n",
      "   1.47175848e-01  4.33497250e-01  8.90080571e-01  5.91224730e-01\n",
      "   7.13804722e-01  4.29857969e-01  4.89716083e-01  2.39074469e-01]]\n"
     ]
    }
   ],
   "source": [
    "# Load a test vector\n",
    "x = np.load(deploy_dir + \"target_0.npy\")\n",
    "print(type(x))\n",
    "print(x)"
   ]
  },
  {
   "cell_type": "code",
   "execution_count": null,
   "metadata": {},
   "outputs": [],
   "source": []
  }
 ],
 "metadata": {
  "kernelspec": {
   "display_name": "Python 3",
   "language": "python",
   "name": "python3"
  },
  "language_info": {
   "codemirror_mode": {
    "name": "ipython",
    "version": 3
   },
   "file_extension": ".py",
   "mimetype": "text/x-python",
   "name": "python",
   "nbconvert_exporter": "python",
   "pygments_lexer": "ipython3",
   "version": "3.5.2"
  }
 },
 "nbformat": 4,
 "nbformat_minor": 2
}
