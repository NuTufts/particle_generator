{
 "cells": [
  {
   "cell_type": "markdown",
   "metadata": {},
   "source": [
    "### This notebook is meant for the visualization of the fully connected layers"
   ]
  },
  {
   "cell_type": "code",
   "execution_count": 1,
   "metadata": {},
   "outputs": [],
   "source": [
    "import os\n",
    "import torch\n",
    "import numpy as np\n",
    "import cv2 as cv\n",
    "import pandas as pd\n",
    "import torchvision\n",
    "from torchvision import transforms\n",
    "from torch.utils.data import DataLoader\n",
    "import matplotlib.pyplot as plt\n",
    "%matplotlib inline"
   ]
  },
  {
   "cell_type": "code",
   "execution_count": 2,
   "metadata": {},
   "outputs": [],
   "source": [
    "import sys\n",
    "sys.path.insert(1, '/home/kseuro/Kai/deeplearnphysics/pytorch/particle_generator/')\n",
    "\n",
    "# My stuff\n",
    "import ae\n",
    "import utils\n",
    "from dataloader import LArCV_loader"
   ]
  },
  {
   "cell_type": "code",
   "execution_count": 3,
   "metadata": {},
   "outputs": [],
   "source": [
    "# Set the root path of the particle generator experiments folder\n",
    "exp_root = \"/media/hdd1/kai/particle_generator/experiments/\""
   ]
  },
  {
   "cell_type": "code",
   "execution_count": 4,
   "metadata": {},
   "outputs": [
    {
     "name": "stdout",
     "output_type": "stream",
     "text": [
      "------------------------------------------------------------\n",
      "\n",
      " Exp_0: /media/hdd1/kai/particle_generator/experiments/01-07-2020_15-28-38_ae_7500_epochs_LArCV_64_dataset \n",
      "\n",
      "------------------------------------------------------------\n",
      "\n",
      " Exp_1: /media/hdd1/kai/particle_generator/experiments/01-09-2020_14-54-41_ewm_1_epochs_Code_Vectors_64_20 \n",
      "\n",
      "------------------------------------------------------------\n",
      "\n",
      " Exp_2: /media/hdd1/kai/particle_generator/experiments/01-06-2020_11-29-26_ae_7500_epochs_LArCV_64_dataset \n",
      "\n",
      "------------------------------------------------------------\n",
      "\n",
      " Exp_3: /media/hdd1/kai/particle_generator/experiments/01-07-2020_11-06-54_ae_15000_epochs_LArCV_64_dataset \n",
      "\n",
      "------------------------------------------------------------\n",
      "\n",
      " Exp_4: /media/hdd1/kai/particle_generator/experiments/01-06-2020_11-28-04_ae_7500_epochs_LArCV_128_dataset \n",
      "\n",
      "------------------------------------------------------------\n"
     ]
    }
   ],
   "source": [
    "# Get the names of all the experiments in the exp_root folder\n",
    "exp_paths = []\n",
    "for path in os.listdir(exp_root):\n",
    "    exp_paths.append(os.path.join(exp_root, path))\n",
    "\n",
    "print(\"-\"*60)\n",
    "for i in range(len(exp_paths)):\n",
    "    print(\"\\n Exp_{}:\".format(str(i)), exp_paths[i], '\\n')\n",
    "    print(\"-\"*60)"
   ]
  },
  {
   "cell_type": "code",
   "execution_count": 5,
   "metadata": {},
   "outputs": [],
   "source": [
    "# Set the dir of the particular experiment for which to load a model\n",
    "exp_dir = exp_paths[2] + \"/\""
   ]
  },
  {
   "cell_type": "code",
   "execution_count": 6,
   "metadata": {},
   "outputs": [
    {
     "name": "stdout",
     "output_type": "stream",
     "text": [
      "Experiment path set as: \n",
      "/media/hdd1/kai/particle_generator/experiments/01-06-2020_11-29-26_ae_7500_epochs_LArCV_64_dataset/\n"
     ]
    }
   ],
   "source": [
    "# Create the full path to the experiment\n",
    "exp_path = os.path.join(exp_root, exp_dir)\n",
    "print(\"Experiment path set as: \\n{}\".format(exp_path))"
   ]
  },
  {
   "cell_type": "code",
   "execution_count": 7,
   "metadata": {},
   "outputs": [],
   "source": [
    "# Path to model weights\n",
    "weights_dir = \"weights/\""
   ]
  },
  {
   "cell_type": "code",
   "execution_count": 8,
   "metadata": {},
   "outputs": [],
   "source": [
    "# Load the config csv as a dict\n",
    "config_csv = exp_path + \"config.csv\"\n",
    "config_df = pd.read_csv(config_csv, delimiter = \",\")"
   ]
  },
  {
   "cell_type": "code",
   "execution_count": 9,
   "metadata": {},
   "outputs": [],
   "source": [
    "# Get the model architecture from config df\n",
    "n_layers = int(config_df[config_df['Unnamed: 0'].str.contains(\"n_layers\")==True]['0'].item())\n",
    "l_dim    = int(config_df[config_df['Unnamed: 0'].str.contains(\"l_dim\")==True]['0'].item())\n",
    "im_size  = int(config_df[config_df['Unnamed: 0'].str.contains(\"dataset\")==True]['0'].item())**2\n",
    "im_dim   = int(np.sqrt(im_size))"
   ]
  },
  {
   "cell_type": "code",
   "execution_count": 10,
   "metadata": {},
   "outputs": [],
   "source": [
    "# Set up AE layer sizes\n",
    "base = [256] \n",
    "\n",
    "# Compute encoder sizes\n",
    "sizes = lambda: [ (yield 2**i) for i in range(n_layers) ]\n",
    "enc_sizes = base * n_layers\n",
    "enc_sizes = [a*b for a,b in zip(enc_sizes, [*sizes()])][::-1]\n",
    "\n",
    "# Update kwarg dicts\n",
    "# Decoder is the reverse of the encoder\n",
    "ae_kwargs = {'enc_sizes' : enc_sizes, 'l_dim' : l_dim, 'im_size' : im_size, 'dec_sizes' : enc_sizes[::-1]}"
   ]
  },
  {
   "cell_type": "markdown",
   "metadata": {},
   "source": [
    "### Select a checkpoint file and load the model state dict"
   ]
  },
  {
   "cell_type": "code",
   "execution_count": 11,
   "metadata": {},
   "outputs": [],
   "source": [
    "# Get checkpoint name(s)\n",
    "checkpoint_path  = exp_path + weights_dir\n",
    "checkpoint_names = []\n",
    "for file in os.listdir(checkpoint_path):\n",
    "    checkpoint_names.append(os.path.join(checkpoint_path, file))"
   ]
  },
  {
   "cell_type": "code",
   "execution_count": 12,
   "metadata": {},
   "outputs": [
    {
     "name": "stdout",
     "output_type": "stream",
     "text": [
      "------------------------------------------------------------\n",
      "\n",
      " Chkpt_0 : /media/hdd1/kai/particle_generator/experiments/01-06-2020_11-29-26_ae_7500_epochs_LArCV_64_dataset/weights/best_ae_ep_7000.tar \n",
      "\n",
      "------------------------------------------------------------\n",
      "\n",
      " Chkpt_1 : /media/hdd1/kai/particle_generator/experiments/01-06-2020_11-29-26_ae_7500_epochs_LArCV_64_dataset/weights/best_ae_ep_7499.tar \n",
      "\n",
      "------------------------------------------------------------\n",
      "\n",
      " Chkpt_2 : /media/hdd1/kai/particle_generator/experiments/01-06-2020_11-29-26_ae_7500_epochs_LArCV_64_dataset/weights/best_ae_ep_5250.tar \n",
      "\n",
      "------------------------------------------------------------\n"
     ]
    }
   ],
   "source": [
    "print(\"-\"*60)\n",
    "for i in range(len(checkpoint_names)):\n",
    "    print(\"\\n Chkpt_{} :\".format(str(i)), checkpoint_names[i], '\\n')\n",
    "    print(\"-\"*60)"
   ]
  },
  {
   "cell_type": "code",
   "execution_count": 13,
   "metadata": {},
   "outputs": [],
   "source": [
    "# Select the desired checkpoint from the list\n",
    "best_checkpoint = checkpoint_names[1]"
   ]
  },
  {
   "cell_type": "code",
   "execution_count": 14,
   "metadata": {},
   "outputs": [],
   "source": [
    "# Load the model checkpoint\n",
    "# Keys: ['state_dict', 'epoch', 'optimizer']\n",
    "checkpoint = torch.load(best_checkpoint)"
   ]
  },
  {
   "cell_type": "code",
   "execution_count": 15,
   "metadata": {},
   "outputs": [],
   "source": [
    "# Load the model on GPU (GPU 1 is the best option)\n",
    "device = torch.device(2)\n",
    "model = ae.AutoEncoder(**ae_kwargs).to(device)"
   ]
  },
  {
   "cell_type": "code",
   "execution_count": 16,
   "metadata": {},
   "outputs": [
    {
     "data": {
      "text/plain": [
       "IncompatibleKeys(missing_keys=[], unexpected_keys=[])"
      ]
     },
     "execution_count": 16,
     "metadata": {},
     "output_type": "execute_result"
    }
   ],
   "source": [
    "# Load the model's state dictionary\n",
    "# Note: The IncompatibleKeys(missing_keys=[], unexpected_keys=[]) message indicates that\n",
    "#       there were no problems in loading the state dictionary. Bit confusing...\n",
    "model.load_state_dict(checkpoint['state_dict'])"
   ]
  },
  {
   "cell_type": "code",
   "execution_count": 17,
   "metadata": {
    "scrolled": true
   },
   "outputs": [
    {
     "data": {
      "text/plain": [
       "AutoEncoder(\n",
       "  (encoder): Encoder(\n",
       "    (fc_blocks): Sequential(\n",
       "      (0): Sequential(\n",
       "        (0): Linear(in_features=4096, out_features=2048, bias=True)\n",
       "        (1): LeakyReLU(negative_slope=0.2)\n",
       "      )\n",
       "      (1): Sequential(\n",
       "        (0): Linear(in_features=2048, out_features=1024, bias=True)\n",
       "        (1): LeakyReLU(negative_slope=0.2)\n",
       "      )\n",
       "      (2): Sequential(\n",
       "        (0): Linear(in_features=1024, out_features=512, bias=True)\n",
       "        (1): LeakyReLU(negative_slope=0.2)\n",
       "      )\n",
       "      (3): Sequential(\n",
       "        (0): Linear(in_features=512, out_features=256, bias=True)\n",
       "        (1): LeakyReLU(negative_slope=0.2)\n",
       "      )\n",
       "    )\n",
       "    (last): Linear(in_features=256, out_features=20, bias=True)\n",
       "  )\n",
       "  (decoder): Decoder(\n",
       "    (fc_blocks): Sequential(\n",
       "      (0): Sequential(\n",
       "        (0): Linear(in_features=20, out_features=256, bias=True)\n",
       "        (1): LeakyReLU(negative_slope=0.2)\n",
       "      )\n",
       "      (1): Sequential(\n",
       "        (0): Linear(in_features=256, out_features=512, bias=True)\n",
       "        (1): LeakyReLU(negative_slope=0.2)\n",
       "      )\n",
       "      (2): Sequential(\n",
       "        (0): Linear(in_features=512, out_features=1024, bias=True)\n",
       "        (1): LeakyReLU(negative_slope=0.2)\n",
       "      )\n",
       "      (3): Sequential(\n",
       "        (0): Linear(in_features=1024, out_features=2048, bias=True)\n",
       "        (1): LeakyReLU(negative_slope=0.2)\n",
       "      )\n",
       "    )\n",
       "    (last): Sequential(\n",
       "      (0): Linear(in_features=2048, out_features=4096, bias=True)\n",
       "      (1): Tanh()\n",
       "    )\n",
       "  )\n",
       ")"
      ]
     },
     "execution_count": 17,
     "metadata": {},
     "output_type": "execute_result"
    }
   ],
   "source": [
    "# Put the model in evaluation mode\n",
    "model.eval()"
   ]
  },
  {
   "cell_type": "markdown",
   "metadata": {},
   "source": [
    "### Create targets from the output of the encoder branch"
   ]
  },
  {
   "cell_type": "markdown",
   "metadata": {},
   "source": [
    "[PyTorch forums discussion on layerwise viz](https://discuss.pytorch.org/t/how-to-visualize-fully-connected-layers-as-images/13626/2)\n",
    "- In order to generate a variety of targets, we wish to save the output of the encoder's last layer\n",
    "- Since the output activations will vary depending on the input data image, we will generate a latent vector for each training example in the training dataset"
   ]
  },
  {
   "cell_type": "markdown",
   "metadata": {},
   "source": [
    "#### Set up LArCV1 dataloader"
   ]
  },
  {
   "cell_type": "code",
   "execution_count": 18,
   "metadata": {},
   "outputs": [
    {
     "name": "stdout",
     "output_type": "stream",
     "text": [
      "Training data will be loaded from: \n",
      "/media/hdd1/kai/particle_generator/larcv_data/train/larcv_png_64/\n"
     ]
    }
   ],
   "source": [
    "# Path to the training data\n",
    "test_data = \"/media/hdd1/kai/particle_generator/larcv_data/train/larcv_png_{}/\".format(im_dim)\n",
    "print(\"Training data will be loaded from: \\n{}\".format(test_data))"
   ]
  },
  {
   "cell_type": "code",
   "execution_count": 19,
   "metadata": {},
   "outputs": [
    {
     "name": "stdout",
     "output_type": "stream",
     "text": [
      "Image conversion flag is: L\n",
      "Images will be loaded from subfolder of: /media/hdd1/kai/particle_generator/larcv_data/train/larcv_png_64/\n"
     ]
    }
   ],
   "source": [
    "# Set up the torch dataloader\n",
    "loader_kwargs = {'num_workers' : 2, 'batch_size': 1, 'shuffle': True}\n",
    "test_transforms = transforms.Compose([transforms.ToTensor(), transforms.Normalize([0.5],[0.5])])\n",
    "test_dataset    = LArCV_loader(root = test_data, transforms = test_transforms)"
   ]
  },
  {
   "cell_type": "code",
   "execution_count": 20,
   "metadata": {},
   "outputs": [],
   "source": [
    "dataloader = DataLoader(test_dataset, **loader_kwargs)"
   ]
  },
  {
   "cell_type": "markdown",
   "metadata": {},
   "source": [
    "#### Create directory for saving code layer output targets"
   ]
  },
  {
   "cell_type": "code",
   "execution_count": 23,
   "metadata": {},
   "outputs": [],
   "source": [
    "# Specify the directory where the code vectors should be saved\n",
    "deploy_dir = \"/media/hdd1/kai/particle_generator/code_vectors/\"\n",
    "deploy_dir += \"code_vectors_{}_{}/code_vectors_{}_{}/\".format(im_dim, l_dim, im_dim, l_dim)"
   ]
  },
  {
   "cell_type": "code",
   "execution_count": 21,
   "metadata": {},
   "outputs": [
    {
     "ename": "FileExistsError",
     "evalue": "[Errno 17] File exists: '/media/hdd1/kai/particle_generator/code_vectors/code_vectors_64_20/code_vectors_64_20/'",
     "output_type": "error",
     "traceback": [
      "\u001b[0;31m---------------------------------------------------------------------------\u001b[0m",
      "\u001b[0;31mFileExistsError\u001b[0m                           Traceback (most recent call last)",
      "\u001b[0;32m<ipython-input-21-22aa42395e5e>\u001b[0m in \u001b[0;36m<module>\u001b[0;34m\u001b[0m\n\u001b[1;32m      1\u001b[0m \u001b[0mdeploy_dir\u001b[0m \u001b[0;34m=\u001b[0m \u001b[0;34m\"/media/hdd1/kai/particle_generator/code_vectors/\"\u001b[0m\u001b[0;34m\u001b[0m\u001b[0m\n\u001b[1;32m      2\u001b[0m \u001b[0mdeploy_dir\u001b[0m \u001b[0;34m+=\u001b[0m \u001b[0;34m\"code_vectors_{}_{}/code_vectors_{}_{}/\"\u001b[0m\u001b[0;34m.\u001b[0m\u001b[0mformat\u001b[0m\u001b[0;34m(\u001b[0m\u001b[0mim_dim\u001b[0m\u001b[0;34m,\u001b[0m \u001b[0ml_dim\u001b[0m\u001b[0;34m,\u001b[0m \u001b[0mim_dim\u001b[0m\u001b[0;34m,\u001b[0m \u001b[0ml_dim\u001b[0m\u001b[0;34m)\u001b[0m\u001b[0;34m\u001b[0m\u001b[0m\n\u001b[0;32m----> 3\u001b[0;31m \u001b[0mos\u001b[0m\u001b[0;34m.\u001b[0m\u001b[0mmkdir\u001b[0m\u001b[0;34m(\u001b[0m\u001b[0mdeploy_dir\u001b[0m\u001b[0;34m)\u001b[0m\u001b[0;34m\u001b[0m\u001b[0m\n\u001b[0m",
      "\u001b[0;31mFileExistsError\u001b[0m: [Errno 17] File exists: '/media/hdd1/kai/particle_generator/code_vectors/code_vectors_64_20/code_vectors_64_20/'"
     ]
    }
   ],
   "source": [
    "# Create the save directory, if it doesn't already exist\n",
    "os.mkdir(deploy_dir)"
   ]
  },
  {
   "cell_type": "markdown",
   "metadata": {},
   "source": [
    "#### Generate deploy targets by looping over the dataloader using only the encoder"
   ]
  },
  {
   "cell_type": "code",
   "execution_count": 21,
   "metadata": {},
   "outputs": [
    {
     "name": "stdout",
     "output_type": "stream",
     "text": [
      "Generated 53943 code vectors from 53943 training images\n"
     ]
    }
   ],
   "source": [
    "# Codes will be a list of numpy arrays of 32-bit floats\n",
    "codes = []\n",
    "for idx, image in enumerate(dataloader):\n",
    "\n",
    "    # Flatten image into a vector\n",
    "    image = image.view(1, -1).to(device)\n",
    "    \n",
    "    # Get the output of just the encoder\n",
    "    code = model.encoder(image)\n",
    "    \n",
    "    # Save the output tensor to a list\n",
    "    codes.append(code.detach().cpu().numpy())\n",
    "print(\"Generated {} code vectors from {} training images\".format(len(codes), len(dataloader)))"
   ]
  },
  {
   "cell_type": "markdown",
   "metadata": {},
   "source": [
    "#### Save the list of code vectors to disk\n",
    "- The torch tensors can be converted to numpy arrays\n",
    "- We then use the built-in np.save function to store the np array as a .npy file\n",
    "- The numpy array of floats can be read back losslessly using np.load(\"float_file.npy\")\n",
    "- This process will require the downstream creation of a [custom dataset](https://pytorch.org/tutorials/beginner/data_loading_tutorial.html)"
   ]
  },
  {
   "cell_type": "code",
   "execution_count": 25,
   "metadata": {},
   "outputs": [],
   "source": [
    "for idx, arr in enumerate(codes):\n",
    "    file_name = deploy_dir + \"target_{}.npy\".format(idx)\n",
    "    np.save(file_name, arr)"
   ]
  },
  {
   "cell_type": "code",
   "execution_count": 27,
   "metadata": {},
   "outputs": [
    {
     "name": "stdout",
     "output_type": "stream",
     "text": [
      "<class 'numpy.ndarray'>\n",
      "[[ 41.3999      -2.0707474   11.15646     75.178604   -71.26059\n",
      "    7.078363    58.097836    -9.79913     20.420868   127.18924\n",
      "  -22.877512   -10.997973   -30.48444     10.107766   -25.841742\n",
      "  -93.63965      0.42487815 -30.668907    72.617386    62.44259   ]]\n"
     ]
    }
   ],
   "source": [
    "# Load a test vector\n",
    "x = np.load(deploy_dir + \"target_0.npy\")\n",
    "print(type(x))\n",
    "print(x)"
   ]
  },
  {
   "cell_type": "code",
   "execution_count": null,
   "metadata": {},
   "outputs": [],
   "source": []
  }
 ],
 "metadata": {
  "kernelspec": {
   "display_name": "Python 3",
   "language": "python",
   "name": "python3"
  },
  "language_info": {
   "codemirror_mode": {
    "name": "ipython",
    "version": 3
   },
   "file_extension": ".py",
   "mimetype": "text/x-python",
   "name": "python",
   "nbconvert_exporter": "python",
   "pygments_lexer": "ipython3",
   "version": "3.5.2"
  }
 },
 "nbformat": 4,
 "nbformat_minor": 2
}
