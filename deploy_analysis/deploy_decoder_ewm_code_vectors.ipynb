{
 "cells": [
  {
   "cell_type": "code",
   "execution_count": 1,
   "metadata": {},
   "outputs": [],
   "source": [
    "import os\n",
    "import torch\n",
    "import numpy as np\n",
    "import cv2 as cv\n",
    "import pandas as pd\n",
    "import torchvision\n",
    "from torchvision import transforms\n",
    "from torch.utils.data import DataLoader\n",
    "import matplotlib.pyplot as plt\n",
    "%matplotlib inline"
   ]
  },
  {
   "cell_type": "code",
   "execution_count": 2,
   "metadata": {},
   "outputs": [],
   "source": [
    "import sys\n",
    "sys.path.insert(1, '/home/kseuro/Kai/deeplearnphysics/pytorch/particle_generator/')\n",
    "\n",
    "# My stuff\n",
    "import ae\n",
    "import utils\n",
    "from dataloader import BottleLoader\n",
    "from ewm import ewm_G"
   ]
  },
  {
   "cell_type": "code",
   "execution_count": 3,
   "metadata": {},
   "outputs": [],
   "source": [
    "# Set the root path of the AutoEncoder model experiments\n",
    "exp_root = \"/media/hdd1/kai/particle_generator/experiments/larcv_ae/\""
   ]
  },
  {
   "cell_type": "code",
   "execution_count": 4,
   "metadata": {},
   "outputs": [],
   "source": [
    "# Set the root path where the ewm_code_vectors are stored\n",
    "code_vec_root = \"/media/hdd1/kai/particle_generator/ewm_code_vectors/\""
   ]
  },
  {
   "cell_type": "markdown",
   "metadata": {},
   "source": [
    "## Get the names of all the saved AutoEncoder experiments in the exp_root folder"
   ]
  },
  {
   "cell_type": "code",
   "execution_count": 5,
   "metadata": {},
   "outputs": [
    {
     "name": "stdout",
     "output_type": "stream",
     "text": [
      "------------------------------------------------------------\n",
      "\n",
      " Exp_0: /media/hdd1/kai/particle_generator/experiments/larcv_ae/larcv_ae_64_256 \n",
      "\n",
      "------------------------------------------------------------\n",
      "\n",
      " Exp_1: /media/hdd1/kai/particle_generator/experiments/larcv_ae/larcv_ae_64_20_15000-epochs \n",
      "\n",
      "------------------------------------------------------------\n",
      "\n",
      " Exp_2: /media/hdd1/kai/particle_generator/experiments/larcv_ae/larcv_ae_64_20 \n",
      "\n",
      "------------------------------------------------------------\n",
      "\n",
      " Exp_3: /media/hdd1/kai/particle_generator/experiments/larcv_ae/larcv_ae_128_20 \n",
      "\n",
      "------------------------------------------------------------\n"
     ]
    }
   ],
   "source": [
    "exp_paths = []\n",
    "for path in os.listdir(exp_root):\n",
    "    exp_paths.append(os.path.join(exp_root, path))\n",
    "\n",
    "print(\"-\"*60)\n",
    "for i in range(len(exp_paths)):\n",
    "    print(\"\\n Exp_{}:\".format(str(i)), exp_paths[i], '\\n')\n",
    "    print(\"-\"*60)"
   ]
  },
  {
   "cell_type": "markdown",
   "metadata": {},
   "source": [
    "## Select the AutoEncoder experiment you want"
   ]
  },
  {
   "cell_type": "code",
   "execution_count": 6,
   "metadata": {},
   "outputs": [],
   "source": [
    "exp_dir = exp_paths[2]"
   ]
  },
  {
   "cell_type": "code",
   "execution_count": 7,
   "metadata": {},
   "outputs": [
    {
     "name": "stdout",
     "output_type": "stream",
     "text": [
      "Experiment path set as: \n",
      "/media/hdd1/kai/particle_generator/experiments/larcv_ae/larcv_ae_64_20/\n"
     ]
    }
   ],
   "source": [
    "# Create the full path to the AutoEncoder experiment\n",
    "exp_path = os.path.join(exp_root, exp_dir) + \"/\"\n",
    "print(\"Experiment path set as: \\n{}\".format(exp_path))"
   ]
  },
  {
   "cell_type": "code",
   "execution_count": 8,
   "metadata": {},
   "outputs": [],
   "source": [
    "# Path to model weights\n",
    "weights_dir = \"weights/\""
   ]
  },
  {
   "cell_type": "code",
   "execution_count": 9,
   "metadata": {},
   "outputs": [],
   "source": [
    "# Set the GPU (GPU 1 is the best option)\n",
    "device = torch.device(1)"
   ]
  },
  {
   "cell_type": "markdown",
   "metadata": {},
   "source": [
    "## Load the AE config .csv as a dict\n",
    "- Get the model architecture from the config_df"
   ]
  },
  {
   "cell_type": "code",
   "execution_count": 10,
   "metadata": {},
   "outputs": [],
   "source": [
    "config_csv = exp_path + \"config.csv\"\n",
    "config_df = pd.read_csv(config_csv, delimiter = \",\")"
   ]
  },
  {
   "cell_type": "code",
   "execution_count": 11,
   "metadata": {},
   "outputs": [],
   "source": [
    "n_layers = int(config_df[config_df['Unnamed: 0'].str.contains(\"n_layers\")==True]['0'].item())\n",
    "l_dim    = int(config_df[config_df['Unnamed: 0'].str.contains(\"l_dim\")==True]['0'].item())\n",
    "im_size  = int(config_df[config_df['Unnamed: 0'].str.contains(\"dataset\")==True]['0'].item())**2\n",
    "im_dim   = int(np.sqrt(im_size))"
   ]
  },
  {
   "cell_type": "code",
   "execution_count": 12,
   "metadata": {},
   "outputs": [],
   "source": [
    "# Set the code_vec_root to the appropriate path based on the model specs defined above\n",
    "code_vec_path = code_vec_root + \"ewm_code_vectors_{}_{}/\".format(im_dim, l_dim)"
   ]
  },
  {
   "cell_type": "markdown",
   "metadata": {},
   "source": [
    "## Set up AutoEncoder model on the GPU"
   ]
  },
  {
   "cell_type": "code",
   "execution_count": 13,
   "metadata": {},
   "outputs": [],
   "source": [
    "# Set up AE layer sizes\n",
    "base = [256] \n",
    "\n",
    "# Compute encoder sizes\n",
    "sizes = lambda: [ (yield 2**i) for i in range(n_layers) ]\n",
    "enc_sizes = base * n_layers\n",
    "enc_sizes = [a*b for a,b in zip(enc_sizes, [*sizes()])][::-1]\n",
    "\n",
    "# Update kwarg dicts\n",
    "# Decoder is the reverse of the encoder\n",
    "ae_kwargs = {'enc_sizes' : enc_sizes, 'l_dim' : l_dim, 'im_size' : im_size, 'dec_sizes' : enc_sizes[::-1]}"
   ]
  },
  {
   "cell_type": "code",
   "execution_count": 14,
   "metadata": {},
   "outputs": [],
   "source": [
    "model = ae.AutoEncoder(**ae_kwargs).to(device)"
   ]
  },
  {
   "cell_type": "markdown",
   "metadata": {},
   "source": [
    "## Load the AE model checkpoint"
   ]
  },
  {
   "cell_type": "code",
   "execution_count": 15,
   "metadata": {},
   "outputs": [],
   "source": [
    "# Get checkpoint name(s)\n",
    "checkpoint_path  = exp_path + weights_dir\n",
    "checkpoint_names = []\n",
    "for file in os.listdir(checkpoint_path):\n",
    "    checkpoint_names.append(os.path.join(checkpoint_path, file))"
   ]
  },
  {
   "cell_type": "code",
   "execution_count": 16,
   "metadata": {},
   "outputs": [
    {
     "name": "stdout",
     "output_type": "stream",
     "text": [
      "------------------------------------------------------------\n",
      "\n",
      " Chkpt_0 : /media/hdd1/kai/particle_generator/experiments/larcv_ae/larcv_ae_64_20/weights/best_ae_ep_7000.tar \n",
      "\n",
      "------------------------------------------------------------\n",
      "\n",
      " Chkpt_1 : /media/hdd1/kai/particle_generator/experiments/larcv_ae/larcv_ae_64_20/weights/best_ae_ep_7499.tar \n",
      "\n",
      "------------------------------------------------------------\n",
      "\n",
      " Chkpt_2 : /media/hdd1/kai/particle_generator/experiments/larcv_ae/larcv_ae_64_20/weights/best_ae_ep_5250.tar \n",
      "\n",
      "------------------------------------------------------------\n"
     ]
    }
   ],
   "source": [
    "print(\"-\"*60)\n",
    "for i in range(len(checkpoint_names)):\n",
    "    print(\"\\n Chkpt_{} :\".format(str(i)), checkpoint_names[i], '\\n')\n",
    "    print(\"-\"*60)"
   ]
  },
  {
   "cell_type": "code",
   "execution_count": 17,
   "metadata": {},
   "outputs": [],
   "source": [
    "# Select the desired checkpoint from the list\n",
    "best_checkpoint = checkpoint_names[1]"
   ]
  },
  {
   "cell_type": "code",
   "execution_count": 18,
   "metadata": {},
   "outputs": [],
   "source": [
    "# Load the model checkpoint\n",
    "# Keys: ['state_dict', 'epoch', 'optimizer']\n",
    "checkpoint = torch.load(best_checkpoint)"
   ]
  },
  {
   "cell_type": "code",
   "execution_count": 19,
   "metadata": {},
   "outputs": [
    {
     "data": {
      "text/plain": [
       "IncompatibleKeys(missing_keys=[], unexpected_keys=[])"
      ]
     },
     "execution_count": 19,
     "metadata": {},
     "output_type": "execute_result"
    }
   ],
   "source": [
    "# Load the model's state dictionary\n",
    "# Note: The IncompatibleKeys(missing_keys=[], unexpected_keys=[]) message indicates that\n",
    "#       there were no problems in loading the state dictionary. Bit confusing...\n",
    "model.load_state_dict(checkpoint['state_dict'])"
   ]
  },
  {
   "cell_type": "code",
   "execution_count": 26,
   "metadata": {},
   "outputs": [
    {
     "data": {
      "text/plain": [
       "AutoEncoder(\n",
       "  (encoder): Encoder(\n",
       "    (fc_blocks): Sequential(\n",
       "      (0): Sequential(\n",
       "        (0): Linear(in_features=4096, out_features=2048, bias=True)\n",
       "        (1): LeakyReLU(negative_slope=0.2)\n",
       "      )\n",
       "      (1): Sequential(\n",
       "        (0): Linear(in_features=2048, out_features=1024, bias=True)\n",
       "        (1): LeakyReLU(negative_slope=0.2)\n",
       "      )\n",
       "      (2): Sequential(\n",
       "        (0): Linear(in_features=1024, out_features=512, bias=True)\n",
       "        (1): LeakyReLU(negative_slope=0.2)\n",
       "      )\n",
       "      (3): Sequential(\n",
       "        (0): Linear(in_features=512, out_features=256, bias=True)\n",
       "        (1): LeakyReLU(negative_slope=0.2)\n",
       "      )\n",
       "    )\n",
       "    (last): Linear(in_features=256, out_features=20, bias=True)\n",
       "  )\n",
       "  (decoder): Decoder(\n",
       "    (fc_blocks): Sequential(\n",
       "      (0): Sequential(\n",
       "        (0): Linear(in_features=20, out_features=256, bias=True)\n",
       "        (1): LeakyReLU(negative_slope=0.2)\n",
       "      )\n",
       "      (1): Sequential(\n",
       "        (0): Linear(in_features=256, out_features=512, bias=True)\n",
       "        (1): LeakyReLU(negative_slope=0.2)\n",
       "      )\n",
       "      (2): Sequential(\n",
       "        (0): Linear(in_features=512, out_features=1024, bias=True)\n",
       "        (1): LeakyReLU(negative_slope=0.2)\n",
       "      )\n",
       "      (3): Sequential(\n",
       "        (0): Linear(in_features=1024, out_features=2048, bias=True)\n",
       "        (1): LeakyReLU(negative_slope=0.2)\n",
       "      )\n",
       "    )\n",
       "    (last): Sequential(\n",
       "      (0): Linear(in_features=2048, out_features=4096, bias=True)\n",
       "      (1): Tanh()\n",
       "    )\n",
       "  )\n",
       ")"
      ]
     },
     "execution_count": 26,
     "metadata": {},
     "output_type": "execute_result"
    }
   ],
   "source": [
    "# Put the model in evaluation mode\n",
    "model.eval()"
   ]
  },
  {
   "cell_type": "markdown",
   "metadata": {},
   "source": [
    "## Set the directory where the model outputs should be saved"
   ]
  },
  {
   "cell_type": "code",
   "execution_count": null,
   "metadata": {},
   "outputs": [],
   "source": [
    "# TODO: Write this section after the checking that model deploys properly"
   ]
  },
  {
   "cell_type": "code",
   "execution_count": null,
   "metadata": {},
   "outputs": [],
   "source": [
    "path = \"/media/hdd1/kai/particle_generator/ewm_code_vectors/ewm_code_vectors_64_20/ewm_code_vectors_64_20/\"\n",
    "paths = []\n",
    "for ex in os.listdir(path):\n",
    "    print(os.path.join(path, ex))"
   ]
  },
  {
   "cell_type": "code",
   "execution_count": null,
   "metadata": {},
   "outputs": [],
   "source": [
    "path = code_vec_path.strip('/').split('_')\n",
    "dims = []\n",
    "for item in path:\n",
    "    try:\n",
    "        dims.append(int(item))\n",
    "    except ValueError:\n",
    "        pass\n",
    "dims"
   ]
  },
  {
   "cell_type": "markdown",
   "metadata": {},
   "source": [
    "## Deploy the Decoder using the set of ewm generated code_vectors"
   ]
  },
  {
   "cell_type": "markdown",
   "metadata": {},
   "source": [
    "### Setup the BottleLoader"
   ]
  },
  {
   "cell_type": "code",
   "execution_count": 21,
   "metadata": {},
   "outputs": [
    {
     "name": "stdout",
     "output_type": "stream",
     "text": [
      "Code-Target examples will be loaded from subfolder of: \n",
      "/media/hdd1/kai/particle_generator/ewm_code_vectors/ewm_code_vectors_64_20/\n"
     ]
    }
   ],
   "source": [
    "loader_kwargs = {'num_workers' : 1, 'batch_size': 1, 'shuffle': True}\n",
    "train_transform = transforms.Compose([ transforms.ToTensor() ]) \n",
    "test_dataset = BottleLoader(root = code_vec_path, transforms=train_transform)"
   ]
  },
  {
   "cell_type": "code",
   "execution_count": 22,
   "metadata": {},
   "outputs": [],
   "source": [
    "dataloader = DataLoader(test_dataset, **loader_kwargs)"
   ]
  },
  {
   "cell_type": "markdown",
   "metadata": {},
   "source": [
    "## Run ewm_code_vectors through the Decoder"
   ]
  },
  {
   "cell_type": "code",
   "execution_count": 50,
   "metadata": {},
   "outputs": [],
   "source": [
    "samples = []; limit = 24\n",
    "for idx, code_vec in enumerate(dataloader):\n",
    "    \n",
    "    # Move code_vector onto GPU\n",
    "    code_vec = code_vec.to(device)\n",
    "    \n",
    "    # Get sample from model\n",
    "    sample = model.decoder(code_vec)\n",
    "    \n",
    "    # Reshape the sample, detach, and convert to numpy array\n",
    "    samples.append(sample.view(im_dim, im_dim).detach().cpu().numpy())\n",
    "    \n",
    "    if idx == limit:\n",
    "        break"
   ]
  },
  {
   "cell_type": "code",
   "execution_count": 51,
   "metadata": {},
   "outputs": [
    {
     "name": "stdout",
     "output_type": "stream",
     "text": [
      "(64, 64) <class 'numpy.ndarray'>\n"
     ]
    }
   ],
   "source": [
    "print(samples[0].shape, type(samples[0]))"
   ]
  },
  {
   "cell_type": "markdown",
   "metadata": {},
   "source": [
    "## Viz the deploy samples"
   ]
  },
  {
   "cell_type": "code",
   "execution_count": 52,
   "metadata": {},
   "outputs": [],
   "source": [
    "n_row = 3; n_col = limit // n_row\n",
    "\n",
    "fig, axes = plt.subplots(n_row, n_col)\n",
    "supTitle = \"{} model deploy samples using {}x{} dataset \\n and {}_dim code vectors\".format('Decoder', im_dim, im_dim, l_dim)\n",
    "fig.suptitle(supTitle, color=\"white\")\n",
    "\n",
    "img = None; test_num = limit; sample_num = limit\n",
    "for i in range(0, n_row):\n",
    "    for j in range(0, n_col):\n",
    "        img = axes[i,j].imshow( samples[sample_num] )\n",
    "        axes[i,j].spines['bottom'].set_color('white')\n",
    "        axes[i,j].spines['top'].set_color('white')\n",
    "        axes[i,j].spines['left'].set_color('white')\n",
    "        axes[i,j].spines['right'].set_color('white')\n",
    "        axes[i,j].xaxis.label.set_color('white')\n",
    "        axes[i,j].yaxis.label.set_color('white')\n",
    "        axes[i,j].get_xaxis().set_visible(False)\n",
    "        axes[i,j].get_yaxis().set_visible(False)\n",
    "        axes[i,j].tick_params(axis='x', colors='#443941')\n",
    "        axes[i,j].tick_params(axis='y', colors='#443941')\n",
    "        sample_num -= 1\n",
    "\n",
    "# Colorbar\n",
    "# cbar_axes = fig.add_axes([0.9, 0.1, 0.03, 0.8])\n",
    "# cbar = plt.colorbar(img, cax=cbar_axes)\n",
    "# cbar.ax.yaxis.set_tick_params(color=\"white\")\n",
    "# cbar.outline.set_edgecolor(color=\"white\")\n",
    "# plt.setp(plt.getp(cbar.ax.axes, 'yticklabels'), color=\"white\")\n",
    "\n",
    "plt.savefig(\"{}_model_deploy_samples_{}_dataset_{}_code_vectors.png\".format('Decoder', im_dim, l_dim), dpi=300, facecolor='#443941')"
   ]
  },
  {
   "cell_type": "code",
   "execution_count": null,
   "metadata": {},
   "outputs": [],
   "source": []
  }
 ],
 "metadata": {
  "kernelspec": {
   "display_name": "Python 3",
   "language": "python",
   "name": "python3"
  },
  "language_info": {
   "codemirror_mode": {
    "name": "ipython",
    "version": 3
   },
   "file_extension": ".py",
   "mimetype": "text/x-python",
   "name": "python",
   "nbconvert_exporter": "python",
   "pygments_lexer": "ipython3",
   "version": "3.5.2"
  }
 },
 "nbformat": 4,
 "nbformat_minor": 2
}
