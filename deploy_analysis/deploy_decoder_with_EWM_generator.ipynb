{
 "cells": [
  {
   "cell_type": "code",
   "execution_count": 1,
   "metadata": {},
   "outputs": [],
   "source": [
    "import os\n",
    "import torch\n",
    "import numpy as np\n",
    "import cv2 as cv\n",
    "import pandas as pd\n",
    "import torchvision\n",
    "from torchvision import transforms\n",
    "from torch.utils.data import DataLoader\n",
    "import matplotlib.pyplot as plt\n",
    "%matplotlib inline"
   ]
  },
  {
   "cell_type": "code",
   "execution_count": 2,
   "metadata": {},
   "outputs": [],
   "source": [
    "import sys\n",
    "sys.path.insert(1, '/home/kseuro/Kai/deeplearnphysics/pytorch/particle_generator/')\n",
    "\n",
    "# My stuff\n",
    "import ae\n",
    "import utils\n",
    "from ewm import ewm_G"
   ]
  },
  {
   "cell_type": "code",
   "execution_count": 3,
   "metadata": {},
   "outputs": [],
   "source": [
    "# Set the root path of the AutoEncoder model experiments\n",
    "AE_root = \"/media/hdd1/kai/particle_generator/experiments/larcv_ae/\""
   ]
  },
  {
   "cell_type": "code",
   "execution_count": 4,
   "metadata": {},
   "outputs": [],
   "source": [
    "# Set the root path of the EWM trained Generator model experiments\n",
    "EWM_root = \"/media/hdd1/kai/particle_generator/experiments/ewm_models/\""
   ]
  },
  {
   "cell_type": "code",
   "execution_count": 5,
   "metadata": {},
   "outputs": [],
   "source": [
    "# Path to model weights\n",
    "weights_dir = \"weights/\""
   ]
  },
  {
   "cell_type": "code",
   "execution_count": 6,
   "metadata": {},
   "outputs": [],
   "source": [
    "# Set the GPU (GPU 1 is the best option)\n",
    "device = torch.device(1)"
   ]
  },
  {
   "cell_type": "markdown",
   "metadata": {},
   "source": [
    "# Select the AutoEncoder and Generator Models you want to deploy"
   ]
  },
  {
   "cell_type": "markdown",
   "metadata": {},
   "source": [
    "## Get the names of all the saved AutoEncoder experiments in the exp_root folder"
   ]
  },
  {
   "cell_type": "code",
   "execution_count": 7,
   "metadata": {},
   "outputs": [
    {
     "name": "stdout",
     "output_type": "stream",
     "text": [
      "------------------------------------------------------------\n",
      "\n",
      " Exp_0: /media/hdd1/kai/particle_generator/experiments/larcv_ae/larcv_ae_64_256 \n",
      "\n",
      "------------------------------------------------------------\n",
      "\n",
      " Exp_1: /media/hdd1/kai/particle_generator/experiments/larcv_ae/larcv_ae_64_20_15000-epochs \n",
      "\n",
      "------------------------------------------------------------\n",
      "\n",
      " Exp_2: /media/hdd1/kai/particle_generator/experiments/larcv_ae/larcv_ae_64_20 \n",
      "\n",
      "------------------------------------------------------------\n",
      "\n",
      " Exp_3: /media/hdd1/kai/particle_generator/experiments/larcv_ae/larcv_ae_64_256_1000-epochs \n",
      "\n",
      "------------------------------------------------------------\n",
      "\n",
      " Exp_4: /media/hdd1/kai/particle_generator/experiments/larcv_ae/larcv_ae_128_20 \n",
      "\n",
      "------------------------------------------------------------\n"
     ]
    }
   ],
   "source": [
    "AE_paths = []\n",
    "for path in os.listdir(AE_root):\n",
    "    AE_paths.append(os.path.join(AE_root, path))\n",
    "\n",
    "print(\"-\"*60)\n",
    "for i in range(len(AE_paths)):\n",
    "    print(\"\\n Exp_{}:\".format(str(i)), AE_paths[i], '\\n')\n",
    "    print(\"-\"*60)"
   ]
  },
  {
   "cell_type": "markdown",
   "metadata": {},
   "source": [
    "## Select the AutoEncoder experiment you want"
   ]
  },
  {
   "cell_type": "code",
   "execution_count": 8,
   "metadata": {},
   "outputs": [],
   "source": [
    "AE_dir = AE_paths[2]"
   ]
  },
  {
   "cell_type": "code",
   "execution_count": 9,
   "metadata": {},
   "outputs": [
    {
     "name": "stdout",
     "output_type": "stream",
     "text": [
      "Path to AutoEncoder set as: \n",
      "/media/hdd1/kai/particle_generator/experiments/larcv_ae/larcv_ae_64_20/\n"
     ]
    }
   ],
   "source": [
    "# Create the full path to the AutoEncoder experiment\n",
    "AE_path = os.path.join(AE_root, AE_dir) + \"/\"\n",
    "print(\"Path to AutoEncoder set as: \\n{}\".format(AE_path))"
   ]
  },
  {
   "cell_type": "markdown",
   "metadata": {},
   "source": [
    "## Get the names of all the saved EWM Generator models"
   ]
  },
  {
   "cell_type": "code",
   "execution_count": 10,
   "metadata": {},
   "outputs": [
    {
     "name": "stdout",
     "output_type": "stream",
     "text": [
      "------------------------------------------------------------\n",
      "\n",
      " Exp_0: /media/hdd1/kai/particle_generator/experiments/ewm_models/ewm_test_model \n",
      "\n",
      "------------------------------------------------------------\n"
     ]
    }
   ],
   "source": [
    "EWM_paths = []\n",
    "for path in os.listdir(EWM_root):\n",
    "    EWM_paths.append(os.path.join(EWM_root, path))\n",
    "\n",
    "print(\"-\"*60)\n",
    "for i in range(len(EWM_paths)):\n",
    "    print(\"\\n Exp_{}:\".format(str(i)), EWM_paths[i], '\\n')\n",
    "    print(\"-\"*60)"
   ]
  },
  {
   "cell_type": "markdown",
   "metadata": {},
   "source": [
    "## Select the EWM model experiment you want"
   ]
  },
  {
   "cell_type": "code",
   "execution_count": 11,
   "metadata": {},
   "outputs": [],
   "source": [
    "EWM_dir = EWM_paths[0]"
   ]
  },
  {
   "cell_type": "code",
   "execution_count": 12,
   "metadata": {},
   "outputs": [
    {
     "name": "stdout",
     "output_type": "stream",
     "text": [
      "Path to EWM Generator Model set as: \n",
      "/media/hdd1/kai/particle_generator/experiments/ewm_models/ewm_test_model/\n"
     ]
    }
   ],
   "source": [
    "# Create the full path to the EWM model\n",
    "EWM_path = os.path.join(EWM_root, EWM_dir) + \"/\"\n",
    "print(\"Path to EWM Generator Model set as: \\n{}\".format(EWM_path))"
   ]
  },
  {
   "cell_type": "markdown",
   "metadata": {},
   "source": [
    "# Load selected models from checkpoint and onto GPU"
   ]
  },
  {
   "cell_type": "markdown",
   "metadata": {},
   "source": [
    "## Load the AE config .csv as a dict\n",
    "- Get the model architecture from the config_df"
   ]
  },
  {
   "cell_type": "code",
   "execution_count": 13,
   "metadata": {},
   "outputs": [],
   "source": [
    "config_csv = AE_path + \"config.csv\"\n",
    "config_df = pd.read_csv(config_csv, delimiter = \",\")"
   ]
  },
  {
   "cell_type": "code",
   "execution_count": 14,
   "metadata": {},
   "outputs": [],
   "source": [
    "n_layers = int(config_df[config_df['Unnamed: 0'].str.contains(\"n_layers\")==True]['0'].item())\n",
    "l_dim    = int(config_df[config_df['Unnamed: 0'].str.contains(\"l_dim\")==True]['0'].item())\n",
    "im_size  = int(config_df[config_df['Unnamed: 0'].str.contains(\"dataset\")==True]['0'].item())**2\n",
    "im_dim   = int(np.sqrt(im_size))"
   ]
  },
  {
   "cell_type": "markdown",
   "metadata": {},
   "source": [
    "## Set up AutoEncoder model on the GPU"
   ]
  },
  {
   "cell_type": "code",
   "execution_count": 15,
   "metadata": {},
   "outputs": [],
   "source": [
    "# Set up AE layer sizes\n",
    "base = [256] \n",
    "\n",
    "# Compute encoder sizes\n",
    "sizes = lambda: [ (yield 2**i) for i in range(n_layers) ]\n",
    "enc_sizes = base * n_layers\n",
    "enc_sizes = [a*b for a,b in zip(enc_sizes, [*sizes()])][::-1]\n",
    "\n",
    "# Update kwarg dicts\n",
    "# Decoder is the reverse of the encoder\n",
    "ae_kwargs = {'enc_sizes' : enc_sizes, 'l_dim' : l_dim, 'im_size' : im_size, 'dec_sizes' : enc_sizes[::-1]}"
   ]
  },
  {
   "cell_type": "code",
   "execution_count": 16,
   "metadata": {},
   "outputs": [],
   "source": [
    "AE = ae.AutoEncoder(**ae_kwargs).to(device)"
   ]
  },
  {
   "cell_type": "markdown",
   "metadata": {},
   "source": [
    "## Load the AE model checkpoint"
   ]
  },
  {
   "cell_type": "code",
   "execution_count": 17,
   "metadata": {},
   "outputs": [],
   "source": [
    "# Get checkpoint name(s)\n",
    "AE_checkpoint_path  = AE_path + weights_dir\n",
    "AE_checkpoint_names = []\n",
    "for file in os.listdir(AE_checkpoint_path):\n",
    "    AE_checkpoint_names.append(os.path.join(AE_checkpoint_path, file))"
   ]
  },
  {
   "cell_type": "code",
   "execution_count": 18,
   "metadata": {},
   "outputs": [
    {
     "name": "stdout",
     "output_type": "stream",
     "text": [
      "------------------------------------------------------------\n",
      "\n",
      " Chkpt_0 : \n",
      " /media/hdd1/kai/particle_generator/experiments/larcv_ae/larcv_ae_64_20/weights/best_ae_ep_7000.tar \n",
      "\n",
      "------------------------------------------------------------\n",
      "\n",
      " Chkpt_1 : \n",
      " /media/hdd1/kai/particle_generator/experiments/larcv_ae/larcv_ae_64_20/weights/best_ae_ep_7499.tar \n",
      "\n",
      "------------------------------------------------------------\n",
      "\n",
      " Chkpt_2 : \n",
      " /media/hdd1/kai/particle_generator/experiments/larcv_ae/larcv_ae_64_20/weights/best_ae_ep_5250.tar \n",
      "\n",
      "------------------------------------------------------------\n"
     ]
    }
   ],
   "source": [
    "print(\"-\"*60)\n",
    "for i in range(len(AE_checkpoint_names)):\n",
    "    print(\"\\n Chkpt_{} :\".format(str(i)), '\\n', AE_checkpoint_names[i], '\\n')\n",
    "    print(\"-\"*60)"
   ]
  },
  {
   "cell_type": "code",
   "execution_count": 19,
   "metadata": {},
   "outputs": [
    {
     "ename": "FileNotFoundError",
     "evalue": "[Errno 2] No such file or directory: '/media/hdd1/kai/particle_generator/experiments/larcv_ae/larcv_ae_64_20/checkpoint_evaluation.txt'",
     "output_type": "error",
     "traceback": [
      "\u001b[0;31m---------------------------------------------------------------------------\u001b[0m",
      "\u001b[0;31mFileNotFoundError\u001b[0m                         Traceback (most recent call last)",
      "\u001b[0;32m<ipython-input-19-12232cbbb847>\u001b[0m in \u001b[0;36m<module>\u001b[0;34m\u001b[0m\n\u001b[1;32m      1\u001b[0m \u001b[0;31m# Open the checkpoint analysis file in the experiment folder\u001b[0m\u001b[0;34m\u001b[0m\u001b[0;34m\u001b[0m\u001b[0m\n\u001b[1;32m      2\u001b[0m \u001b[0mcheckpoint_evaluation\u001b[0m \u001b[0;34m=\u001b[0m \u001b[0mAE_path\u001b[0m \u001b[0;34m+\u001b[0m \u001b[0;34m\"checkpoint_evaluation.txt\"\u001b[0m\u001b[0;34m\u001b[0m\u001b[0m\n\u001b[0;32m----> 3\u001b[0;31m \u001b[0;32mwith\u001b[0m \u001b[0mopen\u001b[0m\u001b[0;34m(\u001b[0m\u001b[0mcheckpoint_evaluation\u001b[0m\u001b[0;34m,\u001b[0m \u001b[0;34m'r'\u001b[0m\u001b[0;34m)\u001b[0m \u001b[0;32mas\u001b[0m \u001b[0mf_obj\u001b[0m\u001b[0;34m:\u001b[0m\u001b[0;34m\u001b[0m\u001b[0m\n\u001b[0m\u001b[1;32m      4\u001b[0m     \u001b[0mprint\u001b[0m\u001b[0;34m(\u001b[0m\u001b[0mf_obj\u001b[0m\u001b[0;34m.\u001b[0m\u001b[0mreadlines\u001b[0m\u001b[0;34m(\u001b[0m\u001b[0;34m)\u001b[0m\u001b[0;34m)\u001b[0m\u001b[0;34m\u001b[0m\u001b[0m\n",
      "\u001b[0;31mFileNotFoundError\u001b[0m: [Errno 2] No such file or directory: '/media/hdd1/kai/particle_generator/experiments/larcv_ae/larcv_ae_64_20/checkpoint_evaluation.txt'"
     ]
    }
   ],
   "source": [
    "# Open the checkpoint analysis file in the experiment folder\n",
    "checkpoint_evaluation = AE_path + \"checkpoint_evaluation.txt\"\n",
    "with open(checkpoint_evaluation, 'r') as f_obj:\n",
    "    print(f_obj.readlines())"
   ]
  },
  {
   "cell_type": "code",
   "execution_count": 20,
   "metadata": {},
   "outputs": [],
   "source": [
    "# Select the desired checkpoint from the list\n",
    "AE_checkpoint = AE_checkpoint_names[0]"
   ]
  },
  {
   "cell_type": "code",
   "execution_count": 21,
   "metadata": {},
   "outputs": [],
   "source": [
    "# Load the model checkpoint\n",
    "# Keys: ['state_dict', 'epoch', 'optimizer']\n",
    "checkpoint = torch.load(AE_checkpoint)"
   ]
  },
  {
   "cell_type": "code",
   "execution_count": 22,
   "metadata": {},
   "outputs": [
    {
     "data": {
      "text/plain": [
       "IncompatibleKeys(missing_keys=[], unexpected_keys=[])"
      ]
     },
     "execution_count": 22,
     "metadata": {},
     "output_type": "execute_result"
    }
   ],
   "source": [
    "# Load the model's state dictionary\n",
    "# Note: The IncompatibleKeys(missing_keys=[], unexpected_keys=[]) message indicates that\n",
    "#       there were no problems in loading the state dictionary. Bit confusing...\n",
    "AE.load_state_dict(checkpoint['state_dict'])"
   ]
  },
  {
   "cell_type": "code",
   "execution_count": 23,
   "metadata": {},
   "outputs": [
    {
     "data": {
      "text/plain": [
       "AutoEncoder(\n",
       "  (encoder): Encoder(\n",
       "    (fc_blocks): Sequential(\n",
       "      (0): Sequential(\n",
       "        (0): Linear(in_features=4096, out_features=2048, bias=True)\n",
       "        (1): LeakyReLU(negative_slope=0.2)\n",
       "      )\n",
       "      (1): Sequential(\n",
       "        (0): Linear(in_features=2048, out_features=1024, bias=True)\n",
       "        (1): LeakyReLU(negative_slope=0.2)\n",
       "      )\n",
       "      (2): Sequential(\n",
       "        (0): Linear(in_features=1024, out_features=512, bias=True)\n",
       "        (1): LeakyReLU(negative_slope=0.2)\n",
       "      )\n",
       "      (3): Sequential(\n",
       "        (0): Linear(in_features=512, out_features=256, bias=True)\n",
       "        (1): LeakyReLU(negative_slope=0.2)\n",
       "      )\n",
       "    )\n",
       "    (last): Linear(in_features=256, out_features=20, bias=True)\n",
       "  )\n",
       "  (decoder): Decoder(\n",
       "    (fc_blocks): Sequential(\n",
       "      (0): Sequential(\n",
       "        (0): Linear(in_features=20, out_features=256, bias=True)\n",
       "        (1): LeakyReLU(negative_slope=0.2)\n",
       "      )\n",
       "      (1): Sequential(\n",
       "        (0): Linear(in_features=256, out_features=512, bias=True)\n",
       "        (1): LeakyReLU(negative_slope=0.2)\n",
       "      )\n",
       "      (2): Sequential(\n",
       "        (0): Linear(in_features=512, out_features=1024, bias=True)\n",
       "        (1): LeakyReLU(negative_slope=0.2)\n",
       "      )\n",
       "      (3): Sequential(\n",
       "        (0): Linear(in_features=1024, out_features=2048, bias=True)\n",
       "        (1): LeakyReLU(negative_slope=0.2)\n",
       "      )\n",
       "    )\n",
       "    (last): Sequential(\n",
       "      (0): Linear(in_features=2048, out_features=4096, bias=True)\n",
       "      (1): Tanh()\n",
       "    )\n",
       "  )\n",
       ")"
      ]
     },
     "execution_count": 23,
     "metadata": {},
     "output_type": "execute_result"
    }
   ],
   "source": [
    "# Put the model in evaluation mode\n",
    "AE.eval()"
   ]
  },
  {
   "cell_type": "markdown",
   "metadata": {},
   "source": [
    "## Load the G config .csv as a dict\n",
    "- Get the model architecture from the config_df"
   ]
  },
  {
   "cell_type": "code",
   "execution_count": 24,
   "metadata": {},
   "outputs": [],
   "source": [
    "config_csv = EWM_path + \"config.csv\"\n",
    "config_df = pd.read_csv(config_csv, delimiter = \",\")"
   ]
  },
  {
   "cell_type": "code",
   "execution_count": 25,
   "metadata": {},
   "outputs": [
    {
     "name": "stdout",
     "output_type": "stream",
     "text": [
      "4 Layer model with 512 hidden units per layer\n",
      "Mapping 100_dim_Gaussian to 20_dim code vectors\n"
     ]
    }
   ],
   "source": [
    "# Get the model architecture from config df\n",
    "n_layers = int(config_df[config_df['Unnamed: 0'].str.contains(\"n_layers\")==True]['0'].item())\n",
    "n_hidden = int(config_df[config_df['Unnamed: 0'].str.contains(\"n_hidden\")==True]['0'].item())\n",
    "l_dim    = int(config_df[config_df['Unnamed: 0'].str.contains(\"l_dim\")==True]['0'].item())\n",
    "im_size  = int(config_df[config_df['Unnamed: 0'].str.contains(\"dataset\")==True]['0'].item())\n",
    "z_dim    = int(config_df[config_df['Unnamed: 0'].str.contains(\"z_dim\")==True]['0'].item())\n",
    "print(\"{} Layer model with {} hidden units per layer\".format(n_layers, n_hidden))\n",
    "print(\"Mapping {}_dim_Gaussian to {}_dim code vectors\".format(z_dim, l_dim))"
   ]
  },
  {
   "cell_type": "markdown",
   "metadata": {},
   "source": [
    "## Set up the Generator model"
   ]
  },
  {
   "cell_type": "code",
   "execution_count": 26,
   "metadata": {},
   "outputs": [],
   "source": [
    "# Model kwargs\n",
    "fc_sizes = [n_hidden] * n_layers\n",
    "ewm_kwargs = { 'z_dim':z_dim, 'fc_sizes':fc_sizes, 'n_out':l_dim }"
   ]
  },
  {
   "cell_type": "code",
   "execution_count": 27,
   "metadata": {},
   "outputs": [],
   "source": [
    "# Create generator on GPU\n",
    "G = ewm_G(**ewm_kwargs).to(device)\n",
    "G.weights_init()"
   ]
  },
  {
   "cell_type": "markdown",
   "metadata": {},
   "source": [
    "## Load EWM model checkpoint"
   ]
  },
  {
   "cell_type": "code",
   "execution_count": 28,
   "metadata": {},
   "outputs": [],
   "source": [
    "# Get checkpoint name(s)\n",
    "EWM_checkpoint_path  = EWM_path + weights_dir\n",
    "EWM_checkpoint_names = []\n",
    "for file in os.listdir(EWM_checkpoint_path):\n",
    "    EWM_checkpoint_names.append(os.path.join(EWM_checkpoint_path, file))"
   ]
  },
  {
   "cell_type": "code",
   "execution_count": 29,
   "metadata": {},
   "outputs": [
    {
     "name": "stdout",
     "output_type": "stream",
     "text": [
      "------------------------------------------------------------\n",
      "\n",
      " 0 : /media/hdd1/kai/particle_generator/experiments/ewm_models/ewm_test_model/weights/best_ewm_ep_99.tar \n",
      "\n",
      "------------------------------------------------------------\n",
      "\n",
      " 1 : /media/hdd1/kai/particle_generator/experiments/ewm_models/ewm_test_model/weights/best_ewm_ep_0.tar \n",
      "\n",
      "------------------------------------------------------------\n",
      "\n",
      " 2 : /media/hdd1/kai/particle_generator/experiments/ewm_models/ewm_test_model/weights/best_ewm_ep_1.tar \n",
      "\n",
      "------------------------------------------------------------\n"
     ]
    }
   ],
   "source": [
    "print(\"-\"*60)\n",
    "for i in range(len(EWM_checkpoint_names)):\n",
    "    print(\"\\n {} :\".format(str(i)), EWM_checkpoint_names[i], '\\n')\n",
    "    print(\"-\"*60)"
   ]
  },
  {
   "cell_type": "code",
   "execution_count": 30,
   "metadata": {},
   "outputs": [],
   "source": [
    "# Select the checkpoint you want\n",
    "EWM_checkpoint = EWM_checkpoint_names[0]"
   ]
  },
  {
   "cell_type": "code",
   "execution_count": 31,
   "metadata": {},
   "outputs": [],
   "source": [
    "# Load the model checkpoint\n",
    "# Keys: ['state_dict', 'epoch', 'optimizer']\n",
    "checkpoint = torch.load(EWM_checkpoint)"
   ]
  },
  {
   "cell_type": "code",
   "execution_count": 32,
   "metadata": {},
   "outputs": [
    {
     "data": {
      "text/plain": [
       "IncompatibleKeys(missing_keys=[], unexpected_keys=[])"
      ]
     },
     "execution_count": 32,
     "metadata": {},
     "output_type": "execute_result"
    }
   ],
   "source": [
    "# Load the model's state dictionary\n",
    "# Note: The IncompatibleKeys(missing_keys=[], unexpected_keys=[]) message indicates that\n",
    "#       there were no problems in loading the state dictionary. Bit confusing...\n",
    "G.load_state_dict(checkpoint['state_dict'])"
   ]
  },
  {
   "cell_type": "code",
   "execution_count": 33,
   "metadata": {},
   "outputs": [
    {
     "data": {
      "text/plain": [
       "ewm_G(\n",
       "  (fc): Sequential(\n",
       "    (0): Sequential(\n",
       "      (0): Linear(in_features=100, out_features=512, bias=True)\n",
       "      (1): LeakyReLU(negative_slope=0.2)\n",
       "    )\n",
       "    (1): Sequential(\n",
       "      (0): Linear(in_features=512, out_features=512, bias=True)\n",
       "      (1): LeakyReLU(negative_slope=0.2)\n",
       "    )\n",
       "    (2): Sequential(\n",
       "      (0): Linear(in_features=512, out_features=512, bias=True)\n",
       "      (1): LeakyReLU(negative_slope=0.2)\n",
       "    )\n",
       "    (3): Sequential(\n",
       "      (0): Linear(in_features=512, out_features=512, bias=True)\n",
       "      (1): LeakyReLU(negative_slope=0.2)\n",
       "    )\n",
       "  )\n",
       "  (out): Sequential(\n",
       "    (0): Linear(in_features=512, out_features=20, bias=True)\n",
       "  )\n",
       ")"
      ]
     },
     "execution_count": 33,
     "metadata": {},
     "output_type": "execute_result"
    }
   ],
   "source": [
    "# Put the model in evaluation mode\n",
    "G.eval()"
   ]
  },
  {
   "cell_type": "markdown",
   "metadata": {},
   "source": [
    "## Check that the l_dim of the AE is the same as the out_dim of the Generator"
   ]
  },
  {
   "cell_type": "code",
   "execution_count": 34,
   "metadata": {},
   "outputs": [],
   "source": [
    "ae_l_dim = AE.encoder.last.out_features\n",
    "g_out_dim = G.out[0].out_features"
   ]
  },
  {
   "cell_type": "code",
   "execution_count": 35,
   "metadata": {},
   "outputs": [
    {
     "name": "stdout",
     "output_type": "stream",
     "text": [
      "Code vector sizes match\n"
     ]
    }
   ],
   "source": [
    "if ae_l_dim != g_out_dim:\n",
    "    print(\"Code vector sizes do not match!\")\n",
    "    print(\"AE: {} | G: {}\".format(ae_l_dim, g_out_dim))\n",
    "else:\n",
    "    print(\"Code vector sizes match\")"
   ]
  },
  {
   "cell_type": "markdown",
   "metadata": {},
   "source": [
    "## Deploy the Decoder using G as an input"
   ]
  },
  {
   "cell_type": "code",
   "execution_count": 45,
   "metadata": {},
   "outputs": [],
   "source": [
    "samples = []; limit = 24"
   ]
  },
  {
   "cell_type": "code",
   "execution_count": 46,
   "metadata": {},
   "outputs": [],
   "source": [
    "for itr in range(limit):\n",
    "    # Create an input vector for G\n",
    "    z_rand = torch.randn(1, z_dim).to(device)\n",
    "    \n",
    "    # Get a code vector from G\n",
    "    code_vec = G(z_rand)\n",
    "    \n",
    "    # Move code_vector onto GPU\n",
    "    code_vec = code_vec.to(device)\n",
    "    \n",
    "    # Push code_vec through Decoder\n",
    "    sample = AE.decoder(code_vec)\n",
    "    \n",
    "    # Reshape the sample, detach, and convert to numpy array\n",
    "    samples.append(sample.view(im_dim, im_dim).detach().cpu().numpy())\n",
    "    \n",
    "    if itr +1 == limit:\n",
    "        break"
   ]
  },
  {
   "cell_type": "code",
   "execution_count": 47,
   "metadata": {},
   "outputs": [
    {
     "name": "stdout",
     "output_type": "stream",
     "text": [
      "(64, 64) <class 'numpy.ndarray'>\n"
     ]
    }
   ],
   "source": [
    "print(samples[0].shape, type(samples[0]))"
   ]
  },
  {
   "cell_type": "markdown",
   "metadata": {},
   "source": [
    "## Viz the deploy samples"
   ]
  },
  {
   "cell_type": "code",
   "execution_count": 50,
   "metadata": {},
   "outputs": [
    {
     "name": "stdout",
     "output_type": "stream",
     "text": [
      "0 0 23\n",
      "0 1 22\n",
      "0 2 21\n",
      "0 3 20\n",
      "0 4 19\n",
      "0 5 18\n",
      "0 6 17\n",
      "0 7 16\n",
      "1 0 15\n",
      "1 1 14\n",
      "1 2 13\n",
      "1 3 12\n",
      "1 4 11\n",
      "1 5 10\n",
      "1 6 9\n",
      "1 7 8\n",
      "2 0 7\n",
      "2 1 6\n",
      "2 2 5\n",
      "2 3 4\n",
      "2 4 3\n",
      "2 5 2\n",
      "2 6 1\n",
      "2 7 0\n"
     ]
    }
   ],
   "source": [
    "n_row = 3; n_col = limit // n_row\n",
    "\n",
    "fig, axes = plt.subplots(n_row, n_col)\n",
    "supTitle = \"{} model deploy samples using {}x{} dataset \\n and {}_dim code vectors\".format('Decoder', im_dim, im_dim, l_dim)\n",
    "fig.suptitle(supTitle, color=\"white\")\n",
    "\n",
    "img = None; test_num = limit; sample_num = limit - 1\n",
    "for i in range(0, n_row):\n",
    "    for j in range(0, n_col):\n",
    "        img = axes[i,j].imshow( samples[sample_num] )\n",
    "        axes[i,j].spines['bottom'].set_color('white')\n",
    "        axes[i,j].spines['top'].set_color('white')\n",
    "        axes[i,j].spines['left'].set_color('white')\n",
    "        axes[i,j].spines['right'].set_color('white')\n",
    "        axes[i,j].xaxis.label.set_color('white')\n",
    "        axes[i,j].yaxis.label.set_color('white')\n",
    "        axes[i,j].get_xaxis().set_visible(False)\n",
    "        axes[i,j].get_yaxis().set_visible(False)\n",
    "        axes[i,j].tick_params(axis='x', colors='#443941')\n",
    "        axes[i,j].tick_params(axis='y', colors='#443941')\n",
    "        sample_num -= 1\n",
    "\n",
    "# Colorbar\n",
    "# cbar_axes = fig.add_axes([0.9, 0.1, 0.03, 0.8])\n",
    "# cbar = plt.colorbar(img, cax=cbar_axes)\n",
    "# cbar.ax.yaxis.set_tick_params(color=\"white\")\n",
    "# cbar.outline.set_edgecolor(color=\"white\")\n",
    "# plt.setp(plt.getp(cbar.ax.axes, 'yticklabels'), color=\"white\")\n",
    "\n",
    "plt.savefig(\"{}_model_deploy_samples_{}_dataset_{}_code_vectors.png\".format('Decoder', im_dim, l_dim), dpi=300, facecolor='#443941')"
   ]
  },
  {
   "cell_type": "code",
   "execution_count": null,
   "metadata": {},
   "outputs": [],
   "source": []
  }
 ],
 "metadata": {
  "kernelspec": {
   "display_name": "Python 3",
   "language": "python",
   "name": "python3"
  },
  "language_info": {
   "codemirror_mode": {
    "name": "ipython",
    "version": 3
   },
   "file_extension": ".py",
   "mimetype": "text/x-python",
   "name": "python",
   "nbconvert_exporter": "python",
   "pygments_lexer": "ipython3",
   "version": "3.5.2"
  }
 },
 "nbformat": 4,
 "nbformat_minor": 2
}
