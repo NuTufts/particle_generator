{
 "cells": [
  {
   "cell_type": "markdown",
   "metadata": {},
   "source": [
    "This notebook loads a trained model and deploys it using the appropriate test dataset"
   ]
  },
  {
   "cell_type": "code",
   "execution_count": 1,
   "metadata": {},
   "outputs": [],
   "source": [
    "import os\n",
    "import torch\n",
    "import numpy as np\n",
    "import cv2 as cv\n",
    "import pandas as pd\n",
    "from torchvision import transforms\n",
    "from torch.utils.data import DataLoader\n",
    "import matplotlib.pyplot as plt\n",
    "%matplotlib inline"
   ]
  },
  {
   "cell_type": "code",
   "execution_count": 2,
   "metadata": {},
   "outputs": [],
   "source": [
    "import sys\n",
    "sys.path.insert(1, '/home/kseuro/Kai/deeplearnphysics/pytorch/particle_generator/')\n",
    "\n",
    "# My stuff\n",
    "import ae\n",
    "import utils\n",
    "from dataloader import LArCV_loader"
   ]
  },
  {
   "cell_type": "code",
   "execution_count": 3,
   "metadata": {},
   "outputs": [],
   "source": [
    "# Set the root path of the particle generator experiments folder\n",
    "exp_root = \"/media/hdd1/kai/particle_generator/experiments/\""
   ]
  },
  {
   "cell_type": "code",
   "execution_count": 4,
   "metadata": {},
   "outputs": [],
   "source": [
    "# Set the dir of the particular experiment to be deployed\n",
    "exp_dir = \"01-05-2020_12-32-49_ae_7500_epochs_LArCV_64_dataset/\""
   ]
  },
  {
   "cell_type": "code",
   "execution_count": 5,
   "metadata": {},
   "outputs": [
    {
     "name": "stdout",
     "output_type": "stream",
     "text": [
      "Experiment path set as: \n",
      "/media/hdd1/kai/particle_generator/experiments/01-05-2020_12-32-49_ae_7500_epochs_LArCV_64_dataset/\n"
     ]
    }
   ],
   "source": [
    "# Create the full path to the experiment\n",
    "exp_path = os.path.join(exp_root, exp_dir)\n",
    "print(\"Experiment path set as: \\n{}\".format(exp_path))"
   ]
  },
  {
   "cell_type": "code",
   "execution_count": 6,
   "metadata": {},
   "outputs": [],
   "source": [
    "# Path to model weights\n",
    "weights_dir = \"weights/\""
   ]
  },
  {
   "cell_type": "code",
   "execution_count": 7,
   "metadata": {},
   "outputs": [],
   "source": [
    "# Path to the test data\n",
    "test_data = \"/media/hdd1/kai/particle_generator/larcv_data/test/larcv_png_64/\""
   ]
  },
  {
   "cell_type": "code",
   "execution_count": 8,
   "metadata": {},
   "outputs": [
    {
     "name": "stdout",
     "output_type": "stream",
     "text": [
      "Image conversion flag is: L\n",
      "Images will be loaded from subfolder of: /media/hdd1/kai/particle_generator/larcv_data/test/larcv_png_64/\n"
     ]
    }
   ],
   "source": [
    "# Set up the torch dataloader\n",
    "loader_kwargs = {'num_workers' : 2, 'batch_size': 1, 'shuffle': True}\n",
    "test_transforms = transforms.Compose([transforms.ToTensor(), transforms.Normalize([0.5],[0.5])])\n",
    "test_dataset    = LArCV_loader(root = test_data, transforms = test_transforms)"
   ]
  },
  {
   "cell_type": "code",
   "execution_count": 9,
   "metadata": {},
   "outputs": [],
   "source": [
    "dataloader = DataLoader(test_dataset, **loader_kwargs)"
   ]
  },
  {
   "cell_type": "code",
   "execution_count": 10,
   "metadata": {},
   "outputs": [],
   "source": [
    "# Set the GPU (GPU 1 is the best option)\n",
    "device = torch.device(2)"
   ]
  },
  {
   "cell_type": "code",
   "execution_count": 11,
   "metadata": {},
   "outputs": [],
   "source": [
    "# Load the config csv as a dict\n",
    "config_csv = exp_path + \"config.csv\"\n",
    "config_df = pd.read_csv(config_csv, delimiter = \",\")"
   ]
  },
  {
   "cell_type": "code",
   "execution_count": 12,
   "metadata": {},
   "outputs": [
    {
     "name": "stdout",
     "output_type": "stream",
     "text": [
      "        Unnamed: 0                                                  0\n",
      "0         n_layers                                                  4\n",
      "1        exp_label  01-05-2020_12-32-49_ae_7500_epochs_LArCV_64_da...\n",
      "2            z_dim                                                100\n",
      "3          shuffle                                               True\n",
      "4                p                                                0.9\n",
      "5       num_epochs                                               7500\n",
      "6        data_root  /media/hdd1/kai/particle_generator/larcv_data/...\n",
      "7          dataset                                                 64\n",
      "8         save_dir  /media/hdd1/kai/particle_generator/experiments...\n",
      "9        save_root    /media/hdd1/kai/particle_generator/experiments/\n",
      "10    weights_save  /media/hdd1/kai/particle_generator/experiments...\n",
      "11          ae_opt                                               adam\n",
      "12           l_dim                                                 20\n",
      "13           g_opt                                               adam\n",
      "14           d_opt                                               adam\n",
      "15      batch_size                                                128\n",
      "16           model                                                 ae\n",
      "17       drop_last                                               True\n",
      "18             gpu                                                  1\n",
      "19  random_samples  /media/hdd1/kai/particle_generator/experiments...\n",
      "20        n_hidden                                                512\n",
      "21     sample_size                                                 16\n",
      "22       multi_gpu                                              False\n",
      "23   fixed_samples  /media/hdd1/kai/particle_generator/experiments...\n",
      "24     num_workers                                                  8\n",
      "25            g_lr                                             0.0001\n",
      "26            d_lr                                             0.0001\n",
      "27           MNIST                                              False\n",
      "28           ae_lr                                             0.0001\n",
      "29            beta                                                0.5\n",
      "30      checkpoint                                                NaN\n"
     ]
    }
   ],
   "source": [
    "print(config_df)"
   ]
  },
  {
   "cell_type": "code",
   "execution_count": 13,
   "metadata": {},
   "outputs": [],
   "source": [
    "# Get the model architecture from config df\n",
    "n_layers = int(config_df[config_df['Unnamed: 0'].str.contains(\"n_layers\")==True]['0'].item())\n",
    "l_dim    = int(config_df[config_df['Unnamed: 0'].str.contains(\"l_dim\")==True]['0'].item())\n",
    "im_size  = int(config_df[config_df['Unnamed: 0'].str.contains(\"dataset\")==True]['0'].item())**2\n",
    "im_dim   = int(np.sqrt(im_size))"
   ]
  },
  {
   "cell_type": "code",
   "execution_count": 14,
   "metadata": {},
   "outputs": [],
   "source": [
    "# Set up AE layer sizes\n",
    "base = [256] \n",
    "\n",
    "# Compute encoder sizes\n",
    "sizes = lambda: [ (yield 2**i) for i in range(n_layers) ]\n",
    "enc_sizes = base * n_layers\n",
    "enc_sizes = [a*b for a,b in zip(enc_sizes, [*sizes()])][::-1]\n",
    "\n",
    "# Update kwarg dicts\n",
    "# Decoder is the reverse of the encoder\n",
    "ae_kwargs = {'enc_sizes' : enc_sizes, 'l_dim' : l_dim, 'im_size' : im_size, 'dec_sizes' : enc_sizes[::-1]}"
   ]
  },
  {
   "cell_type": "code",
   "execution_count": 15,
   "metadata": {},
   "outputs": [],
   "source": [
    "# Get checkpoint name(s)\n",
    "checkpoint_path  = exp_path + weights_dir\n",
    "checkpoint_names = []\n",
    "for file in os.listdir(checkpoint_path):\n",
    "    checkpoint_names.append(os.path.join(checkpoint_path, file))"
   ]
  },
  {
   "cell_type": "code",
   "execution_count": 18,
   "metadata": {},
   "outputs": [
    {
     "name": "stdout",
     "output_type": "stream",
     "text": [
      "------------------------------------------------------------\n",
      "\n",
      " 0 : /media/hdd1/kai/particle_generator/experiments/01-05-2020_12-32-49_ae_7500_epochs_LArCV_64_dataset/weights/best_ae_ep_5250.tar \n",
      "\n",
      "------------------------------------------------------------\n",
      "\n",
      " 1 : /media/hdd1/kai/particle_generator/experiments/01-05-2020_12-32-49_ae_7500_epochs_LArCV_64_dataset/weights/best_ae_ep_6500.tar \n",
      "\n",
      "------------------------------------------------------------\n"
     ]
    }
   ],
   "source": [
    "print(\"-\"*60)\n",
    "for i in range(len(checkpoint_names)):\n",
    "    print(\"\\n {} :\".format(str(i)), checkpoint_names[i], '\\n')\n",
    "    print(\"-\"*60)"
   ]
  },
  {
   "cell_type": "code",
   "execution_count": 19,
   "metadata": {},
   "outputs": [],
   "source": [
    "best_checkpoint = checkpoint_names[0]"
   ]
  },
  {
   "cell_type": "code",
   "execution_count": 20,
   "metadata": {},
   "outputs": [],
   "source": [
    "# Load the model checkpoint\n",
    "# Keys: ['state_dict', 'epoch', 'optimizer']\n",
    "checkpoint = torch.load(best_checkpoint)"
   ]
  },
  {
   "cell_type": "code",
   "execution_count": 21,
   "metadata": {},
   "outputs": [],
   "source": [
    "# Load the model on GPU\n",
    "model = ae.AutoEncoder(**ae_kwargs).to(device)"
   ]
  },
  {
   "cell_type": "code",
   "execution_count": 22,
   "metadata": {},
   "outputs": [
    {
     "data": {
      "text/plain": [
       "IncompatibleKeys(missing_keys=[], unexpected_keys=[])"
      ]
     },
     "execution_count": 22,
     "metadata": {},
     "output_type": "execute_result"
    }
   ],
   "source": [
    "# Load the model's state dictionary\n",
    "# Note: The IncompatibleKeys(missing_keys=[], unexpected_keys=[]) message indicates that\n",
    "#       there were no problems in loading the state dictionary. Bit confusing...\n",
    "model.load_state_dict(checkpoint['state_dict'])"
   ]
  },
  {
   "cell_type": "code",
   "execution_count": 23,
   "metadata": {},
   "outputs": [
    {
     "data": {
      "text/plain": [
       "AutoEncoder(\n",
       "  (encoder): Encoder(\n",
       "    (fc_blocks): Sequential(\n",
       "      (0): Sequential(\n",
       "        (0): Linear(in_features=4096, out_features=2048, bias=True)\n",
       "        (1): ReLU(inplace)\n",
       "      )\n",
       "      (1): Sequential(\n",
       "        (0): Linear(in_features=2048, out_features=1024, bias=True)\n",
       "        (1): ReLU(inplace)\n",
       "      )\n",
       "      (2): Sequential(\n",
       "        (0): Linear(in_features=1024, out_features=512, bias=True)\n",
       "        (1): ReLU(inplace)\n",
       "      )\n",
       "      (3): Sequential(\n",
       "        (0): Linear(in_features=512, out_features=256, bias=True)\n",
       "        (1): ReLU(inplace)\n",
       "      )\n",
       "    )\n",
       "    (last): Linear(in_features=256, out_features=20, bias=True)\n",
       "  )\n",
       "  (decoder): Decoder(\n",
       "    (fc_blocks): Sequential(\n",
       "      (0): Sequential(\n",
       "        (0): Linear(in_features=20, out_features=256, bias=True)\n",
       "        (1): LeakyReLU(negative_slope=0.2)\n",
       "      )\n",
       "      (1): Sequential(\n",
       "        (0): Linear(in_features=256, out_features=512, bias=True)\n",
       "        (1): LeakyReLU(negative_slope=0.2)\n",
       "      )\n",
       "      (2): Sequential(\n",
       "        (0): Linear(in_features=512, out_features=1024, bias=True)\n",
       "        (1): LeakyReLU(negative_slope=0.2)\n",
       "      )\n",
       "      (3): Sequential(\n",
       "        (0): Linear(in_features=1024, out_features=2048, bias=True)\n",
       "        (1): LeakyReLU(negative_slope=0.2)\n",
       "      )\n",
       "    )\n",
       "    (last): Sequential(\n",
       "      (0): Linear(in_features=2048, out_features=4096, bias=True)\n",
       "      (1): Tanh()\n",
       "    )\n",
       "  )\n",
       ")"
      ]
     },
     "execution_count": 23,
     "metadata": {},
     "output_type": "execute_result"
    }
   ],
   "source": [
    "# Put the model in evaluation mode\n",
    "model.eval()"
   ]
  },
  {
   "cell_type": "code",
   "execution_count": 24,
   "metadata": {},
   "outputs": [],
   "source": [
    "test_ims = []; samples = []; limit = 9\n",
    "\n",
    "for idx, image in enumerate(dataloader):\n",
    "    # Flatten image into a vector\n",
    "    image = image.view(1, -1).to(device)\n",
    "    \n",
    "    # Get sample from model\n",
    "    sample = model(image)\n",
    "        \n",
    "    # Undo image normalization\n",
    "#     image = (image * 0.5) + 0.5\n",
    "#     sample = (sample * 0.5) + 0.5\n",
    "    \n",
    "    # Remove the gradient requirement, move to cpu memory, and conver to numpy\n",
    "    image = image.view(-1, im_dim, im_dim).detach().cpu().numpy()\n",
    "    sample = sample.view(-1, im_dim, im_dim).detach().cpu().numpy()\n",
    "    \n",
    "    # Concatenate the two images along the channel dimension and append to list\n",
    "    test_ims.append(image)\n",
    "    samples.append(sample)\n",
    "    \n",
    "    if idx == limit:\n",
    "        break"
   ]
  },
  {
   "cell_type": "code",
   "execution_count": 28,
   "metadata": {},
   "outputs": [
    {
     "name": "stdout",
     "output_type": "stream",
     "text": [
      "------------------------------------------------------------\n",
      "Test ims:  10\n",
      "Test image dims:  (64, 64)\n",
      "------------------------------------------------------------\n",
      "Samples:  10\n",
      "Sample dims:  (64, 64)\n",
      "------------------------------------------------------------\n"
     ]
    }
   ],
   "source": [
    "# Check samples list\n",
    "print(\"-\"*60)\n",
    "print(\"Test ims: \", len(test_ims))\n",
    "print(\"Test image dims: \", test_ims[0][0].shape)\n",
    "print(\"-\"*60)\n",
    "print(\"Samples: \", len(samples)) \n",
    "print(\"Sample dims: \", samples[0][0].shape)\n",
    "print(\"-\"*60)"
   ]
  },
  {
   "cell_type": "markdown",
   "metadata": {},
   "source": [
    "### Visualize the deploy samples"
   ]
  },
  {
   "cell_type": "code",
   "execution_count": 29,
   "metadata": {},
   "outputs": [
    {
     "data": {
      "image/png": "[encoded data removed]",
      "text/plain": [
       "<Figure size 432x288 with 20 Axes>"
      ]
     },
     "metadata": {
      "needs_background": "light"
     },
     "output_type": "display_data"
    }
   ],
   "source": [
    "n_row = 2; n_col = limit + 1\n",
    "\n",
    "fig, axes = plt.subplots(n_row, n_col)\n",
    "supTitle = \"{} Model deploy samples using {}x{} dataset\".format('AE', im_dim, im_dim)\n",
    "fig.suptitle(supTitle, color=\"white\")\n",
    "\n",
    "img = None; test_num = limit; sample_num = limit\n",
    "for i in range(0, n_row):\n",
    "    for j in range(0, n_col):\n",
    "        if i == 0:\n",
    "            img = axes[i,j].imshow( test_ims[test_num][0] )\n",
    "            test_num -= 1\n",
    "        else:\n",
    "            img = axes[i,j].imshow( samples[sample_num][0] )\n",
    "            sample_num -= 1\n",
    "        axes[i,j].spines['bottom'].set_color('white')\n",
    "        axes[i,j].spines['top'].set_color('white')\n",
    "        axes[i,j].spines['left'].set_color('white')\n",
    "        axes[i,j].spines['right'].set_color('white')\n",
    "        axes[i,j].xaxis.label.set_color('white')\n",
    "        axes[i,j].yaxis.label.set_color('white')\n",
    "        axes[i,j].get_xaxis().set_visible(False)\n",
    "        axes[i,j].get_yaxis().set_visible(False)\n",
    "        axes[i,j].tick_params(axis='x', colors='#443941')\n",
    "        axes[i,j].tick_params(axis='y', colors='#443941')\n",
    "\n",
    "# Colorbar\n",
    "# cbar_axes = fig.add_axes([0.9, 0.1, 0.03, 0.8])\n",
    "# cbar = plt.colorbar(img, cax=cbar_axes)\n",
    "# cbar.ax.yaxis.set_tick_params(color=\"white\")\n",
    "# cbar.outline.set_edgecolor(color=\"white\")\n",
    "# plt.setp(plt.getp(cbar.ax.axes, 'yticklabels'), color=\"white\")\n",
    "\n",
    "plt.savefig(\"{}_model_deploy_samples_{}_dataset.png\".format('AE', im_dim), dpi=300, facecolor='#443941')"
   ]
  },
  {
   "cell_type": "code",
   "execution_count": null,
   "metadata": {},
   "outputs": [],
   "source": []
  }
 ],
 "metadata": {
  "kernelspec": {
   "display_name": "Python 3",
   "language": "python",
   "name": "python3"
  },
  "language_info": {
   "codemirror_mode": {
    "name": "ipython",
    "version": 3
   },
   "file_extension": ".py",
   "mimetype": "text/x-python",
   "name": "python",
   "nbconvert_exporter": "python",
   "pygments_lexer": "ipython3",
   "version": "3.5.2"
  }
 },
 "nbformat": 4,
 "nbformat_minor": 2
}
