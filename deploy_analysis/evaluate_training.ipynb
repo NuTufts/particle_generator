{
 "cells": [
  {
   "cell_type": "markdown",
   "metadata": {},
   "source": [
    "This notebook is meant to analyze the .csv files produced at the end of training\n",
    "by producing a series of plots."
   ]
  },
  {
   "cell_type": "code",
   "execution_count": 1,
   "metadata": {},
   "outputs": [],
   "source": [
    "# Imports\n",
    "import os\n",
    "import re\n",
    "import csv\n",
    "import imageio\n",
    "import numpy as np\n",
    "import pandas as pd\n",
    "import matplotlib.pyplot as plt\n",
    "%matplotlib inline"
   ]
  },
  {
   "cell_type": "code",
   "execution_count": 2,
   "metadata": {},
   "outputs": [],
   "source": [
    "# Set the root path of the particle generator experiments folder\n",
    "exp_root = \"/media/hdd1/kai/particle_generator/experiments/\""
   ]
  },
  {
   "cell_type": "code",
   "execution_count": 3,
   "metadata": {},
   "outputs": [],
   "source": [
    "# Set the dir of the particular experiment to be analyzed\n",
    "exp_dir = \"12-19-2019_15-05-16_ae_7500_epochs_LArCV_128_dataset/\""
   ]
  },
  {
   "cell_type": "code",
   "execution_count": 33,
   "metadata": {},
   "outputs": [
    {
     "name": "stdout",
     "output_type": "stream",
     "text": [
      "Experiment path set as: \n",
      "/media/hdd1/kai/particle_generator/experiments/12-19-2019_15-05-16_ae_7500_epochs_LArCV_128_dataset/\n"
     ]
    }
   ],
   "source": [
    "# Create the full path to the experiment\n",
    "exp_path = os.path.join(exp_root, exp_dir)\n",
    "print(\"Experiment path set as: \\n{}\".format(exp_path))"
   ]
  },
  {
   "cell_type": "code",
   "execution_count": 5,
   "metadata": {},
   "outputs": [],
   "source": [
    "# Set the names of the folders contained inside the individual experiment folders\n",
    "weights_dir = \"weights/\"\n",
    "rand_ims = \"training_samples/random_samples/\"\n",
    "fixed_ims = \"training_sampels/fixed_samples\""
   ]
  },
  {
   "cell_type": "code",
   "execution_count": 14,
   "metadata": {},
   "outputs": [],
   "source": [
    "# Get the config csv\n",
    "config_csv = exp_path + \"config.csv\"\n",
    "config_df = pd.read_csv(config_csv, delimiter = \",\")"
   ]
  },
  {
   "cell_type": "code",
   "execution_count": 28,
   "metadata": {},
   "outputs": [],
   "source": [
    "# Get the name of the model in the config file\n",
    "model = config_df[config_df['Unnamed: 0'].str.contains(\"model\")==True]['0'].item()\n",
    "model = str.upper(model)"
   ]
  },
  {
   "cell_type": "code",
   "execution_count": 22,
   "metadata": {},
   "outputs": [],
   "source": [
    "# Get the name of the dataset used to train the model\n",
    "dataset = int(config_df[config_df['Unnamed: 0'].str.contains(\"dataset\")==True]['0'].item())"
   ]
  },
  {
   "cell_type": "code",
   "execution_count": 9,
   "metadata": {},
   "outputs": [],
   "source": [
    "# Get the losses \n",
    "losses_csv = exp_path + \"losses.csv\"\n",
    "losses_df = pd.read_csv(losses_csv, delimiter = \",\")\n",
    "losses = np.asarray(losses_df['ae_loss'])"
   ]
  },
  {
   "cell_type": "code",
   "execution_count": 10,
   "metadata": {},
   "outputs": [],
   "source": [
    "# Get the training times\n",
    "times_csv = exp_path + \"times.csv\"\n",
    "times_df = pd.read_csv(times_csv, delimiter = \",\")"
   ]
  },
  {
   "cell_type": "code",
   "execution_count": 19,
   "metadata": {},
   "outputs": [],
   "source": [
    "# Get the number of training epochs\n",
    "num_epochs = int(config_df[config_df['Unnamed: 0'].str.contains(\"epochs\")==True]['0'].item())"
   ]
  },
  {
   "cell_type": "code",
   "execution_count": 13,
   "metadata": {},
   "outputs": [],
   "source": [
    "# Compute average loss per epoch based based on loss array len\n",
    "step = int(len(losses) / num_epochs)\n",
    "new_losses = []\n",
    "for i in range(0, len(losses), step):\n",
    "    new_losses.append( sum(losses[i:i+step]) / step )\n",
    "new_losses = np.asarray(new_losses)"
   ]
  },
  {
   "cell_type": "code",
   "execution_count": 31,
   "metadata": {},
   "outputs": [
    {
     "data": {
      "image/png": "[encoded data removed]",
      "text/plain": [
       "<Figure size 432x288 with 1 Axes>"
      ]
     },
     "metadata": {
      "needs_background": "dark"
     },
     "output_type": "display_data"
    }
   ],
   "source": [
    "# Plot the losses against the number of epochs\n",
    "fig, axes = plt.subplots(1,1)\n",
    "fig.suptitle(\"Loss Values\", color = \"white\")\n",
    "\n",
    "label = \"{} Model Trained for {} Epochs on {} Dataset\".format(model, num_epochs, dataset)\n",
    "axes.set_title(label, color=\"white\", fontsize=\"small\")\n",
    "axes.set_xlabel(\"Epoch Number\")\n",
    "axes.set_ylabel(\"Loss Value\")\n",
    "axes.set_facecolor(\"#443941\")\n",
    "\n",
    "# Stylize\n",
    "axes.spines['bottom'].set_color('white')\n",
    "axes.spines['top'].set_color('white')\n",
    "axes.spines['left'].set_color('white')\n",
    "axes.spines['right'].set_color('white')\n",
    "axes.xaxis.label.set_color('white')\n",
    "axes.yaxis.label.set_color('white')\n",
    "axes.tick_params(axis='x', colors='white')\n",
    "axes.tick_params(axis='y', colors='white')\n",
    "\n",
    "# Plot data\n",
    "axes.plot(np.arange(0, num_epochs), new_losses)\n",
    "\n",
    "# Generate and save image\n",
    "save_file = \"loss_values_{}_model_{}_epochs_{}_dataset.png\".format(model, num_epochs, dataset)\n",
    "plt.savefig(save_file, dpi=300, facecolor='#443941')"
   ]
  },
  {
   "cell_type": "code",
   "execution_count": 32,
   "metadata": {},
   "outputs": [
    {
     "data": {
      "text/plain": [
       "<Figure size 432x288 with 0 Axes>"
      ]
     },
     "metadata": {},
     "output_type": "display_data"
    }
   ],
   "source": [
    "# Save an additional image to the experiment folder\n",
    "plt.savefig(exp_path + save_file, dpi=300, facecolor='#443941')"
   ]
  },
  {
   "cell_type": "code",
   "execution_count": null,
   "metadata": {},
   "outputs": [],
   "source": []
  }
 ],
 "metadata": {
  "kernelspec": {
   "display_name": "Python 3",
   "language": "python",
   "name": "python3"
  },
  "language_info": {
   "codemirror_mode": {
    "name": "ipython",
    "version": 3
   },
   "file_extension": ".py",
   "mimetype": "text/x-python",
   "name": "python",
   "nbconvert_exporter": "python",
   "pygments_lexer": "ipython3",
   "version": "3.5.2"
  }
 },
 "nbformat": 4,
 "nbformat_minor": 2
}
