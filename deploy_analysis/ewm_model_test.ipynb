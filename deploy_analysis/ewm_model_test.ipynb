{
 "cells": [
  {
   "cell_type": "code",
   "execution_count": 1,
   "metadata": {},
   "outputs": [],
   "source": [
    "import os\n",
    "import torch\n",
    "import numpy as np\n",
    "import pandas as pd\n",
    "import torchvision\n",
    "from torchvision import transforms\n",
    "from torch.utils.data import DataLoader\n",
    "import matplotlib.pyplot as plt\n",
    "%matplotlib inline"
   ]
  },
  {
   "cell_type": "code",
   "execution_count": 2,
   "metadata": {},
   "outputs": [],
   "source": [
    "import sys\n",
    "sys.path.insert(1, '/home/kseuro/Kai/deeplearnphysics/pytorch/particle_generator/')\n",
    "\n",
    "# My stuff\n",
    "import ae\n",
    "import utils\n",
    "from dataloader import BottleLoader"
   ]
  },
  {
   "cell_type": "code",
   "execution_count": 3,
   "metadata": {},
   "outputs": [],
   "source": [
    "# Set the root path of the particle generator experiments folder\n",
    "exp_root = \"/media/hdd1/kai/particle_generator/experiments/\""
   ]
  },
  {
   "cell_type": "code",
   "execution_count": 4,
   "metadata": {},
   "outputs": [],
   "source": [
    "# Set the path where the code_vector target data are stored\n",
    "code_root = \"/media/hdd1/kai/particle_generator/code_vectors/\""
   ]
  },
  {
   "cell_type": "code",
   "execution_count": 5,
   "metadata": {},
   "outputs": [
    {
     "name": "stdout",
     "output_type": "stream",
     "text": [
      "Code vector targets will be loaded from: \n",
      "/media/hdd1/kai/particle_generator/code_vectors/code_vectors_64_20/code_vectors_64_20/\n"
     ]
    }
   ],
   "source": [
    "# Append the particular code_vector dataset\n",
    "im_dim = 64; l_dim = 20\n",
    "train_root = code_root + \"code_vectors_{}_{}/code_vectors_{}_{}/\".format(im_dim, l_dim, im_dim, l_dim)\n",
    "print(\"Code vector targets will be loaded from: \\n{}\".format(train_root))"
   ]
  },
  {
   "cell_type": "code",
   "execution_count": 6,
   "metadata": {},
   "outputs": [
    {
     "name": "stdout",
     "output_type": "stream",
     "text": [
      "Code vector target dataset size: 53943\n"
     ]
    }
   ],
   "source": [
    "dset_size = sum( [len(examples) for _, _, examples in os.walk(train_root)] )\n",
    "print(\"Code vector target dataset size: {}\".format(dset_size))"
   ]
  },
  {
   "cell_type": "code",
   "execution_count": 7,
   "metadata": {},
   "outputs": [
    {
     "name": "stdout",
     "output_type": "stream",
     "text": [
      "Code-Target examples will be loaded from subfolder of: /media/hdd1/kai/particle_generator/code_vectors/code_vectors_64_20/code_vectors_64_20/\n"
     ]
    }
   ],
   "source": [
    "# Set up the torch dataloader\n",
    "gpu = 1\n",
    "loader_kwargs = {'num_workers' : 1, 'batch_size': dset_size, 'shuffle': True, 'drop_last': True}\n",
    "train_transform = transforms.Compose([ transforms.ToTensor() ]) \n",
    "test_dataset = BottleLoader(root = train_root, transforms=train_transform)"
   ]
  },
  {
   "cell_type": "code",
   "execution_count": 8,
   "metadata": {},
   "outputs": [],
   "source": [
    "dataloader = DataLoader(test_dataset, **loader_kwargs)"
   ]
  },
  {
   "cell_type": "code",
   "execution_count": 9,
   "metadata": {},
   "outputs": [],
   "source": [
    "def bigbatch(dataloader):\n",
    "    for data in dataloader:\n",
    "        return data\n",
    "dataloader = bigbatch(dataloader)"
   ]
  },
  {
   "cell_type": "code",
   "execution_count": 10,
   "metadata": {},
   "outputs": [],
   "source": [
    "dataloader = dataloader.to(gpu)"
   ]
  },
  {
   "cell_type": "code",
   "execution_count": 14,
   "metadata": {},
   "outputs": [
    {
     "name": "stdout",
     "output_type": "stream",
     "text": [
      "<class 'torch.Tensor'>\n",
      "torch.Size([53943, 1, 1, 20])\n",
      "torch.Size([53943, 20])\n"
     ]
    }
   ],
   "source": [
    "print(type(dataloader))\n",
    "print(dataloader.shape)\n",
    "print(dataloader.view(dset_size, -1).shape)"
   ]
  },
  {
   "cell_type": "code",
   "execution_count": null,
   "metadata": {},
   "outputs": [],
   "source": []
  }
 ],
 "metadata": {
  "kernelspec": {
   "display_name": "Python 3",
   "language": "python",
   "name": "python3"
  },
  "language_info": {
   "codemirror_mode": {
    "name": "ipython",
    "version": 3
   },
   "file_extension": ".py",
   "mimetype": "text/x-python",
   "name": "python",
   "nbconvert_exporter": "python",
   "pygments_lexer": "ipython3",
   "version": "3.5.2"
  }
 },
 "nbformat": 4,
 "nbformat_minor": 2
}
