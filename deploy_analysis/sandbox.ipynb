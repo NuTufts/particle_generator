{
 "cells": [
  {
   "cell_type": "code",
   "execution_count": 4,
   "metadata": {},
   "outputs": [],
   "source": [
    "import torch\n",
    "import matplotlib.pyplot as plt\n",
    "%matplotlib inline\n",
    "import sys\n",
    "sys.path.insert(1, '/Users/kseuro/Dropbox/Academics/Research/senior_thesis/particle_generator/')\n",
    "from ewm import ewm_convG as G"
   ]
  },
  {
   "cell_type": "code",
   "execution_count": 17,
   "metadata": {},
   "outputs": [],
   "source": [
    "def ewm_kwargs(config):\n",
    "    '''\n",
    "        Create a dictionary of key word arguments for a generator model\n",
    "        that will be trained to replicate a set of code_vector targets\n",
    "\n",
    "        - 'dataset' key corresponds to the integer size of the\n",
    "          code_vector dimension.\n",
    "    '''\n",
    "    ewm_kwargs = {}\n",
    "    if config['MNIST']:\n",
    "        raise Exception(\"EWM model is not set up to train on MNIST data ... sorry\")\n",
    "    code_size = config['l_dim']\n",
    "    if config['model'] == 'ewm_conv':\n",
    "        depth   = [config['depth']] * config['n_layers'] # [32, 32, 32, 32]\n",
    "        divisor = lambda: [ (yield 2**i) for i in range(config['n_layers']) ]\n",
    "        depth   = [a//b for a,b in zip(depth, [*divisor()])][::-1] # [4, 8, 16, 32]\n",
    "        ewm_kwargs.update( { 'l_dim'     : code_size,\n",
    "                             'dec_sizes' : depth[1:len(depth)][::-1] + [1],\n",
    "                             'im_size'   : config['dataset'] } )\n",
    "    else:\n",
    "        # Creat list of sizes corresponding to the individual\n",
    "        # fully connected layers in the model\n",
    "        # e.g. n_hidden = 10, nlayers = 4, fc_sizes = [10,10,10,10]\n",
    "        fc_sizes = [config['n_hidden']] * config['n_layers']\n",
    "\n",
    "        ewm_kwargs.update({ 'z_dim'      : config['z_dim'],\n",
    "                            'fc_sizes'   : fc_sizes,\n",
    "                            'n_out'      : code_size })\n",
    "    return ewm_kwargs"
   ]
  },
  {
   "cell_type": "code",
   "execution_count": 26,
   "metadata": {},
   "outputs": [],
   "source": [
    "config = {'l_dim':6, 'depth':32, 'n_layers':3, 'dataset':64, 'MNIST':False, 'model':'ewm_conv'}"
   ]
  },
  {
   "cell_type": "code",
   "execution_count": 27,
   "metadata": {},
   "outputs": [],
   "source": [
    "kwargs = ewm_kwargs(config)"
   ]
  },
  {
   "cell_type": "code",
   "execution_count": 28,
   "metadata": {},
   "outputs": [
    {
     "data": {
      "text/plain": [
       "{'l_dim': 6, 'dec_sizes': [32, 16, 1], 'im_size': 64}"
      ]
     },
     "execution_count": 28,
     "metadata": {},
     "output_type": "execute_result"
    }
   ],
   "source": [
    "kwargs"
   ]
  },
  {
   "cell_type": "code",
   "execution_count": 29,
   "metadata": {},
   "outputs": [],
   "source": [
    "net = G(**kwargs)"
   ]
  },
  {
   "cell_type": "code",
   "execution_count": 30,
   "metadata": {},
   "outputs": [
    {
     "data": {
      "text/plain": [
       "ewm_convG(\n",
       "  (main): Sequential(\n",
       "    (0): Sequential(\n",
       "      (0): ConvTranspose2d(6, 32, kernel_size=(2, 2), stride=(2, 2))\n",
       "      (1): LeakyReLU(negative_slope=0.2)\n",
       "    )\n",
       "    (1): Sequential(\n",
       "      (0): ConvTranspose2d(32, 16, kernel_size=(2, 2), stride=(2, 2))\n",
       "      (1): LeakyReLU(negative_slope=0.2)\n",
       "    )\n",
       "    (2): Sequential(\n",
       "      (0): ConvTranspose2d(16, 1, kernel_size=(2, 2), stride=(2, 2))\n",
       "      (1): LeakyReLU(negative_slope=0.2)\n",
       "    )\n",
       "  )\n",
       ")"
      ]
     },
     "execution_count": 30,
     "metadata": {},
     "output_type": "execute_result"
    }
   ],
   "source": [
    "net"
   ]
  },
  {
   "cell_type": "code",
   "execution_count": 47,
   "metadata": {},
   "outputs": [],
   "source": [
    "input = torch.randn(384).view(1, 6, 8, 8)"
   ]
  },
  {
   "cell_type": "code",
   "execution_count": 48,
   "metadata": {},
   "outputs": [],
   "source": [
    "output = net(input)"
   ]
  },
  {
   "cell_type": "code",
   "execution_count": 49,
   "metadata": {},
   "outputs": [
    {
     "data": {
      "text/plain": [
       "torch.Size([1, 1, 64, 64])"
      ]
     },
     "execution_count": 49,
     "metadata": {},
     "output_type": "execute_result"
    }
   ],
   "source": [
    "output.shape"
   ]
  },
  {
   "cell_type": "code",
   "execution_count": 50,
   "metadata": {},
   "outputs": [],
   "source": [
    "img = output.view(64, 64).detach().numpy()"
   ]
  },
  {
   "cell_type": "code",
   "execution_count": 52,
   "metadata": {},
   "outputs": [
    {
     "data": {
      "text/plain": [
       "<matplotlib.image.AxesImage at 0x11cf58c90>"
      ]
     },
     "execution_count": 52,
     "metadata": {},
     "output_type": "execute_result"
    },
    {
     "data": {
      "image/png": "[encoded data removed]",
      "text/plain": [
       "<Figure size 432x288 with 1 Axes>"
      ]
     },
     "metadata": {
      "needs_background": "light"
     },
     "output_type": "display_data"
    }
   ],
   "source": [
    "plt.imshow(img, cmap='gray')"
   ]
  },
  {
   "cell_type": "code",
   "execution_count": null,
   "metadata": {},
   "outputs": [],
   "source": []
  }
 ],
 "metadata": {
  "kernelspec": {
   "display_name": "Python 3",
   "language": "python",
   "name": "python3"
  },
  "language_info": {
   "codemirror_mode": {
    "name": "ipython",
    "version": 3
   },
   "file_extension": ".py",
   "mimetype": "text/x-python",
   "name": "python",
   "nbconvert_exporter": "python",
   "pygments_lexer": "ipython3",
   "version": "3.7.4"
  }
 },
 "nbformat": 4,
 "nbformat_minor": 4
}
